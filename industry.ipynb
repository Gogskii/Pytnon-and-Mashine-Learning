{
 "cells": [
  {
   "cell_type": "markdown",
   "id": "f3b96ffc",
   "metadata": {},
   "source": [
    "# Project: Model for determining the temperature of steel."
   ]
  },
  {
   "cell_type": "markdown",
   "id": "2c6b96ff",
   "metadata": {},
   "source": [
    "The condition of the task of increasing the volume of production costs, the metallurgical plant \"Temper Steel\" decided to reduce the consumption of electricity for steel processing. You have to build a steel model that will predict the temperature.\n",
    "\n",
    "Description of processing processes.\n",
    "Steel processing in a metal ladle with a capacity of about 100 tons. In order for the ladle to withstand high temperatures, it is covered with refractory bricks from the inside. Molten steel is poured into the boiler and heated to the required temperature with graphite electrodes. They are installed in the lid of the bucket.\n",
    "\n",
    "Sulfur is removed from the alloy (desulfurization), the chemical composition is corrected by adding impurities, and samples are taken. Steel is alloyed - its composition is changed - by feeding pieces of alloy from a bunker for bulk materials or wire through a special tribe apparatus.\n",
    "\n",
    "Before introducing alloying additives for the first time, the temperature of the steel is measured and its chemical analysis is carried out. Then the temperature is raised for several minutes, alloying materials are added and the alloy is purged with an inert gas. Then it is stirred and measured again. This cycle is repeated until the target chemical composition and optimum melting temperature are reached.\n",
    "\n",
    "\n",
    "Then the molten steel is sent to finish the metal or enters the continuous casting machine. From there, the finished product comes out in the form of slab blanks (English slab, “slab”).\n",
    "\n",
    "Data Description\n",
    "The data consists of files obtained from various sources:\n",
    "\n",
    "* data_arc.csv — electrode data;\n",
    "* data_bulk.csv — bulk material feed data (volume);\n",
    "* data_bulk_time.csv — bulk material feed data (time);\n",
    "* data_gas.csv — alloy gas purge data;\n",
    "* data_temp.csv — temperature measurement results;\n",
    "* data_wire.csv — wire materials data (volume);\n",
    "* data_wire_time.csv — wire material data (time)."
   ]
  },
  {
   "cell_type": "code",
   "execution_count": 1,
   "id": "c2738858",
   "metadata": {},
   "outputs": [],
   "source": [
    "#imports\n",
    "\n",
    "import pandas as pd\n",
    "import numpy as np\n",
    "import matplotlib.pyplot as plt\n",
    "import seaborn as sns\n",
    "import functools as ft\n",
    "\n",
    "from sklearn.model_selection import train_test_split, cross_val_score\n",
    "from sklearn.linear_model import LinearRegression\n",
    "from sklearn.ensemble import RandomForestRegressor\n",
    "from sklearn.metrics import mean_absolute_error, make_scorer\n",
    "from sklearn.model_selection import GridSearchCV\n",
    "from catboost import CatBoostRegressor\n",
    "from lightgbm import LGBMRegressor\n",
    "from sklearn.tree import DecisionTreeRegressor\n",
    "from xgboost import XGBRegressor"
   ]
  },
  {
   "cell_type": "code",
   "execution_count": 2,
   "id": "2ec39f98",
   "metadata": {},
   "outputs": [],
   "source": [
    "electrods = pd.read_csv('C:/fails_for_pyton/final_steel/data_arc.csv')\n",
    "bulk_materials_volume = pd.read_csv('C:/fails_for_pyton/final_steel/data_bulk.csv')\n",
    "bulk_materials_time = pd.read_csv('C:/fails_for_pyton/final_steel/data_bulk_time.csv')\n",
    "expultion_gas = pd.read_csv('C:/fails_for_pyton/final_steel/data_gas.csv')\n",
    "temperature = pd.read_csv('C:/fails_for_pyton/final_steel/data_temp.csv')\n",
    "wire_materials_volume = pd.read_csv('C:/fails_for_pyton/final_steel/data_wire.csv')\n",
    "wire_materials_time = pd.read_csv('C:/fails_for_pyton/final_steel/data_wire_time.csv')"
   ]
  },
  {
   "cell_type": "markdown",
   "id": "19846feb",
   "metadata": {},
   "source": [
    "# 1. Data analysis and preprocessing"
   ]
  },
  {
   "cell_type": "markdown",
   "id": "00079478",
   "metadata": {},
   "source": [
    "## 1.1. Analysis and processing of electrode data"
   ]
  },
  {
   "cell_type": "code",
   "execution_count": 3,
   "id": "b4bbf9b8",
   "metadata": {},
   "outputs": [
    {
     "name": "stdout",
     "output_type": "stream",
     "text": [
      "<class 'pandas.core.frame.DataFrame'>\n",
      "RangeIndex: 14876 entries, 0 to 14875\n",
      "Data columns (total 5 columns):\n",
      " #   Column                Non-Null Count  Dtype  \n",
      "---  ------                --------------  -----  \n",
      " 0   key                   14876 non-null  int64  \n",
      " 1   start_of_arc_heating  14876 non-null  object \n",
      " 2   end_of_arc_heating    14876 non-null  object \n",
      " 3   active_power          14876 non-null  float64\n",
      " 4   reactive_power        14876 non-null  float64\n",
      "dtypes: float64(2), int64(1), object(2)\n",
      "memory usage: 581.2+ KB\n"
     ]
    },
    {
     "data": {
      "text/html": [
       "<div>\n",
       "<style scoped>\n",
       "    .dataframe tbody tr th:only-of-type {\n",
       "        vertical-align: middle;\n",
       "    }\n",
       "\n",
       "    .dataframe tbody tr th {\n",
       "        vertical-align: top;\n",
       "    }\n",
       "\n",
       "    .dataframe thead th {\n",
       "        text-align: right;\n",
       "    }\n",
       "</style>\n",
       "<table border=\"1\" class=\"dataframe\">\n",
       "  <thead>\n",
       "    <tr style=\"text-align: right;\">\n",
       "      <th></th>\n",
       "      <th>key</th>\n",
       "      <th>start_of_arc_heating</th>\n",
       "      <th>end_of_arc_heating</th>\n",
       "      <th>active_power</th>\n",
       "      <th>reactive_power</th>\n",
       "    </tr>\n",
       "  </thead>\n",
       "  <tbody>\n",
       "    <tr>\n",
       "      <th>0</th>\n",
       "      <td>1</td>\n",
       "      <td>2019-05-03 11:02:14</td>\n",
       "      <td>2019-05-03 11:06:02</td>\n",
       "      <td>0.976059</td>\n",
       "      <td>0.687084</td>\n",
       "    </tr>\n",
       "    <tr>\n",
       "      <th>1</th>\n",
       "      <td>1</td>\n",
       "      <td>2019-05-03 11:07:28</td>\n",
       "      <td>2019-05-03 11:10:33</td>\n",
       "      <td>0.805607</td>\n",
       "      <td>0.520285</td>\n",
       "    </tr>\n",
       "    <tr>\n",
       "      <th>2</th>\n",
       "      <td>1</td>\n",
       "      <td>2019-05-03 11:11:44</td>\n",
       "      <td>2019-05-03 11:14:36</td>\n",
       "      <td>0.744363</td>\n",
       "      <td>0.498805</td>\n",
       "    </tr>\n",
       "    <tr>\n",
       "      <th>3</th>\n",
       "      <td>1</td>\n",
       "      <td>2019-05-03 11:18:14</td>\n",
       "      <td>2019-05-03 11:24:19</td>\n",
       "      <td>1.659363</td>\n",
       "      <td>1.062669</td>\n",
       "    </tr>\n",
       "    <tr>\n",
       "      <th>4</th>\n",
       "      <td>1</td>\n",
       "      <td>2019-05-03 11:26:09</td>\n",
       "      <td>2019-05-03 11:28:37</td>\n",
       "      <td>0.692755</td>\n",
       "      <td>0.414397</td>\n",
       "    </tr>\n",
       "    <tr>\n",
       "      <th>5</th>\n",
       "      <td>2</td>\n",
       "      <td>2019-05-03 11:34:14</td>\n",
       "      <td>2019-05-03 11:36:31</td>\n",
       "      <td>0.438063</td>\n",
       "      <td>0.283043</td>\n",
       "    </tr>\n",
       "    <tr>\n",
       "      <th>6</th>\n",
       "      <td>2</td>\n",
       "      <td>2019-05-03 11:38:50</td>\n",
       "      <td>2019-05-03 11:44:28</td>\n",
       "      <td>1.296415</td>\n",
       "      <td>0.892914</td>\n",
       "    </tr>\n",
       "    <tr>\n",
       "      <th>7</th>\n",
       "      <td>2</td>\n",
       "      <td>2019-05-03 11:46:19</td>\n",
       "      <td>2019-05-03 11:48:25</td>\n",
       "      <td>0.490377</td>\n",
       "      <td>0.305281</td>\n",
       "    </tr>\n",
       "    <tr>\n",
       "      <th>8</th>\n",
       "      <td>2</td>\n",
       "      <td>2019-05-03 11:49:48</td>\n",
       "      <td>2019-05-03 11:53:18</td>\n",
       "      <td>0.827743</td>\n",
       "      <td>0.516874</td>\n",
       "    </tr>\n",
       "    <tr>\n",
       "      <th>9</th>\n",
       "      <td>3</td>\n",
       "      <td>2019-05-03 12:06:54</td>\n",
       "      <td>2019-05-03 12:11:34</td>\n",
       "      <td>1.062053</td>\n",
       "      <td>0.671494</td>\n",
       "    </tr>\n",
       "  </tbody>\n",
       "</table>\n",
       "</div>"
      ],
      "text/plain": [
       "   key start_of_arc_heating   end_of_arc_heating  active_power  reactive_power\n",
       "0    1  2019-05-03 11:02:14  2019-05-03 11:06:02      0.976059        0.687084\n",
       "1    1  2019-05-03 11:07:28  2019-05-03 11:10:33      0.805607        0.520285\n",
       "2    1  2019-05-03 11:11:44  2019-05-03 11:14:36      0.744363        0.498805\n",
       "3    1  2019-05-03 11:18:14  2019-05-03 11:24:19      1.659363        1.062669\n",
       "4    1  2019-05-03 11:26:09  2019-05-03 11:28:37      0.692755        0.414397\n",
       "5    2  2019-05-03 11:34:14  2019-05-03 11:36:31      0.438063        0.283043\n",
       "6    2  2019-05-03 11:38:50  2019-05-03 11:44:28      1.296415        0.892914\n",
       "7    2  2019-05-03 11:46:19  2019-05-03 11:48:25      0.490377        0.305281\n",
       "8    2  2019-05-03 11:49:48  2019-05-03 11:53:18      0.827743        0.516874\n",
       "9    3  2019-05-03 12:06:54  2019-05-03 12:11:34      1.062053        0.671494"
      ]
     },
     "metadata": {},
     "output_type": "display_data"
    }
   ],
   "source": [
    "# output of general information on electrodes and the first 10 rows of the table\n",
    "electrods = electrods.rename(columns={'Начало нагрева дугой': 'start_of_arc_heating',\n",
    "                                     'Конец нагрева дугой': 'end_of_arc_heating',\n",
    "                                     'Активная мощность': 'active_power',\n",
    "                                     'Реактивная мощность': 'reactive_power'})\n",
    "electrods.info()\n",
    "display(electrods.head(10))"
   ]
  },
  {
   "cell_type": "markdown",
   "id": "1fc55af8",
   "metadata": {},
   "source": [
    "There are no gaps in the columns, check for anomalies\n"
   ]
  },
  {
   "cell_type": "markdown",
   "id": "f956848a",
   "metadata": {},
   "source": [
    "We derive general statistical information, construct histograms and a box with a mustache for a column with active power."
   ]
  },
  {
   "cell_type": "code",
   "execution_count": 4,
   "id": "41eccf63",
   "metadata": {},
   "outputs": [
    {
     "data": {
      "text/plain": [
       "count    14876.000000\n",
       "mean         0.670441\n",
       "std          0.408159\n",
       "min          0.030002\n",
       "25%          0.395297\n",
       "50%          0.555517\n",
       "75%          0.857034\n",
       "max          3.731596\n",
       "Name: active_power, dtype: float64"
      ]
     },
     "execution_count": 4,
     "metadata": {},
     "output_type": "execute_result"
    }
   ],
   "source": [
    "electrods['active_power'].describe()"
   ]
  },
  {
   "cell_type": "code",
   "execution_count": 5,
   "id": "657b955c",
   "metadata": {},
   "outputs": [
    {
     "data": {
      "image/png": "[encoded data removed]",
      "text/plain": [
       "<Figure size 432x288 with 1 Axes>"
      ]
     },
     "metadata": {
      "needs_background": "light"
     },
     "output_type": "display_data"
    }
   ],
   "source": [
    "electrods.boxplot('active_power')\n",
    "plt.title('Active power distribution')\n",
    "plt.ylabel('Number of capacities')\n",
    "plt.show()"
   ]
  },
  {
   "cell_type": "code",
   "execution_count": 6,
   "id": "27573dc6",
   "metadata": {},
   "outputs": [
    {
     "data": {
      "image/png": "[encoded data removed]",
      "text/plain": [
       "<Figure size 720x576 with 1 Axes>"
      ]
     },
     "metadata": {
      "needs_background": "light"
     },
     "output_type": "display_data"
    }
   ],
   "source": [
    "electrods['active_power'].hist(bins=50, figsize=(10,8))\n",
    "plt.title('Active power distribution')\n",
    "plt.xlabel('Active power')\n",
    "plt.ylabel('Number of capacities')\n",
    "plt.show()"
   ]
  },
  {
   "cell_type": "markdown",
   "id": "5379b996",
   "metadata": {},
   "source": [
    "Conclusion: the average value of active power is greater than the median value. On the histogram and the box with a mustache we have outliers above 1.5, but such values may exist in reality. These values should be left other the model may turn out to be too optimistic."
   ]
  },
  {
   "cell_type": "markdown",
   "id": "ea8077c3",
   "metadata": {},
   "source": [
    "We derive general statistical information, construct histograms and a box with a mustache for a column with reactive power."
   ]
  },
  {
   "cell_type": "code",
   "execution_count": 7,
   "id": "bdc7961c",
   "metadata": {},
   "outputs": [
    {
     "data": {
      "text/plain": [
       "count    14876.000000\n",
       "mean         0.452592\n",
       "std          5.878702\n",
       "min       -715.504924\n",
       "25%          0.290991\n",
       "50%          0.415962\n",
       "75%          0.637371\n",
       "max          2.676388\n",
       "Name: reactive_power, dtype: float64"
      ]
     },
     "execution_count": 7,
     "metadata": {},
     "output_type": "execute_result"
    }
   ],
   "source": [
    "electrods['reactive_power'].describe()"
   ]
  },
  {
   "cell_type": "code",
   "execution_count": 8,
   "id": "89728c72",
   "metadata": {},
   "outputs": [
    {
     "data": {
      "image/png": "[encoded data removed]",
      "text/plain": [
       "<Figure size 432x288 with 1 Axes>"
      ]
     },
     "metadata": {
      "needs_background": "light"
     },
     "output_type": "display_data"
    }
   ],
   "source": [
    "electrods.boxplot('reactive_power')\n",
    "plt.title('Reactive power distribution')\n",
    "plt.ylabel('Number of capacities')\n",
    "plt.show()"
   ]
  },
  {
   "cell_type": "markdown",
   "id": "7266fad5",
   "metadata": {},
   "source": [
    "There is one large negative anomalous value. It should be removed.\n"
   ]
  },
  {
   "cell_type": "code",
   "execution_count": 9,
   "id": "408ebbc6",
   "metadata": {},
   "outputs": [
    {
     "name": "stdout",
     "output_type": "stream",
     "text": [
      "count    14875.000000\n",
      "mean         0.500723\n",
      "std          0.310880\n",
      "min          0.020806\n",
      "25%          0.291003\n",
      "50%          0.415984\n",
      "75%          0.637403\n",
      "max          2.676388\n",
      "Name: reactive_power, dtype: float64\n"
     ]
    }
   ],
   "source": [
    "print(electrods[electrods['reactive_power'] > 0]['reactive_power'].describe())"
   ]
  },
  {
   "cell_type": "code",
   "execution_count": 10,
   "id": "8f4a0659",
   "metadata": {
    "scrolled": true
   },
   "outputs": [
    {
     "data": {
      "text/plain": [
       "<AxesSubplot:>"
      ]
     },
     "execution_count": 10,
     "metadata": {},
     "output_type": "execute_result"
    },
    {
     "data": {
      "image/png": "[encoded data removed]",
      "text/plain": [
       "<Figure size 720x576 with 1 Axes>"
      ]
     },
     "metadata": {
      "needs_background": "light"
     },
     "output_type": "display_data"
    }
   ],
   "source": [
    "electrods[electrods['reactive_power'] > 0]['reactive_power'].hist(bins=50, figsize=(10,8))"
   ]
  },
  {
   "cell_type": "code",
   "execution_count": 11,
   "id": "b8db341b",
   "metadata": {
    "scrolled": true
   },
   "outputs": [
    {
     "name": "stdout",
     "output_type": "stream",
     "text": [
      "0.9631819131519802\n"
     ]
    }
   ],
   "source": [
    "# Let's find the correlation between powers\n",
    "print(electrods['active_power'].corr(electrods[electrods['reactive_power'] > 0]['reactive_power']))"
   ]
  },
  {
   "cell_type": "markdown",
   "id": "0d962255",
   "metadata": {},
   "source": [
    "Conclusion: The correlations between powers are very good.\n"
   ]
  },
  {
   "cell_type": "code",
   "execution_count": 12,
   "id": "2b13d70a",
   "metadata": {},
   "outputs": [
    {
     "data": {
      "text/plain": [
       "3214"
      ]
     },
     "execution_count": 12,
     "metadata": {},
     "output_type": "execute_result"
    }
   ],
   "source": [
    "# Find the number of unique keys\n",
    "len(electrods['key'].unique())"
   ]
  },
  {
   "cell_type": "markdown",
   "id": "7515af50",
   "metadata": {},
   "source": [
    "## 1.2. Analysis and processing of data on the supply of bulk materials"
   ]
  },
  {
   "cell_type": "code",
   "execution_count": 13,
   "id": "f431beda",
   "metadata": {
    "scrolled": true
   },
   "outputs": [
    {
     "name": "stdout",
     "output_type": "stream",
     "text": [
      "<class 'pandas.core.frame.DataFrame'>\n",
      "RangeIndex: 3129 entries, 0 to 3128\n",
      "Data columns (total 16 columns):\n",
      " #   Column   Non-Null Count  Dtype  \n",
      "---  ------   --------------  -----  \n",
      " 0   key      3129 non-null   int64  \n",
      " 1   Bulk 1   252 non-null    float64\n",
      " 2   Bulk 2   22 non-null     float64\n",
      " 3   Bulk 3   1298 non-null   float64\n",
      " 4   Bulk 4   1014 non-null   float64\n",
      " 5   Bulk 5   77 non-null     float64\n",
      " 6   Bulk 6   576 non-null    float64\n",
      " 7   Bulk 7   25 non-null     float64\n",
      " 8   Bulk 8   1 non-null      float64\n",
      " 9   Bulk 9   19 non-null     float64\n",
      " 10  Bulk 10  176 non-null    float64\n",
      " 11  Bulk 11  177 non-null    float64\n",
      " 12  Bulk 12  2450 non-null   float64\n",
      " 13  Bulk 13  18 non-null     float64\n",
      " 14  Bulk 14  2806 non-null   float64\n",
      " 15  Bulk 15  2248 non-null   float64\n",
      "dtypes: float64(15), int64(1)\n",
      "memory usage: 391.2 KB\n"
     ]
    },
    {
     "data": {
      "text/html": [
       "<div>\n",
       "<style scoped>\n",
       "    .dataframe tbody tr th:only-of-type {\n",
       "        vertical-align: middle;\n",
       "    }\n",
       "\n",
       "    .dataframe tbody tr th {\n",
       "        vertical-align: top;\n",
       "    }\n",
       "\n",
       "    .dataframe thead th {\n",
       "        text-align: right;\n",
       "    }\n",
       "</style>\n",
       "<table border=\"1\" class=\"dataframe\">\n",
       "  <thead>\n",
       "    <tr style=\"text-align: right;\">\n",
       "      <th></th>\n",
       "      <th>key</th>\n",
       "      <th>Bulk 1</th>\n",
       "      <th>Bulk 2</th>\n",
       "      <th>Bulk 3</th>\n",
       "      <th>Bulk 4</th>\n",
       "      <th>Bulk 5</th>\n",
       "      <th>Bulk 6</th>\n",
       "      <th>Bulk 7</th>\n",
       "      <th>Bulk 8</th>\n",
       "      <th>Bulk 9</th>\n",
       "      <th>Bulk 10</th>\n",
       "      <th>Bulk 11</th>\n",
       "      <th>Bulk 12</th>\n",
       "      <th>Bulk 13</th>\n",
       "      <th>Bulk 14</th>\n",
       "      <th>Bulk 15</th>\n",
       "    </tr>\n",
       "  </thead>\n",
       "  <tbody>\n",
       "    <tr>\n",
       "      <th>0</th>\n",
       "      <td>1</td>\n",
       "      <td>NaN</td>\n",
       "      <td>NaN</td>\n",
       "      <td>NaN</td>\n",
       "      <td>43.0</td>\n",
       "      <td>NaN</td>\n",
       "      <td>NaN</td>\n",
       "      <td>NaN</td>\n",
       "      <td>NaN</td>\n",
       "      <td>NaN</td>\n",
       "      <td>NaN</td>\n",
       "      <td>NaN</td>\n",
       "      <td>206.0</td>\n",
       "      <td>NaN</td>\n",
       "      <td>150.0</td>\n",
       "      <td>154.0</td>\n",
       "    </tr>\n",
       "    <tr>\n",
       "      <th>1</th>\n",
       "      <td>2</td>\n",
       "      <td>NaN</td>\n",
       "      <td>NaN</td>\n",
       "      <td>NaN</td>\n",
       "      <td>73.0</td>\n",
       "      <td>NaN</td>\n",
       "      <td>NaN</td>\n",
       "      <td>NaN</td>\n",
       "      <td>NaN</td>\n",
       "      <td>NaN</td>\n",
       "      <td>NaN</td>\n",
       "      <td>NaN</td>\n",
       "      <td>206.0</td>\n",
       "      <td>NaN</td>\n",
       "      <td>149.0</td>\n",
       "      <td>154.0</td>\n",
       "    </tr>\n",
       "    <tr>\n",
       "      <th>2</th>\n",
       "      <td>3</td>\n",
       "      <td>NaN</td>\n",
       "      <td>NaN</td>\n",
       "      <td>NaN</td>\n",
       "      <td>34.0</td>\n",
       "      <td>NaN</td>\n",
       "      <td>NaN</td>\n",
       "      <td>NaN</td>\n",
       "      <td>NaN</td>\n",
       "      <td>NaN</td>\n",
       "      <td>NaN</td>\n",
       "      <td>NaN</td>\n",
       "      <td>205.0</td>\n",
       "      <td>NaN</td>\n",
       "      <td>152.0</td>\n",
       "      <td>153.0</td>\n",
       "    </tr>\n",
       "    <tr>\n",
       "      <th>3</th>\n",
       "      <td>4</td>\n",
       "      <td>NaN</td>\n",
       "      <td>NaN</td>\n",
       "      <td>NaN</td>\n",
       "      <td>81.0</td>\n",
       "      <td>NaN</td>\n",
       "      <td>NaN</td>\n",
       "      <td>NaN</td>\n",
       "      <td>NaN</td>\n",
       "      <td>NaN</td>\n",
       "      <td>NaN</td>\n",
       "      <td>NaN</td>\n",
       "      <td>207.0</td>\n",
       "      <td>NaN</td>\n",
       "      <td>153.0</td>\n",
       "      <td>154.0</td>\n",
       "    </tr>\n",
       "    <tr>\n",
       "      <th>4</th>\n",
       "      <td>5</td>\n",
       "      <td>NaN</td>\n",
       "      <td>NaN</td>\n",
       "      <td>NaN</td>\n",
       "      <td>78.0</td>\n",
       "      <td>NaN</td>\n",
       "      <td>NaN</td>\n",
       "      <td>NaN</td>\n",
       "      <td>NaN</td>\n",
       "      <td>NaN</td>\n",
       "      <td>NaN</td>\n",
       "      <td>NaN</td>\n",
       "      <td>203.0</td>\n",
       "      <td>NaN</td>\n",
       "      <td>151.0</td>\n",
       "      <td>152.0</td>\n",
       "    </tr>\n",
       "    <tr>\n",
       "      <th>5</th>\n",
       "      <td>6</td>\n",
       "      <td>NaN</td>\n",
       "      <td>NaN</td>\n",
       "      <td>NaN</td>\n",
       "      <td>117.0</td>\n",
       "      <td>NaN</td>\n",
       "      <td>NaN</td>\n",
       "      <td>NaN</td>\n",
       "      <td>NaN</td>\n",
       "      <td>NaN</td>\n",
       "      <td>NaN</td>\n",
       "      <td>NaN</td>\n",
       "      <td>204.0</td>\n",
       "      <td>NaN</td>\n",
       "      <td>201.0</td>\n",
       "      <td>154.0</td>\n",
       "    </tr>\n",
       "    <tr>\n",
       "      <th>6</th>\n",
       "      <td>7</td>\n",
       "      <td>NaN</td>\n",
       "      <td>NaN</td>\n",
       "      <td>NaN</td>\n",
       "      <td>117.0</td>\n",
       "      <td>NaN</td>\n",
       "      <td>NaN</td>\n",
       "      <td>NaN</td>\n",
       "      <td>NaN</td>\n",
       "      <td>NaN</td>\n",
       "      <td>NaN</td>\n",
       "      <td>NaN</td>\n",
       "      <td>204.0</td>\n",
       "      <td>NaN</td>\n",
       "      <td>152.0</td>\n",
       "      <td>154.0</td>\n",
       "    </tr>\n",
       "    <tr>\n",
       "      <th>7</th>\n",
       "      <td>8</td>\n",
       "      <td>NaN</td>\n",
       "      <td>NaN</td>\n",
       "      <td>NaN</td>\n",
       "      <td>99.0</td>\n",
       "      <td>NaN</td>\n",
       "      <td>NaN</td>\n",
       "      <td>NaN</td>\n",
       "      <td>NaN</td>\n",
       "      <td>NaN</td>\n",
       "      <td>NaN</td>\n",
       "      <td>NaN</td>\n",
       "      <td>410.0</td>\n",
       "      <td>NaN</td>\n",
       "      <td>252.0</td>\n",
       "      <td>153.0</td>\n",
       "    </tr>\n",
       "    <tr>\n",
       "      <th>8</th>\n",
       "      <td>9</td>\n",
       "      <td>NaN</td>\n",
       "      <td>NaN</td>\n",
       "      <td>NaN</td>\n",
       "      <td>117.0</td>\n",
       "      <td>NaN</td>\n",
       "      <td>NaN</td>\n",
       "      <td>NaN</td>\n",
       "      <td>NaN</td>\n",
       "      <td>NaN</td>\n",
       "      <td>NaN</td>\n",
       "      <td>NaN</td>\n",
       "      <td>107.0</td>\n",
       "      <td>NaN</td>\n",
       "      <td>99.0</td>\n",
       "      <td>203.0</td>\n",
       "    </tr>\n",
       "    <tr>\n",
       "      <th>9</th>\n",
       "      <td>10</td>\n",
       "      <td>NaN</td>\n",
       "      <td>NaN</td>\n",
       "      <td>NaN</td>\n",
       "      <td>NaN</td>\n",
       "      <td>NaN</td>\n",
       "      <td>NaN</td>\n",
       "      <td>NaN</td>\n",
       "      <td>NaN</td>\n",
       "      <td>NaN</td>\n",
       "      <td>NaN</td>\n",
       "      <td>NaN</td>\n",
       "      <td>203.0</td>\n",
       "      <td>NaN</td>\n",
       "      <td>102.0</td>\n",
       "      <td>204.0</td>\n",
       "    </tr>\n",
       "  </tbody>\n",
       "</table>\n",
       "</div>"
      ],
      "text/plain": [
       "   key  Bulk 1  Bulk 2  Bulk 3  Bulk 4  Bulk 5  Bulk 6  Bulk 7  Bulk 8  \\\n",
       "0    1     NaN     NaN     NaN    43.0     NaN     NaN     NaN     NaN   \n",
       "1    2     NaN     NaN     NaN    73.0     NaN     NaN     NaN     NaN   \n",
       "2    3     NaN     NaN     NaN    34.0     NaN     NaN     NaN     NaN   \n",
       "3    4     NaN     NaN     NaN    81.0     NaN     NaN     NaN     NaN   \n",
       "4    5     NaN     NaN     NaN    78.0     NaN     NaN     NaN     NaN   \n",
       "5    6     NaN     NaN     NaN   117.0     NaN     NaN     NaN     NaN   \n",
       "6    7     NaN     NaN     NaN   117.0     NaN     NaN     NaN     NaN   \n",
       "7    8     NaN     NaN     NaN    99.0     NaN     NaN     NaN     NaN   \n",
       "8    9     NaN     NaN     NaN   117.0     NaN     NaN     NaN     NaN   \n",
       "9   10     NaN     NaN     NaN     NaN     NaN     NaN     NaN     NaN   \n",
       "\n",
       "   Bulk 9  Bulk 10  Bulk 11  Bulk 12  Bulk 13  Bulk 14  Bulk 15  \n",
       "0     NaN      NaN      NaN    206.0      NaN    150.0    154.0  \n",
       "1     NaN      NaN      NaN    206.0      NaN    149.0    154.0  \n",
       "2     NaN      NaN      NaN    205.0      NaN    152.0    153.0  \n",
       "3     NaN      NaN      NaN    207.0      NaN    153.0    154.0  \n",
       "4     NaN      NaN      NaN    203.0      NaN    151.0    152.0  \n",
       "5     NaN      NaN      NaN    204.0      NaN    201.0    154.0  \n",
       "6     NaN      NaN      NaN    204.0      NaN    152.0    154.0  \n",
       "7     NaN      NaN      NaN    410.0      NaN    252.0    153.0  \n",
       "8     NaN      NaN      NaN    107.0      NaN     99.0    203.0  \n",
       "9     NaN      NaN      NaN    203.0      NaN    102.0    204.0  "
      ]
     },
     "metadata": {},
     "output_type": "display_data"
    }
   ],
   "source": [
    "# output of general information on electrodes and the first 10 rows of the table\n",
    "bulk_materials_volume.info()\n",
    "display(bulk_materials_volume.head(10))"
   ]
  },
  {
   "cell_type": "code",
   "execution_count": 14,
   "id": "cf70a6bb",
   "metadata": {},
   "outputs": [
    {
     "name": "stdout",
     "output_type": "stream",
     "text": [
      "Bulk 1\n"
     ]
    },
    {
     "data": {
      "text/plain": [
       "count    252.000000\n",
       "mean      39.242063\n",
       "std       18.277654\n",
       "min       10.000000\n",
       "25%       27.000000\n",
       "50%       31.000000\n",
       "75%       46.000000\n",
       "max      185.000000\n",
       "Name: Bulk 1, dtype: float64"
      ]
     },
     "metadata": {},
     "output_type": "display_data"
    },
    {
     "name": "stdout",
     "output_type": "stream",
     "text": [
      "Bulk 2\n"
     ]
    },
    {
     "data": {
      "text/plain": [
       "count     22.000000\n",
       "mean     253.045455\n",
       "std       21.180578\n",
       "min      228.000000\n",
       "25%      242.000000\n",
       "50%      251.500000\n",
       "75%      257.750000\n",
       "max      325.000000\n",
       "Name: Bulk 2, dtype: float64"
      ]
     },
     "metadata": {},
     "output_type": "display_data"
    },
    {
     "name": "stdout",
     "output_type": "stream",
     "text": [
      "Bulk 3\n"
     ]
    },
    {
     "data": {
      "text/plain": [
       "count    1298.000000\n",
       "mean      113.879045\n",
       "std        75.483494\n",
       "min         6.000000\n",
       "25%        58.000000\n",
       "50%        97.500000\n",
       "75%       152.000000\n",
       "max       454.000000\n",
       "Name: Bulk 3, dtype: float64"
      ]
     },
     "metadata": {},
     "output_type": "display_data"
    },
    {
     "name": "stdout",
     "output_type": "stream",
     "text": [
      "Bulk 4\n"
     ]
    },
    {
     "data": {
      "text/plain": [
       "count    1014.000000\n",
       "mean      104.394477\n",
       "std        48.184126\n",
       "min        12.000000\n",
       "25%        72.000000\n",
       "50%       102.000000\n",
       "75%       133.000000\n",
       "max       281.000000\n",
       "Name: Bulk 4, dtype: float64"
      ]
     },
     "metadata": {},
     "output_type": "display_data"
    },
    {
     "name": "stdout",
     "output_type": "stream",
     "text": [
      "Bulk 5\n"
     ]
    },
    {
     "data": {
      "text/plain": [
       "count     77.000000\n",
       "mean     107.025974\n",
       "std       81.790646\n",
       "min       11.000000\n",
       "25%       70.000000\n",
       "50%       86.000000\n",
       "75%      132.000000\n",
       "max      603.000000\n",
       "Name: Bulk 5, dtype: float64"
      ]
     },
     "metadata": {},
     "output_type": "display_data"
    },
    {
     "name": "stdout",
     "output_type": "stream",
     "text": [
      "Bulk 6\n"
     ]
    },
    {
     "data": {
      "text/plain": [
       "count    576.000000\n",
       "mean     118.925347\n",
       "std       72.057776\n",
       "min       17.000000\n",
       "25%       69.750000\n",
       "50%      100.000000\n",
       "75%      157.000000\n",
       "max      503.000000\n",
       "Name: Bulk 6, dtype: float64"
      ]
     },
     "metadata": {},
     "output_type": "display_data"
    },
    {
     "name": "stdout",
     "output_type": "stream",
     "text": [
      "Bulk 7\n"
     ]
    },
    {
     "data": {
      "text/plain": [
       "count     25.000000\n",
       "mean     305.600000\n",
       "std      191.022904\n",
       "min       47.000000\n",
       "25%      155.000000\n",
       "50%      298.000000\n",
       "75%      406.000000\n",
       "max      772.000000\n",
       "Name: Bulk 7, dtype: float64"
      ]
     },
     "metadata": {},
     "output_type": "display_data"
    },
    {
     "name": "stdout",
     "output_type": "stream",
     "text": [
      "Bulk 8\n"
     ]
    },
    {
     "data": {
      "text/plain": [
       "count     1.0\n",
       "mean     49.0\n",
       "std       NaN\n",
       "min      49.0\n",
       "25%      49.0\n",
       "50%      49.0\n",
       "75%      49.0\n",
       "max      49.0\n",
       "Name: Bulk 8, dtype: float64"
      ]
     },
     "metadata": {},
     "output_type": "display_data"
    },
    {
     "name": "stdout",
     "output_type": "stream",
     "text": [
      "Bulk 9\n"
     ]
    },
    {
     "data": {
      "text/plain": [
       "count     19.000000\n",
       "mean      76.315789\n",
       "std       21.720581\n",
       "min       63.000000\n",
       "25%       66.000000\n",
       "50%       68.000000\n",
       "75%       70.500000\n",
       "max      147.000000\n",
       "Name: Bulk 9, dtype: float64"
      ]
     },
     "metadata": {},
     "output_type": "display_data"
    },
    {
     "name": "stdout",
     "output_type": "stream",
     "text": [
      "Bulk 10\n"
     ]
    },
    {
     "data": {
      "text/plain": [
       "count    176.000000\n",
       "mean      83.284091\n",
       "std       26.060347\n",
       "min       24.000000\n",
       "25%       64.000000\n",
       "50%       86.500000\n",
       "75%      102.000000\n",
       "max      159.000000\n",
       "Name: Bulk 10, dtype: float64"
      ]
     },
     "metadata": {},
     "output_type": "display_data"
    },
    {
     "name": "stdout",
     "output_type": "stream",
     "text": [
      "Bulk 11\n"
     ]
    },
    {
     "data": {
      "text/plain": [
       "count    177.000000\n",
       "mean      76.819209\n",
       "std       59.655365\n",
       "min        8.000000\n",
       "25%       25.000000\n",
       "50%       64.000000\n",
       "75%      106.000000\n",
       "max      313.000000\n",
       "Name: Bulk 11, dtype: float64"
      ]
     },
     "metadata": {},
     "output_type": "display_data"
    },
    {
     "name": "stdout",
     "output_type": "stream",
     "text": [
      "Bulk 12\n"
     ]
    },
    {
     "data": {
      "text/plain": [
       "count    2450.000000\n",
       "mean      260.471020\n",
       "std       120.649269\n",
       "min        53.000000\n",
       "25%       204.000000\n",
       "50%       208.000000\n",
       "75%       316.000000\n",
       "max      1849.000000\n",
       "Name: Bulk 12, dtype: float64"
      ]
     },
     "metadata": {},
     "output_type": "display_data"
    },
    {
     "name": "stdout",
     "output_type": "stream",
     "text": [
      "Bulk 13\n"
     ]
    },
    {
     "data": {
      "text/plain": [
       "count     18.000000\n",
       "mean     181.111111\n",
       "std       46.088009\n",
       "min      151.000000\n",
       "25%      153.250000\n",
       "50%      155.500000\n",
       "75%      203.500000\n",
       "max      305.000000\n",
       "Name: Bulk 13, dtype: float64"
      ]
     },
     "metadata": {},
     "output_type": "display_data"
    },
    {
     "name": "stdout",
     "output_type": "stream",
     "text": [
      "Bulk 14\n"
     ]
    },
    {
     "data": {
      "text/plain": [
       "count    2806.000000\n",
       "mean      170.284747\n",
       "std        65.868652\n",
       "min        16.000000\n",
       "25%       119.000000\n",
       "50%       151.000000\n",
       "75%       205.750000\n",
       "max       636.000000\n",
       "Name: Bulk 14, dtype: float64"
      ]
     },
     "metadata": {},
     "output_type": "display_data"
    },
    {
     "name": "stdout",
     "output_type": "stream",
     "text": [
      "Bulk 15\n"
     ]
    },
    {
     "data": {
      "text/plain": [
       "count    2248.000000\n",
       "mean      160.513345\n",
       "std        51.765319\n",
       "min         1.000000\n",
       "25%       105.000000\n",
       "50%       160.000000\n",
       "75%       205.000000\n",
       "max       405.000000\n",
       "Name: Bulk 15, dtype: float64"
      ]
     },
     "metadata": {},
     "output_type": "display_data"
    },
    {
     "data": {
      "image/png": "[encoded data removed]",
      "text/plain": [
       "<Figure size 1152x720 with 1 Axes>"
      ]
     },
     "metadata": {
      "needs_background": "light"
     },
     "output_type": "display_data"
    }
   ],
   "source": [
    "# We derive general statistical information for each column with the volume of bulk materials\n",
    "# and a histogram of the average value of the volumes of bulk materials\n",
    "\n",
    "a = bulk_materials_volume.drop('key', axis=1)\n",
    "\n",
    "for column in a.columns:\n",
    "    print(column)\n",
    "    display(a[column].describe())\n",
    "    plt.title('Average volume of bulk materials')\n",
    "    a.mean().plot.bar(x = column, figsize=(16,10), color = 'teal')\n",
    "    \n"
   ]
  },
  {
   "cell_type": "code",
   "execution_count": 15,
   "id": "24e29f05",
   "metadata": {},
   "outputs": [
    {
     "data": {
      "image/png": "[encoded data removed]",
      "text/plain": [
       "<Figure size 1152x720 with 1 Axes>"
      ]
     },
     "metadata": {
      "needs_background": "light"
     },
     "output_type": "display_data"
    }
   ],
   "source": [
    "# We derive a histogram of the number of additives of volumes of bulk materials\n",
    "for column in a.columns:\n",
    "    plt.title('Number of additive volumes of bulk materials')\n",
    "    a.count().plot.bar(x = column, figsize=(16,10), color = 'teal')"
   ]
  },
  {
   "cell_type": "markdown",
   "id": "6108d384",
   "metadata": {},
   "source": [
    "The main volume of supply of additive bulk materials in 3, 4, 12, 14 and 15 volumes. The smallest amount of additives fed in 2, 5, 7, 8, 9 and 13 volumes. Missing values indicate the absence of an additive in the lot. We cannot compare the values of the volumes of each additive and consider anything as an outlier. This may affect the quality of the model.\n",
    "Number of keys 3129."
   ]
  },
  {
   "cell_type": "markdown",
   "id": "aa49a2f3",
   "metadata": {},
   "source": [
    "## 1.3. Analysis and processing of data on the time of supply of bulk materials"
   ]
  },
  {
   "cell_type": "code",
   "execution_count": 16,
   "id": "60701812",
   "metadata": {},
   "outputs": [
    {
     "name": "stdout",
     "output_type": "stream",
     "text": [
      "<class 'pandas.core.frame.DataFrame'>\n",
      "RangeIndex: 3129 entries, 0 to 3128\n",
      "Data columns (total 16 columns):\n",
      " #   Column   Non-Null Count  Dtype \n",
      "---  ------   --------------  ----- \n",
      " 0   key      3129 non-null   int64 \n",
      " 1   Bulk 1   252 non-null    object\n",
      " 2   Bulk 2   22 non-null     object\n",
      " 3   Bulk 3   1298 non-null   object\n",
      " 4   Bulk 4   1014 non-null   object\n",
      " 5   Bulk 5   77 non-null     object\n",
      " 6   Bulk 6   576 non-null    object\n",
      " 7   Bulk 7   25 non-null     object\n",
      " 8   Bulk 8   1 non-null      object\n",
      " 9   Bulk 9   19 non-null     object\n",
      " 10  Bulk 10  176 non-null    object\n",
      " 11  Bulk 11  177 non-null    object\n",
      " 12  Bulk 12  2450 non-null   object\n",
      " 13  Bulk 13  18 non-null     object\n",
      " 14  Bulk 14  2806 non-null   object\n",
      " 15  Bulk 15  2248 non-null   object\n",
      "dtypes: int64(1), object(15)\n",
      "memory usage: 391.2+ KB\n"
     ]
    },
    {
     "data": {
      "text/html": [
       "<div>\n",
       "<style scoped>\n",
       "    .dataframe tbody tr th:only-of-type {\n",
       "        vertical-align: middle;\n",
       "    }\n",
       "\n",
       "    .dataframe tbody tr th {\n",
       "        vertical-align: top;\n",
       "    }\n",
       "\n",
       "    .dataframe thead th {\n",
       "        text-align: right;\n",
       "    }\n",
       "</style>\n",
       "<table border=\"1\" class=\"dataframe\">\n",
       "  <thead>\n",
       "    <tr style=\"text-align: right;\">\n",
       "      <th></th>\n",
       "      <th>key</th>\n",
       "      <th>Bulk 1</th>\n",
       "      <th>Bulk 2</th>\n",
       "      <th>Bulk 3</th>\n",
       "      <th>Bulk 4</th>\n",
       "      <th>Bulk 5</th>\n",
       "      <th>Bulk 6</th>\n",
       "      <th>Bulk 7</th>\n",
       "      <th>Bulk 8</th>\n",
       "      <th>Bulk 9</th>\n",
       "      <th>Bulk 10</th>\n",
       "      <th>Bulk 11</th>\n",
       "      <th>Bulk 12</th>\n",
       "      <th>Bulk 13</th>\n",
       "      <th>Bulk 14</th>\n",
       "      <th>Bulk 15</th>\n",
       "    </tr>\n",
       "  </thead>\n",
       "  <tbody>\n",
       "    <tr>\n",
       "      <th>0</th>\n",
       "      <td>1</td>\n",
       "      <td>NaN</td>\n",
       "      <td>NaN</td>\n",
       "      <td>NaN</td>\n",
       "      <td>2019-05-03 11:21:30</td>\n",
       "      <td>NaN</td>\n",
       "      <td>NaN</td>\n",
       "      <td>NaN</td>\n",
       "      <td>NaN</td>\n",
       "      <td>NaN</td>\n",
       "      <td>NaN</td>\n",
       "      <td>NaN</td>\n",
       "      <td>2019-05-03 11:03:52</td>\n",
       "      <td>NaN</td>\n",
       "      <td>2019-05-03 11:03:52</td>\n",
       "      <td>2019-05-03 11:03:52</td>\n",
       "    </tr>\n",
       "    <tr>\n",
       "      <th>1</th>\n",
       "      <td>2</td>\n",
       "      <td>NaN</td>\n",
       "      <td>NaN</td>\n",
       "      <td>NaN</td>\n",
       "      <td>2019-05-03 11:46:38</td>\n",
       "      <td>NaN</td>\n",
       "      <td>NaN</td>\n",
       "      <td>NaN</td>\n",
       "      <td>NaN</td>\n",
       "      <td>NaN</td>\n",
       "      <td>NaN</td>\n",
       "      <td>NaN</td>\n",
       "      <td>2019-05-03 11:40:20</td>\n",
       "      <td>NaN</td>\n",
       "      <td>2019-05-03 11:40:20</td>\n",
       "      <td>2019-05-03 11:40:20</td>\n",
       "    </tr>\n",
       "    <tr>\n",
       "      <th>2</th>\n",
       "      <td>3</td>\n",
       "      <td>NaN</td>\n",
       "      <td>NaN</td>\n",
       "      <td>NaN</td>\n",
       "      <td>2019-05-03 12:31:06</td>\n",
       "      <td>NaN</td>\n",
       "      <td>NaN</td>\n",
       "      <td>NaN</td>\n",
       "      <td>NaN</td>\n",
       "      <td>NaN</td>\n",
       "      <td>NaN</td>\n",
       "      <td>NaN</td>\n",
       "      <td>2019-05-03 12:09:40</td>\n",
       "      <td>NaN</td>\n",
       "      <td>2019-05-03 12:09:40</td>\n",
       "      <td>2019-05-03 12:09:40</td>\n",
       "    </tr>\n",
       "    <tr>\n",
       "      <th>3</th>\n",
       "      <td>4</td>\n",
       "      <td>NaN</td>\n",
       "      <td>NaN</td>\n",
       "      <td>NaN</td>\n",
       "      <td>2019-05-03 12:48:43</td>\n",
       "      <td>NaN</td>\n",
       "      <td>NaN</td>\n",
       "      <td>NaN</td>\n",
       "      <td>NaN</td>\n",
       "      <td>NaN</td>\n",
       "      <td>NaN</td>\n",
       "      <td>NaN</td>\n",
       "      <td>2019-05-03 12:41:24</td>\n",
       "      <td>NaN</td>\n",
       "      <td>2019-05-03 12:41:24</td>\n",
       "      <td>2019-05-03 12:41:24</td>\n",
       "    </tr>\n",
       "    <tr>\n",
       "      <th>4</th>\n",
       "      <td>5</td>\n",
       "      <td>NaN</td>\n",
       "      <td>NaN</td>\n",
       "      <td>NaN</td>\n",
       "      <td>2019-05-03 13:18:50</td>\n",
       "      <td>NaN</td>\n",
       "      <td>NaN</td>\n",
       "      <td>NaN</td>\n",
       "      <td>NaN</td>\n",
       "      <td>NaN</td>\n",
       "      <td>NaN</td>\n",
       "      <td>NaN</td>\n",
       "      <td>2019-05-03 13:12:56</td>\n",
       "      <td>NaN</td>\n",
       "      <td>2019-05-03 13:12:56</td>\n",
       "      <td>2019-05-03 13:12:56</td>\n",
       "    </tr>\n",
       "    <tr>\n",
       "      <th>5</th>\n",
       "      <td>6</td>\n",
       "      <td>NaN</td>\n",
       "      <td>NaN</td>\n",
       "      <td>NaN</td>\n",
       "      <td>2019-05-03 13:59:24</td>\n",
       "      <td>NaN</td>\n",
       "      <td>NaN</td>\n",
       "      <td>NaN</td>\n",
       "      <td>NaN</td>\n",
       "      <td>NaN</td>\n",
       "      <td>NaN</td>\n",
       "      <td>NaN</td>\n",
       "      <td>2019-05-03 13:53:27</td>\n",
       "      <td>NaN</td>\n",
       "      <td>2019-05-03 13:53:27</td>\n",
       "      <td>2019-05-03 13:53:27</td>\n",
       "    </tr>\n",
       "    <tr>\n",
       "      <th>6</th>\n",
       "      <td>7</td>\n",
       "      <td>NaN</td>\n",
       "      <td>NaN</td>\n",
       "      <td>NaN</td>\n",
       "      <td>2019-05-03 14:29:14</td>\n",
       "      <td>NaN</td>\n",
       "      <td>NaN</td>\n",
       "      <td>NaN</td>\n",
       "      <td>NaN</td>\n",
       "      <td>NaN</td>\n",
       "      <td>NaN</td>\n",
       "      <td>NaN</td>\n",
       "      <td>2019-05-03 14:22:19</td>\n",
       "      <td>NaN</td>\n",
       "      <td>2019-05-03 14:22:19</td>\n",
       "      <td>2019-05-03 14:22:19</td>\n",
       "    </tr>\n",
       "    <tr>\n",
       "      <th>7</th>\n",
       "      <td>8</td>\n",
       "      <td>NaN</td>\n",
       "      <td>NaN</td>\n",
       "      <td>NaN</td>\n",
       "      <td>2019-05-03 15:04:05</td>\n",
       "      <td>NaN</td>\n",
       "      <td>NaN</td>\n",
       "      <td>NaN</td>\n",
       "      <td>NaN</td>\n",
       "      <td>NaN</td>\n",
       "      <td>NaN</td>\n",
       "      <td>NaN</td>\n",
       "      <td>2019-05-03 14:55:46</td>\n",
       "      <td>NaN</td>\n",
       "      <td>2019-05-03 14:55:46</td>\n",
       "      <td>2019-05-03 14:55:46</td>\n",
       "    </tr>\n",
       "    <tr>\n",
       "      <th>8</th>\n",
       "      <td>9</td>\n",
       "      <td>NaN</td>\n",
       "      <td>NaN</td>\n",
       "      <td>NaN</td>\n",
       "      <td>2019-05-03 15:47:34</td>\n",
       "      <td>NaN</td>\n",
       "      <td>NaN</td>\n",
       "      <td>NaN</td>\n",
       "      <td>NaN</td>\n",
       "      <td>NaN</td>\n",
       "      <td>NaN</td>\n",
       "      <td>NaN</td>\n",
       "      <td>2019-05-03 15:41:00</td>\n",
       "      <td>NaN</td>\n",
       "      <td>2019-05-03 15:41:00</td>\n",
       "      <td>2019-05-03 15:41:00</td>\n",
       "    </tr>\n",
       "    <tr>\n",
       "      <th>9</th>\n",
       "      <td>10</td>\n",
       "      <td>NaN</td>\n",
       "      <td>NaN</td>\n",
       "      <td>NaN</td>\n",
       "      <td>NaN</td>\n",
       "      <td>NaN</td>\n",
       "      <td>NaN</td>\n",
       "      <td>NaN</td>\n",
       "      <td>NaN</td>\n",
       "      <td>NaN</td>\n",
       "      <td>NaN</td>\n",
       "      <td>NaN</td>\n",
       "      <td>2019-05-03 16:18:52</td>\n",
       "      <td>NaN</td>\n",
       "      <td>2019-05-03 16:18:52</td>\n",
       "      <td>2019-05-03 16:18:52</td>\n",
       "    </tr>\n",
       "  </tbody>\n",
       "</table>\n",
       "</div>"
      ],
      "text/plain": [
       "   key Bulk 1 Bulk 2 Bulk 3               Bulk 4 Bulk 5 Bulk 6 Bulk 7 Bulk 8  \\\n",
       "0    1    NaN    NaN    NaN  2019-05-03 11:21:30    NaN    NaN    NaN    NaN   \n",
       "1    2    NaN    NaN    NaN  2019-05-03 11:46:38    NaN    NaN    NaN    NaN   \n",
       "2    3    NaN    NaN    NaN  2019-05-03 12:31:06    NaN    NaN    NaN    NaN   \n",
       "3    4    NaN    NaN    NaN  2019-05-03 12:48:43    NaN    NaN    NaN    NaN   \n",
       "4    5    NaN    NaN    NaN  2019-05-03 13:18:50    NaN    NaN    NaN    NaN   \n",
       "5    6    NaN    NaN    NaN  2019-05-03 13:59:24    NaN    NaN    NaN    NaN   \n",
       "6    7    NaN    NaN    NaN  2019-05-03 14:29:14    NaN    NaN    NaN    NaN   \n",
       "7    8    NaN    NaN    NaN  2019-05-03 15:04:05    NaN    NaN    NaN    NaN   \n",
       "8    9    NaN    NaN    NaN  2019-05-03 15:47:34    NaN    NaN    NaN    NaN   \n",
       "9   10    NaN    NaN    NaN                  NaN    NaN    NaN    NaN    NaN   \n",
       "\n",
       "  Bulk 9 Bulk 10 Bulk 11              Bulk 12 Bulk 13              Bulk 14  \\\n",
       "0    NaN     NaN     NaN  2019-05-03 11:03:52     NaN  2019-05-03 11:03:52   \n",
       "1    NaN     NaN     NaN  2019-05-03 11:40:20     NaN  2019-05-03 11:40:20   \n",
       "2    NaN     NaN     NaN  2019-05-03 12:09:40     NaN  2019-05-03 12:09:40   \n",
       "3    NaN     NaN     NaN  2019-05-03 12:41:24     NaN  2019-05-03 12:41:24   \n",
       "4    NaN     NaN     NaN  2019-05-03 13:12:56     NaN  2019-05-03 13:12:56   \n",
       "5    NaN     NaN     NaN  2019-05-03 13:53:27     NaN  2019-05-03 13:53:27   \n",
       "6    NaN     NaN     NaN  2019-05-03 14:22:19     NaN  2019-05-03 14:22:19   \n",
       "7    NaN     NaN     NaN  2019-05-03 14:55:46     NaN  2019-05-03 14:55:46   \n",
       "8    NaN     NaN     NaN  2019-05-03 15:41:00     NaN  2019-05-03 15:41:00   \n",
       "9    NaN     NaN     NaN  2019-05-03 16:18:52     NaN  2019-05-03 16:18:52   \n",
       "\n",
       "               Bulk 15  \n",
       "0  2019-05-03 11:03:52  \n",
       "1  2019-05-03 11:40:20  \n",
       "2  2019-05-03 12:09:40  \n",
       "3  2019-05-03 12:41:24  \n",
       "4  2019-05-03 13:12:56  \n",
       "5  2019-05-03 13:53:27  \n",
       "6  2019-05-03 14:22:19  \n",
       "7  2019-05-03 14:55:46  \n",
       "8  2019-05-03 15:41:00  \n",
       "9  2019-05-03 16:18:52  "
      ]
     },
     "metadata": {},
     "output_type": "display_data"
    }
   ],
   "source": [
    "# output of general information on electrodes and the first 10 rows of the table\n",
    "bulk_materials_time.info()\n",
    "display(bulk_materials_time.head(10))"
   ]
  },
  {
   "cell_type": "markdown",
   "id": "2c1e1948",
   "metadata": {},
   "source": [
    "Conclusion: There is a relationship between the bulk_materials_volume and bulk_materials_time tables in terms of the number of lots and volumes. The delivery time of volumes 12,14,15 coincides, which means that these additives were added at the same time. Number of parties 3129."
   ]
  },
  {
   "cell_type": "markdown",
   "id": "719cfa4f",
   "metadata": {},
   "source": [
    "## 1.4. Analysis and processing of data on gas blowing of the alloy"
   ]
  },
  {
   "cell_type": "code",
   "execution_count": 17,
   "id": "53811284",
   "metadata": {
    "scrolled": true
   },
   "outputs": [
    {
     "name": "stdout",
     "output_type": "stream",
     "text": [
      "<class 'pandas.core.frame.DataFrame'>\n",
      "RangeIndex: 3239 entries, 0 to 3238\n",
      "Data columns (total 2 columns):\n",
      " #   Column  Non-Null Count  Dtype  \n",
      "---  ------  --------------  -----  \n",
      " 0   key     3239 non-null   int64  \n",
      " 1   gas     3239 non-null   float64\n",
      "dtypes: float64(1), int64(1)\n",
      "memory usage: 50.7 KB\n"
     ]
    },
    {
     "data": {
      "text/html": [
       "<div>\n",
       "<style scoped>\n",
       "    .dataframe tbody tr th:only-of-type {\n",
       "        vertical-align: middle;\n",
       "    }\n",
       "\n",
       "    .dataframe tbody tr th {\n",
       "        vertical-align: top;\n",
       "    }\n",
       "\n",
       "    .dataframe thead th {\n",
       "        text-align: right;\n",
       "    }\n",
       "</style>\n",
       "<table border=\"1\" class=\"dataframe\">\n",
       "  <thead>\n",
       "    <tr style=\"text-align: right;\">\n",
       "      <th></th>\n",
       "      <th>key</th>\n",
       "      <th>gas</th>\n",
       "    </tr>\n",
       "  </thead>\n",
       "  <tbody>\n",
       "    <tr>\n",
       "      <th>0</th>\n",
       "      <td>1</td>\n",
       "      <td>29.749986</td>\n",
       "    </tr>\n",
       "    <tr>\n",
       "      <th>1</th>\n",
       "      <td>2</td>\n",
       "      <td>12.555561</td>\n",
       "    </tr>\n",
       "    <tr>\n",
       "      <th>2</th>\n",
       "      <td>3</td>\n",
       "      <td>28.554793</td>\n",
       "    </tr>\n",
       "    <tr>\n",
       "      <th>3</th>\n",
       "      <td>4</td>\n",
       "      <td>18.841219</td>\n",
       "    </tr>\n",
       "    <tr>\n",
       "      <th>4</th>\n",
       "      <td>5</td>\n",
       "      <td>5.413692</td>\n",
       "    </tr>\n",
       "    <tr>\n",
       "      <th>5</th>\n",
       "      <td>6</td>\n",
       "      <td>11.273392</td>\n",
       "    </tr>\n",
       "    <tr>\n",
       "      <th>6</th>\n",
       "      <td>7</td>\n",
       "      <td>9.836267</td>\n",
       "    </tr>\n",
       "    <tr>\n",
       "      <th>7</th>\n",
       "      <td>8</td>\n",
       "      <td>15.171553</td>\n",
       "    </tr>\n",
       "    <tr>\n",
       "      <th>8</th>\n",
       "      <td>9</td>\n",
       "      <td>8.216623</td>\n",
       "    </tr>\n",
       "    <tr>\n",
       "      <th>9</th>\n",
       "      <td>10</td>\n",
       "      <td>6.529891</td>\n",
       "    </tr>\n",
       "  </tbody>\n",
       "</table>\n",
       "</div>"
      ],
      "text/plain": [
       "   key        gas\n",
       "0    1  29.749986\n",
       "1    2  12.555561\n",
       "2    3  28.554793\n",
       "3    4  18.841219\n",
       "4    5   5.413692\n",
       "5    6  11.273392\n",
       "6    7   9.836267\n",
       "7    8  15.171553\n",
       "8    9   8.216623\n",
       "9   10   6.529891"
      ]
     },
     "metadata": {},
     "output_type": "display_data"
    }
   ],
   "source": [
    "# output of general information on electrodes and the first 10 rows of the table\n",
    "expultion_gas = expultion_gas.set_axis(['key', 'gas'], axis='columns', inplace=False)\n",
    "expultion_gas.info()\n",
    "display(expultion_gas.head(10))"
   ]
  },
  {
   "cell_type": "markdown",
   "id": "4565998d",
   "metadata": {},
   "source": [
    "We derive general statistical information, build histograms and a box with a mustache for a column with gas volume."
   ]
  },
  {
   "cell_type": "code",
   "execution_count": 18,
   "id": "07ae76c1",
   "metadata": {},
   "outputs": [
    {
     "data": {
      "text/plain": [
       "count    3239.000000\n",
       "mean       11.002062\n",
       "std         6.220327\n",
       "min         0.008399\n",
       "25%         7.043089\n",
       "50%         9.836267\n",
       "75%        13.769915\n",
       "max        77.995040\n",
       "Name: gas, dtype: float64"
      ]
     },
     "execution_count": 18,
     "metadata": {},
     "output_type": "execute_result"
    }
   ],
   "source": [
    "expultion_gas['gas'].describe()"
   ]
  },
  {
   "cell_type": "code",
   "execution_count": 19,
   "id": "380b5115",
   "metadata": {
    "scrolled": false
   },
   "outputs": [
    {
     "data": {
      "image/png": "[encoded data removed]",
      "text/plain": [
       "<Figure size 432x288 with 1 Axes>"
      ]
     },
     "metadata": {
      "needs_background": "light"
     },
     "output_type": "display_data"
    }
   ],
   "source": [
    "expultion_gas.boxplot('gas')\n",
    "plt.title('Distribution of gas volumes')\n",
    "plt.ylabel('amount')\n",
    "plt.show()"
   ]
  },
  {
   "cell_type": "code",
   "execution_count": 20,
   "id": "724c5c4f",
   "metadata": {},
   "outputs": [
    {
     "data": {
      "image/png": "[encoded data removed]",
      "text/plain": [
       "<Figure size 720x576 with 1 Axes>"
      ]
     },
     "metadata": {
      "needs_background": "light"
     },
     "output_type": "display_data"
    }
   ],
   "source": [
    "expultion_gas['gas'].hist(bins=50, figsize=(10,8))\n",
    "plt.title('Distribution of gas volumes')\n",
    "plt.xlabel('gas volume')\n",
    "plt.ylabel('amount')\n",
    "plt.show()"
   ]
  },
  {
   "cell_type": "markdown",
   "id": "93ffe96e",
   "metadata": {},
   "source": [
    "Conclusion: Values greater than 25 may be outliers. In order not to worsen the model, we will leave them unchanged."
   ]
  },
  {
   "cell_type": "markdown",
   "id": "99ef7a89",
   "metadata": {},
   "source": [
    "## 1.5. Analysis of temperature measurements"
   ]
  },
  {
   "cell_type": "code",
   "execution_count": 21,
   "id": "d623fb9a",
   "metadata": {
    "scrolled": true
   },
   "outputs": [
    {
     "name": "stdout",
     "output_type": "stream",
     "text": [
      "<class 'pandas.core.frame.DataFrame'>\n",
      "RangeIndex: 15907 entries, 0 to 15906\n",
      "Data columns (total 3 columns):\n",
      " #   Column       Non-Null Count  Dtype  \n",
      "---  ------       --------------  -----  \n",
      " 0   key          15907 non-null  int64  \n",
      " 1   time         15907 non-null  object \n",
      " 2   temperature  13006 non-null  float64\n",
      "dtypes: float64(1), int64(1), object(1)\n",
      "memory usage: 372.9+ KB\n"
     ]
    },
    {
     "data": {
      "text/html": [
       "<div>\n",
       "<style scoped>\n",
       "    .dataframe tbody tr th:only-of-type {\n",
       "        vertical-align: middle;\n",
       "    }\n",
       "\n",
       "    .dataframe tbody tr th {\n",
       "        vertical-align: top;\n",
       "    }\n",
       "\n",
       "    .dataframe thead th {\n",
       "        text-align: right;\n",
       "    }\n",
       "</style>\n",
       "<table border=\"1\" class=\"dataframe\">\n",
       "  <thead>\n",
       "    <tr style=\"text-align: right;\">\n",
       "      <th></th>\n",
       "      <th>key</th>\n",
       "      <th>time</th>\n",
       "      <th>temperature</th>\n",
       "    </tr>\n",
       "  </thead>\n",
       "  <tbody>\n",
       "    <tr>\n",
       "      <th>0</th>\n",
       "      <td>1</td>\n",
       "      <td>2019-05-03 11:16:18</td>\n",
       "      <td>1571.0</td>\n",
       "    </tr>\n",
       "    <tr>\n",
       "      <th>1</th>\n",
       "      <td>1</td>\n",
       "      <td>2019-05-03 11:25:53</td>\n",
       "      <td>1604.0</td>\n",
       "    </tr>\n",
       "    <tr>\n",
       "      <th>2</th>\n",
       "      <td>1</td>\n",
       "      <td>2019-05-03 11:29:11</td>\n",
       "      <td>1618.0</td>\n",
       "    </tr>\n",
       "    <tr>\n",
       "      <th>3</th>\n",
       "      <td>1</td>\n",
       "      <td>2019-05-03 11:30:01</td>\n",
       "      <td>1601.0</td>\n",
       "    </tr>\n",
       "    <tr>\n",
       "      <th>4</th>\n",
       "      <td>1</td>\n",
       "      <td>2019-05-03 11:30:39</td>\n",
       "      <td>1613.0</td>\n",
       "    </tr>\n",
       "    <tr>\n",
       "      <th>5</th>\n",
       "      <td>2</td>\n",
       "      <td>2019-05-03 11:37:27</td>\n",
       "      <td>1581.0</td>\n",
       "    </tr>\n",
       "    <tr>\n",
       "      <th>6</th>\n",
       "      <td>2</td>\n",
       "      <td>2019-05-03 11:38:00</td>\n",
       "      <td>1577.0</td>\n",
       "    </tr>\n",
       "    <tr>\n",
       "      <th>7</th>\n",
       "      <td>2</td>\n",
       "      <td>2019-05-03 11:49:38</td>\n",
       "      <td>1589.0</td>\n",
       "    </tr>\n",
       "    <tr>\n",
       "      <th>8</th>\n",
       "      <td>2</td>\n",
       "      <td>2019-05-03 11:55:50</td>\n",
       "      <td>1604.0</td>\n",
       "    </tr>\n",
       "    <tr>\n",
       "      <th>9</th>\n",
       "      <td>2</td>\n",
       "      <td>2019-05-03 11:58:24</td>\n",
       "      <td>1608.0</td>\n",
       "    </tr>\n",
       "  </tbody>\n",
       "</table>\n",
       "</div>"
      ],
      "text/plain": [
       "   key                 time  temperature\n",
       "0    1  2019-05-03 11:16:18       1571.0\n",
       "1    1  2019-05-03 11:25:53       1604.0\n",
       "2    1  2019-05-03 11:29:11       1618.0\n",
       "3    1  2019-05-03 11:30:01       1601.0\n",
       "4    1  2019-05-03 11:30:39       1613.0\n",
       "5    2  2019-05-03 11:37:27       1581.0\n",
       "6    2  2019-05-03 11:38:00       1577.0\n",
       "7    2  2019-05-03 11:49:38       1589.0\n",
       "8    2  2019-05-03 11:55:50       1604.0\n",
       "9    2  2019-05-03 11:58:24       1608.0"
      ]
     },
     "metadata": {},
     "output_type": "display_data"
    }
   ],
   "source": [
    "# output of general information on electrodes and the first 10 rows of the table\n",
    "temperature = temperature.set_axis(['key', 'time', 'temperature'], axis='columns', inplace=False)\n",
    "temperature.info()\n",
    "display(temperature.head(10))"
   ]
  },
  {
   "cell_type": "markdown",
   "id": "9c5e6e0f",
   "metadata": {},
   "source": [
    "Let's display general statistical information, build histograms and a box with a mustache for a column with temperature."
   ]
  },
  {
   "cell_type": "code",
   "execution_count": 22,
   "id": "6ddd7711",
   "metadata": {
    "scrolled": false
   },
   "outputs": [
    {
     "data": {
      "text/plain": [
       "count    13006.000000\n",
       "mean      1591.840920\n",
       "std         21.375851\n",
       "min       1191.000000\n",
       "25%       1581.000000\n",
       "50%       1591.000000\n",
       "75%       1601.000000\n",
       "max       1705.000000\n",
       "Name: temperature, dtype: float64"
      ]
     },
     "execution_count": 22,
     "metadata": {},
     "output_type": "execute_result"
    }
   ],
   "source": [
    "temperature['temperature'].describe()"
   ]
  },
  {
   "cell_type": "code",
   "execution_count": 23,
   "id": "be054795",
   "metadata": {},
   "outputs": [
    {
     "data": {
      "image/png": "[encoded data removed]",
      "text/plain": [
       "<Figure size 432x288 with 1 Axes>"
      ]
     },
     "metadata": {
      "needs_background": "light"
     },
     "output_type": "display_data"
    }
   ],
   "source": [
    "temperature.boxplot('temperature')\n",
    "plt.title('temperature distribution')\n",
    "plt.ylabel('amount')\n",
    "plt.show()"
   ]
  },
  {
   "cell_type": "code",
   "execution_count": 24,
   "id": "107c2ead",
   "metadata": {},
   "outputs": [
    {
     "data": {
      "text/plain": [
       "3216"
      ]
     },
     "execution_count": 24,
     "metadata": {},
     "output_type": "execute_result"
    }
   ],
   "source": [
    "# Number of unique keys\n",
    "len(temperature['key'].unique())"
   ]
  },
  {
   "cell_type": "markdown",
   "id": "47b11f18",
   "metadata": {},
   "source": [
    "Conlusion: There are no outliers of values ​​as such, but there are temperature values ​​below the passport one (1400), which can be considered an outlier."
   ]
  },
  {
   "cell_type": "markdown",
   "id": "cb1f2d4b",
   "metadata": {},
   "source": [
    "## 1.6. Wire material analysis"
   ]
  },
  {
   "cell_type": "code",
   "execution_count": 25,
   "id": "238fbcf3",
   "metadata": {
    "scrolled": true
   },
   "outputs": [
    {
     "name": "stdout",
     "output_type": "stream",
     "text": [
      "<class 'pandas.core.frame.DataFrame'>\n",
      "RangeIndex: 3081 entries, 0 to 3080\n",
      "Data columns (total 10 columns):\n",
      " #   Column  Non-Null Count  Dtype  \n",
      "---  ------  --------------  -----  \n",
      " 0   key     3081 non-null   int64  \n",
      " 1   Wire 1  3055 non-null   float64\n",
      " 2   Wire 2  1079 non-null   float64\n",
      " 3   Wire 3  63 non-null     float64\n",
      " 4   Wire 4  14 non-null     float64\n",
      " 5   Wire 5  1 non-null      float64\n",
      " 6   Wire 6  73 non-null     float64\n",
      " 7   Wire 7  11 non-null     float64\n",
      " 8   Wire 8  19 non-null     float64\n",
      " 9   Wire 9  29 non-null     float64\n",
      "dtypes: float64(9), int64(1)\n",
      "memory usage: 240.8 KB\n"
     ]
    },
    {
     "data": {
      "text/html": [
       "<div>\n",
       "<style scoped>\n",
       "    .dataframe tbody tr th:only-of-type {\n",
       "        vertical-align: middle;\n",
       "    }\n",
       "\n",
       "    .dataframe tbody tr th {\n",
       "        vertical-align: top;\n",
       "    }\n",
       "\n",
       "    .dataframe thead th {\n",
       "        text-align: right;\n",
       "    }\n",
       "</style>\n",
       "<table border=\"1\" class=\"dataframe\">\n",
       "  <thead>\n",
       "    <tr style=\"text-align: right;\">\n",
       "      <th></th>\n",
       "      <th>key</th>\n",
       "      <th>Wire 1</th>\n",
       "      <th>Wire 2</th>\n",
       "      <th>Wire 3</th>\n",
       "      <th>Wire 4</th>\n",
       "      <th>Wire 5</th>\n",
       "      <th>Wire 6</th>\n",
       "      <th>Wire 7</th>\n",
       "      <th>Wire 8</th>\n",
       "      <th>Wire 9</th>\n",
       "    </tr>\n",
       "  </thead>\n",
       "  <tbody>\n",
       "    <tr>\n",
       "      <th>0</th>\n",
       "      <td>1</td>\n",
       "      <td>60.059998</td>\n",
       "      <td>NaN</td>\n",
       "      <td>NaN</td>\n",
       "      <td>NaN</td>\n",
       "      <td>NaN</td>\n",
       "      <td>NaN</td>\n",
       "      <td>NaN</td>\n",
       "      <td>NaN</td>\n",
       "      <td>NaN</td>\n",
       "    </tr>\n",
       "    <tr>\n",
       "      <th>1</th>\n",
       "      <td>2</td>\n",
       "      <td>96.052315</td>\n",
       "      <td>NaN</td>\n",
       "      <td>NaN</td>\n",
       "      <td>NaN</td>\n",
       "      <td>NaN</td>\n",
       "      <td>NaN</td>\n",
       "      <td>NaN</td>\n",
       "      <td>NaN</td>\n",
       "      <td>NaN</td>\n",
       "    </tr>\n",
       "    <tr>\n",
       "      <th>2</th>\n",
       "      <td>3</td>\n",
       "      <td>91.160157</td>\n",
       "      <td>NaN</td>\n",
       "      <td>NaN</td>\n",
       "      <td>NaN</td>\n",
       "      <td>NaN</td>\n",
       "      <td>NaN</td>\n",
       "      <td>NaN</td>\n",
       "      <td>NaN</td>\n",
       "      <td>NaN</td>\n",
       "    </tr>\n",
       "    <tr>\n",
       "      <th>3</th>\n",
       "      <td>4</td>\n",
       "      <td>89.063515</td>\n",
       "      <td>NaN</td>\n",
       "      <td>NaN</td>\n",
       "      <td>NaN</td>\n",
       "      <td>NaN</td>\n",
       "      <td>NaN</td>\n",
       "      <td>NaN</td>\n",
       "      <td>NaN</td>\n",
       "      <td>NaN</td>\n",
       "    </tr>\n",
       "    <tr>\n",
       "      <th>4</th>\n",
       "      <td>5</td>\n",
       "      <td>89.238236</td>\n",
       "      <td>9.114560</td>\n",
       "      <td>NaN</td>\n",
       "      <td>NaN</td>\n",
       "      <td>NaN</td>\n",
       "      <td>NaN</td>\n",
       "      <td>NaN</td>\n",
       "      <td>NaN</td>\n",
       "      <td>NaN</td>\n",
       "    </tr>\n",
       "    <tr>\n",
       "      <th>5</th>\n",
       "      <td>6</td>\n",
       "      <td>99.109917</td>\n",
       "      <td>9.114560</td>\n",
       "      <td>NaN</td>\n",
       "      <td>NaN</td>\n",
       "      <td>NaN</td>\n",
       "      <td>NaN</td>\n",
       "      <td>NaN</td>\n",
       "      <td>NaN</td>\n",
       "      <td>NaN</td>\n",
       "    </tr>\n",
       "    <tr>\n",
       "      <th>6</th>\n",
       "      <td>7</td>\n",
       "      <td>98.061600</td>\n",
       "      <td>NaN</td>\n",
       "      <td>NaN</td>\n",
       "      <td>NaN</td>\n",
       "      <td>NaN</td>\n",
       "      <td>NaN</td>\n",
       "      <td>NaN</td>\n",
       "      <td>NaN</td>\n",
       "      <td>NaN</td>\n",
       "    </tr>\n",
       "    <tr>\n",
       "      <th>7</th>\n",
       "      <td>8</td>\n",
       "      <td>155.282394</td>\n",
       "      <td>NaN</td>\n",
       "      <td>NaN</td>\n",
       "      <td>NaN</td>\n",
       "      <td>NaN</td>\n",
       "      <td>NaN</td>\n",
       "      <td>NaN</td>\n",
       "      <td>NaN</td>\n",
       "      <td>NaN</td>\n",
       "    </tr>\n",
       "    <tr>\n",
       "      <th>8</th>\n",
       "      <td>9</td>\n",
       "      <td>113.393279</td>\n",
       "      <td>9.143681</td>\n",
       "      <td>NaN</td>\n",
       "      <td>NaN</td>\n",
       "      <td>NaN</td>\n",
       "      <td>NaN</td>\n",
       "      <td>NaN</td>\n",
       "      <td>NaN</td>\n",
       "      <td>NaN</td>\n",
       "    </tr>\n",
       "    <tr>\n",
       "      <th>9</th>\n",
       "      <td>10</td>\n",
       "      <td>81.244796</td>\n",
       "      <td>12.376000</td>\n",
       "      <td>NaN</td>\n",
       "      <td>NaN</td>\n",
       "      <td>NaN</td>\n",
       "      <td>NaN</td>\n",
       "      <td>NaN</td>\n",
       "      <td>NaN</td>\n",
       "      <td>NaN</td>\n",
       "    </tr>\n",
       "  </tbody>\n",
       "</table>\n",
       "</div>"
      ],
      "text/plain": [
       "   key      Wire 1     Wire 2  Wire 3  Wire 4  Wire 5  Wire 6  Wire 7  Wire 8  \\\n",
       "0    1   60.059998        NaN     NaN     NaN     NaN     NaN     NaN     NaN   \n",
       "1    2   96.052315        NaN     NaN     NaN     NaN     NaN     NaN     NaN   \n",
       "2    3   91.160157        NaN     NaN     NaN     NaN     NaN     NaN     NaN   \n",
       "3    4   89.063515        NaN     NaN     NaN     NaN     NaN     NaN     NaN   \n",
       "4    5   89.238236   9.114560     NaN     NaN     NaN     NaN     NaN     NaN   \n",
       "5    6   99.109917   9.114560     NaN     NaN     NaN     NaN     NaN     NaN   \n",
       "6    7   98.061600        NaN     NaN     NaN     NaN     NaN     NaN     NaN   \n",
       "7    8  155.282394        NaN     NaN     NaN     NaN     NaN     NaN     NaN   \n",
       "8    9  113.393279   9.143681     NaN     NaN     NaN     NaN     NaN     NaN   \n",
       "9   10   81.244796  12.376000     NaN     NaN     NaN     NaN     NaN     NaN   \n",
       "\n",
       "   Wire 9  \n",
       "0     NaN  \n",
       "1     NaN  \n",
       "2     NaN  \n",
       "3     NaN  \n",
       "4     NaN  \n",
       "5     NaN  \n",
       "6     NaN  \n",
       "7     NaN  \n",
       "8     NaN  \n",
       "9     NaN  "
      ]
     },
     "metadata": {},
     "output_type": "display_data"
    }
   ],
   "source": [
    "# output of general information on electrodes and the first 10 rows of the table\n",
    "wire_materials_volume.info()\n",
    "display(wire_materials_volume.head(10))"
   ]
  },
  {
   "cell_type": "code",
   "execution_count": 26,
   "id": "d341994e",
   "metadata": {},
   "outputs": [
    {
     "name": "stdout",
     "output_type": "stream",
     "text": [
      "Wire 1\n"
     ]
    },
    {
     "data": {
      "text/plain": [
       "count    3055.000000\n",
       "mean      100.895853\n",
       "std        42.012518\n",
       "min         1.918800\n",
       "25%        72.115684\n",
       "50%       100.158234\n",
       "75%       126.060483\n",
       "max       330.314424\n",
       "Name: Wire 1, dtype: float64"
      ]
     },
     "metadata": {},
     "output_type": "display_data"
    },
    {
     "name": "stdout",
     "output_type": "stream",
     "text": [
      "Wire 2\n"
     ]
    },
    {
     "data": {
      "text/plain": [
       "count    1079.000000\n",
       "mean       50.577323\n",
       "std        39.320216\n",
       "min         0.030160\n",
       "25%        20.193680\n",
       "50%        40.142956\n",
       "75%        70.227558\n",
       "max       282.780152\n",
       "Name: Wire 2, dtype: float64"
      ]
     },
     "metadata": {},
     "output_type": "display_data"
    },
    {
     "name": "stdout",
     "output_type": "stream",
     "text": [
      "Wire 3\n"
     ]
    },
    {
     "data": {
      "text/plain": [
       "count     63.000000\n",
       "mean     189.482681\n",
       "std       99.513444\n",
       "min        0.144144\n",
       "25%       95.135044\n",
       "50%      235.194977\n",
       "75%      276.252014\n",
       "max      385.008668\n",
       "Name: Wire 3, dtype: float64"
      ]
     },
     "metadata": {},
     "output_type": "display_data"
    },
    {
     "name": "stdout",
     "output_type": "stream",
     "text": [
      "Wire 4\n"
     ]
    },
    {
     "data": {
      "text/plain": [
       "count     14.000000\n",
       "mean      57.442842\n",
       "std       28.824667\n",
       "min       24.148801\n",
       "25%       40.807002\n",
       "50%       45.234282\n",
       "75%       76.124619\n",
       "max      113.231044\n",
       "Name: Wire 4, dtype: float64"
      ]
     },
     "metadata": {},
     "output_type": "display_data"
    },
    {
     "name": "stdout",
     "output_type": "stream",
     "text": [
      "Wire 5\n"
     ]
    },
    {
     "data": {
      "text/plain": [
       "count     1.000\n",
       "mean     15.132\n",
       "std         NaN\n",
       "min      15.132\n",
       "25%      15.132\n",
       "50%      15.132\n",
       "75%      15.132\n",
       "max      15.132\n",
       "Name: Wire 5, dtype: float64"
      ]
     },
     "metadata": {},
     "output_type": "display_data"
    },
    {
     "name": "stdout",
     "output_type": "stream",
     "text": [
      "Wire 6\n"
     ]
    },
    {
     "data": {
      "text/plain": [
       "count     73.000000\n",
       "mean      48.016974\n",
       "std       33.919845\n",
       "min        0.034320\n",
       "25%       25.053600\n",
       "50%       42.076324\n",
       "75%       64.212723\n",
       "max      180.454575\n",
       "Name: Wire 6, dtype: float64"
      ]
     },
     "metadata": {},
     "output_type": "display_data"
    },
    {
     "name": "stdout",
     "output_type": "stream",
     "text": [
      "Wire 7\n"
     ]
    },
    {
     "data": {
      "text/plain": [
       "count    11.000000\n",
       "mean     10.039007\n",
       "std       8.610584\n",
       "min       0.234208\n",
       "25%       6.762756\n",
       "50%       9.017009\n",
       "75%      11.886057\n",
       "max      32.847674\n",
       "Name: Wire 7, dtype: float64"
      ]
     },
     "metadata": {},
     "output_type": "display_data"
    },
    {
     "name": "stdout",
     "output_type": "stream",
     "text": [
      "Wire 8\n"
     ]
    },
    {
     "data": {
      "text/plain": [
       "count     19.000000\n",
       "mean      53.625193\n",
       "std       16.881728\n",
       "min       45.076721\n",
       "25%       46.094879\n",
       "50%       46.279999\n",
       "75%       48.089603\n",
       "max      102.762401\n",
       "Name: Wire 8, dtype: float64"
      ]
     },
     "metadata": {},
     "output_type": "display_data"
    },
    {
     "name": "stdout",
     "output_type": "stream",
     "text": [
      "Wire 9\n"
     ]
    },
    {
     "data": {
      "text/plain": [
       "count    29.000000\n",
       "mean     34.155752\n",
       "std      19.931616\n",
       "min       4.622800\n",
       "25%      22.058401\n",
       "50%      30.066399\n",
       "75%      43.862003\n",
       "max      90.053604\n",
       "Name: Wire 9, dtype: float64"
      ]
     },
     "metadata": {},
     "output_type": "display_data"
    },
    {
     "data": {
      "image/png": "[encoded data removed]",
      "text/plain": [
       "<Figure size 1152x720 with 1 Axes>"
      ]
     },
     "metadata": {
      "needs_background": "light"
     },
     "output_type": "display_data"
    }
   ],
   "source": [
    "# We derive general statistical information for each column with the volume of wire materials\n",
    "b = wire_materials_volume.drop('key', axis=1)\n",
    "\n",
    "for column in b.columns:\n",
    "    print(column)\n",
    "    display(b[column].describe())\n",
    "    plt.title('Average volume of wire materials')\n",
    "    b.mean().plot.bar(x = column, figsize=(16,10), color = 'teal')"
   ]
  },
  {
   "cell_type": "code",
   "execution_count": 27,
   "id": "ed4a4a3a",
   "metadata": {},
   "outputs": [
    {
     "data": {
      "image/png": "[encoded data removed]",
      "text/plain": [
       "<Figure size 1152x720 with 1 Axes>"
      ]
     },
     "metadata": {
      "needs_background": "light"
     },
     "output_type": "display_data"
    }
   ],
   "source": [
    "for column in b.columns:\n",
    "    plt.title('Number of additives volumes of wire materials')\n",
    "    b.count().plot.bar(x = column, figsize=(16,10), color = 'teal')"
   ]
  },
  {
   "cell_type": "markdown",
   "id": "c0c60c2f",
   "metadata": {},
   "source": [
    "Conclusion: there are 3081 parties in this table. The main volumes are added in the first and second wire volumes. It is difficult to say anything about the distribution of values; for a qualitative solution of the problem, it is better to leave these values."
   ]
  },
  {
   "cell_type": "markdown",
   "id": "295fd89a",
   "metadata": {},
   "source": [
    "## 1.7. Time analysis of wire materials"
   ]
  },
  {
   "cell_type": "code",
   "execution_count": 28,
   "id": "aa79c8ed",
   "metadata": {},
   "outputs": [
    {
     "name": "stdout",
     "output_type": "stream",
     "text": [
      "<class 'pandas.core.frame.DataFrame'>\n",
      "RangeIndex: 3081 entries, 0 to 3080\n",
      "Data columns (total 10 columns):\n",
      " #   Column  Non-Null Count  Dtype \n",
      "---  ------  --------------  ----- \n",
      " 0   key     3081 non-null   int64 \n",
      " 1   Wire 1  3055 non-null   object\n",
      " 2   Wire 2  1079 non-null   object\n",
      " 3   Wire 3  63 non-null     object\n",
      " 4   Wire 4  14 non-null     object\n",
      " 5   Wire 5  1 non-null      object\n",
      " 6   Wire 6  73 non-null     object\n",
      " 7   Wire 7  11 non-null     object\n",
      " 8   Wire 8  19 non-null     object\n",
      " 9   Wire 9  29 non-null     object\n",
      "dtypes: int64(1), object(9)\n",
      "memory usage: 240.8+ KB\n"
     ]
    },
    {
     "data": {
      "text/html": [
       "<div>\n",
       "<style scoped>\n",
       "    .dataframe tbody tr th:only-of-type {\n",
       "        vertical-align: middle;\n",
       "    }\n",
       "\n",
       "    .dataframe tbody tr th {\n",
       "        vertical-align: top;\n",
       "    }\n",
       "\n",
       "    .dataframe thead th {\n",
       "        text-align: right;\n",
       "    }\n",
       "</style>\n",
       "<table border=\"1\" class=\"dataframe\">\n",
       "  <thead>\n",
       "    <tr style=\"text-align: right;\">\n",
       "      <th></th>\n",
       "      <th>key</th>\n",
       "      <th>Wire 1</th>\n",
       "      <th>Wire 2</th>\n",
       "      <th>Wire 3</th>\n",
       "      <th>Wire 4</th>\n",
       "      <th>Wire 5</th>\n",
       "      <th>Wire 6</th>\n",
       "      <th>Wire 7</th>\n",
       "      <th>Wire 8</th>\n",
       "      <th>Wire 9</th>\n",
       "    </tr>\n",
       "  </thead>\n",
       "  <tbody>\n",
       "    <tr>\n",
       "      <th>0</th>\n",
       "      <td>1</td>\n",
       "      <td>2019-05-03 11:11:41</td>\n",
       "      <td>NaN</td>\n",
       "      <td>NaN</td>\n",
       "      <td>NaN</td>\n",
       "      <td>NaN</td>\n",
       "      <td>NaN</td>\n",
       "      <td>NaN</td>\n",
       "      <td>NaN</td>\n",
       "      <td>NaN</td>\n",
       "    </tr>\n",
       "    <tr>\n",
       "      <th>1</th>\n",
       "      <td>2</td>\n",
       "      <td>2019-05-03 11:46:10</td>\n",
       "      <td>NaN</td>\n",
       "      <td>NaN</td>\n",
       "      <td>NaN</td>\n",
       "      <td>NaN</td>\n",
       "      <td>NaN</td>\n",
       "      <td>NaN</td>\n",
       "      <td>NaN</td>\n",
       "      <td>NaN</td>\n",
       "    </tr>\n",
       "    <tr>\n",
       "      <th>2</th>\n",
       "      <td>3</td>\n",
       "      <td>2019-05-03 12:13:47</td>\n",
       "      <td>NaN</td>\n",
       "      <td>NaN</td>\n",
       "      <td>NaN</td>\n",
       "      <td>NaN</td>\n",
       "      <td>NaN</td>\n",
       "      <td>NaN</td>\n",
       "      <td>NaN</td>\n",
       "      <td>NaN</td>\n",
       "    </tr>\n",
       "    <tr>\n",
       "      <th>3</th>\n",
       "      <td>4</td>\n",
       "      <td>2019-05-03 12:48:05</td>\n",
       "      <td>NaN</td>\n",
       "      <td>NaN</td>\n",
       "      <td>NaN</td>\n",
       "      <td>NaN</td>\n",
       "      <td>NaN</td>\n",
       "      <td>NaN</td>\n",
       "      <td>NaN</td>\n",
       "      <td>NaN</td>\n",
       "    </tr>\n",
       "    <tr>\n",
       "      <th>4</th>\n",
       "      <td>5</td>\n",
       "      <td>2019-05-03 13:18:15</td>\n",
       "      <td>2019-05-03 13:32:06</td>\n",
       "      <td>NaN</td>\n",
       "      <td>NaN</td>\n",
       "      <td>NaN</td>\n",
       "      <td>NaN</td>\n",
       "      <td>NaN</td>\n",
       "      <td>NaN</td>\n",
       "      <td>NaN</td>\n",
       "    </tr>\n",
       "    <tr>\n",
       "      <th>5</th>\n",
       "      <td>6</td>\n",
       "      <td>2019-05-03 13:59:02</td>\n",
       "      <td>2019-05-03 13:59:54</td>\n",
       "      <td>NaN</td>\n",
       "      <td>NaN</td>\n",
       "      <td>NaN</td>\n",
       "      <td>NaN</td>\n",
       "      <td>NaN</td>\n",
       "      <td>NaN</td>\n",
       "      <td>NaN</td>\n",
       "    </tr>\n",
       "    <tr>\n",
       "      <th>6</th>\n",
       "      <td>7</td>\n",
       "      <td>2019-05-03 14:28:46</td>\n",
       "      <td>NaN</td>\n",
       "      <td>NaN</td>\n",
       "      <td>NaN</td>\n",
       "      <td>NaN</td>\n",
       "      <td>NaN</td>\n",
       "      <td>NaN</td>\n",
       "      <td>NaN</td>\n",
       "      <td>NaN</td>\n",
       "    </tr>\n",
       "    <tr>\n",
       "      <th>7</th>\n",
       "      <td>8</td>\n",
       "      <td>2019-05-03 15:03:42</td>\n",
       "      <td>NaN</td>\n",
       "      <td>NaN</td>\n",
       "      <td>NaN</td>\n",
       "      <td>NaN</td>\n",
       "      <td>NaN</td>\n",
       "      <td>NaN</td>\n",
       "      <td>NaN</td>\n",
       "      <td>NaN</td>\n",
       "    </tr>\n",
       "    <tr>\n",
       "      <th>8</th>\n",
       "      <td>9</td>\n",
       "      <td>2019-05-03 15:42:43</td>\n",
       "      <td>2019-05-03 15:58:12</td>\n",
       "      <td>NaN</td>\n",
       "      <td>NaN</td>\n",
       "      <td>NaN</td>\n",
       "      <td>NaN</td>\n",
       "      <td>NaN</td>\n",
       "      <td>NaN</td>\n",
       "      <td>NaN</td>\n",
       "    </tr>\n",
       "    <tr>\n",
       "      <th>9</th>\n",
       "      <td>10</td>\n",
       "      <td>2019-05-03 16:20:25</td>\n",
       "      <td>2019-05-03 16:21:02</td>\n",
       "      <td>NaN</td>\n",
       "      <td>NaN</td>\n",
       "      <td>NaN</td>\n",
       "      <td>NaN</td>\n",
       "      <td>NaN</td>\n",
       "      <td>NaN</td>\n",
       "      <td>NaN</td>\n",
       "    </tr>\n",
       "  </tbody>\n",
       "</table>\n",
       "</div>"
      ],
      "text/plain": [
       "   key               Wire 1               Wire 2 Wire 3 Wire 4 Wire 5 Wire 6  \\\n",
       "0    1  2019-05-03 11:11:41                  NaN    NaN    NaN    NaN    NaN   \n",
       "1    2  2019-05-03 11:46:10                  NaN    NaN    NaN    NaN    NaN   \n",
       "2    3  2019-05-03 12:13:47                  NaN    NaN    NaN    NaN    NaN   \n",
       "3    4  2019-05-03 12:48:05                  NaN    NaN    NaN    NaN    NaN   \n",
       "4    5  2019-05-03 13:18:15  2019-05-03 13:32:06    NaN    NaN    NaN    NaN   \n",
       "5    6  2019-05-03 13:59:02  2019-05-03 13:59:54    NaN    NaN    NaN    NaN   \n",
       "6    7  2019-05-03 14:28:46                  NaN    NaN    NaN    NaN    NaN   \n",
       "7    8  2019-05-03 15:03:42                  NaN    NaN    NaN    NaN    NaN   \n",
       "8    9  2019-05-03 15:42:43  2019-05-03 15:58:12    NaN    NaN    NaN    NaN   \n",
       "9   10  2019-05-03 16:20:25  2019-05-03 16:21:02    NaN    NaN    NaN    NaN   \n",
       "\n",
       "  Wire 7 Wire 8 Wire 9  \n",
       "0    NaN    NaN    NaN  \n",
       "1    NaN    NaN    NaN  \n",
       "2    NaN    NaN    NaN  \n",
       "3    NaN    NaN    NaN  \n",
       "4    NaN    NaN    NaN  \n",
       "5    NaN    NaN    NaN  \n",
       "6    NaN    NaN    NaN  \n",
       "7    NaN    NaN    NaN  \n",
       "8    NaN    NaN    NaN  \n",
       "9    NaN    NaN    NaN  "
      ]
     },
     "metadata": {},
     "output_type": "display_data"
    }
   ],
   "source": [
    "# output of general information on electrodes and the first 10 rows of the table\n",
    "wire_materials_time.info()\n",
    "display(wire_materials_time.head(10))"
   ]
  },
  {
   "cell_type": "markdown",
   "id": "6a32e90d",
   "metadata": {},
   "source": [
    "Conclusion: it can be seen from the time that the additives are added gradually and by the number of values ​​the table corresponds to wire_materials_volume."
   ]
  },
  {
   "cell_type": "markdown",
   "id": "d045211c",
   "metadata": {},
   "source": [
    "## 1.8. General conclusion on the analysis"
   ]
  },
  {
   "cell_type": "markdown",
   "id": "a644d3be",
   "metadata": {},
   "source": [
    "The analysis identified the following anomalies and issues:\n",
    "* Abnormal value of reactive power should be removed\n",
    "* It is worth deleting temperatures below the passport (1400)\n",
    "* The gaps in the temperature table should also be removed\n",
    "* The data type of some columns should be changed from float to int\n",
    "* The tables have a different number of key columns, some of the data could be lost during preparation\n",
    "* Time needs to be converted to datetime format\n",
    "\n",
    "Model building plan:\n",
    "* Preprocessing of detected anomalies and omissions.\n",
    "* Combining attributes by key column, target attribute - final temperature, main attributes - active and reactive power, bulk materials and wire volumes, process start temperature, gas volume, electrode heating time. The time of adding bulk materials and wire should be neglected, since the data are not entirely correct for this task, the time of adding additives may be earlier than the time of measuring the first temperature.\n",
    "* Run a multicollinearity check \n",
    "* Separation of features into training and test sets in a ratio of 4:1. \n",
    "* Training different models with hyperparameter fitting and cross-validation with MAE metric.\n",
    "* Checking the best model on a test set."
   ]
  },
  {
   "cell_type": "markdown",
   "id": "ba3fdf9f",
   "metadata": {},
   "source": [
    "# 2. Data preprocessing and preparation"
   ]
  },
  {
   "cell_type": "markdown",
   "id": "925b4342",
   "metadata": {},
   "source": [
    "## 2.1. Electrods table data preprocessing"
   ]
  },
  {
   "cell_type": "code",
   "execution_count": 29,
   "id": "827efc20",
   "metadata": {},
   "outputs": [
    {
     "data": {
      "text/html": [
       "<div>\n",
       "<style scoped>\n",
       "    .dataframe tbody tr th:only-of-type {\n",
       "        vertical-align: middle;\n",
       "    }\n",
       "\n",
       "    .dataframe tbody tr th {\n",
       "        vertical-align: top;\n",
       "    }\n",
       "\n",
       "    .dataframe thead th {\n",
       "        text-align: right;\n",
       "    }\n",
       "</style>\n",
       "<table border=\"1\" class=\"dataframe\">\n",
       "  <thead>\n",
       "    <tr style=\"text-align: right;\">\n",
       "      <th></th>\n",
       "      <th>key</th>\n",
       "      <th>start_of_arc_heating</th>\n",
       "      <th>end_of_arc_heating</th>\n",
       "      <th>active_power</th>\n",
       "      <th>reactive_power</th>\n",
       "    </tr>\n",
       "  </thead>\n",
       "  <tbody>\n",
       "    <tr>\n",
       "      <th>0</th>\n",
       "      <td>1</td>\n",
       "      <td>2019-05-03 11:02:14</td>\n",
       "      <td>2019-05-03 11:06:02</td>\n",
       "      <td>0.976059</td>\n",
       "      <td>0.687084</td>\n",
       "    </tr>\n",
       "    <tr>\n",
       "      <th>1</th>\n",
       "      <td>1</td>\n",
       "      <td>2019-05-03 11:07:28</td>\n",
       "      <td>2019-05-03 11:10:33</td>\n",
       "      <td>0.805607</td>\n",
       "      <td>0.520285</td>\n",
       "    </tr>\n",
       "    <tr>\n",
       "      <th>2</th>\n",
       "      <td>1</td>\n",
       "      <td>2019-05-03 11:11:44</td>\n",
       "      <td>2019-05-03 11:14:36</td>\n",
       "      <td>0.744363</td>\n",
       "      <td>0.498805</td>\n",
       "    </tr>\n",
       "    <tr>\n",
       "      <th>3</th>\n",
       "      <td>1</td>\n",
       "      <td>2019-05-03 11:18:14</td>\n",
       "      <td>2019-05-03 11:24:19</td>\n",
       "      <td>1.659363</td>\n",
       "      <td>1.062669</td>\n",
       "    </tr>\n",
       "    <tr>\n",
       "      <th>4</th>\n",
       "      <td>1</td>\n",
       "      <td>2019-05-03 11:26:09</td>\n",
       "      <td>2019-05-03 11:28:37</td>\n",
       "      <td>0.692755</td>\n",
       "      <td>0.414397</td>\n",
       "    </tr>\n",
       "    <tr>\n",
       "      <th>5</th>\n",
       "      <td>2</td>\n",
       "      <td>2019-05-03 11:34:14</td>\n",
       "      <td>2019-05-03 11:36:31</td>\n",
       "      <td>0.438063</td>\n",
       "      <td>0.283043</td>\n",
       "    </tr>\n",
       "    <tr>\n",
       "      <th>6</th>\n",
       "      <td>2</td>\n",
       "      <td>2019-05-03 11:38:50</td>\n",
       "      <td>2019-05-03 11:44:28</td>\n",
       "      <td>1.296415</td>\n",
       "      <td>0.892914</td>\n",
       "    </tr>\n",
       "    <tr>\n",
       "      <th>7</th>\n",
       "      <td>2</td>\n",
       "      <td>2019-05-03 11:46:19</td>\n",
       "      <td>2019-05-03 11:48:25</td>\n",
       "      <td>0.490377</td>\n",
       "      <td>0.305281</td>\n",
       "    </tr>\n",
       "    <tr>\n",
       "      <th>8</th>\n",
       "      <td>2</td>\n",
       "      <td>2019-05-03 11:49:48</td>\n",
       "      <td>2019-05-03 11:53:18</td>\n",
       "      <td>0.827743</td>\n",
       "      <td>0.516874</td>\n",
       "    </tr>\n",
       "    <tr>\n",
       "      <th>9</th>\n",
       "      <td>3</td>\n",
       "      <td>2019-05-03 12:06:54</td>\n",
       "      <td>2019-05-03 12:11:34</td>\n",
       "      <td>1.062053</td>\n",
       "      <td>0.671494</td>\n",
       "    </tr>\n",
       "  </tbody>\n",
       "</table>\n",
       "</div>"
      ],
      "text/plain": [
       "   key start_of_arc_heating   end_of_arc_heating  active_power  reactive_power\n",
       "0    1  2019-05-03 11:02:14  2019-05-03 11:06:02      0.976059        0.687084\n",
       "1    1  2019-05-03 11:07:28  2019-05-03 11:10:33      0.805607        0.520285\n",
       "2    1  2019-05-03 11:11:44  2019-05-03 11:14:36      0.744363        0.498805\n",
       "3    1  2019-05-03 11:18:14  2019-05-03 11:24:19      1.659363        1.062669\n",
       "4    1  2019-05-03 11:26:09  2019-05-03 11:28:37      0.692755        0.414397\n",
       "5    2  2019-05-03 11:34:14  2019-05-03 11:36:31      0.438063        0.283043\n",
       "6    2  2019-05-03 11:38:50  2019-05-03 11:44:28      1.296415        0.892914\n",
       "7    2  2019-05-03 11:46:19  2019-05-03 11:48:25      0.490377        0.305281\n",
       "8    2  2019-05-03 11:49:48  2019-05-03 11:53:18      0.827743        0.516874\n",
       "9    3  2019-05-03 12:06:54  2019-05-03 12:11:34      1.062053        0.671494"
      ]
     },
     "metadata": {},
     "output_type": "display_data"
    },
    {
     "data": {
      "text/html": [
       "<div>\n",
       "<style scoped>\n",
       "    .dataframe tbody tr th:only-of-type {\n",
       "        vertical-align: middle;\n",
       "    }\n",
       "\n",
       "    .dataframe tbody tr th {\n",
       "        vertical-align: top;\n",
       "    }\n",
       "\n",
       "    .dataframe thead th {\n",
       "        text-align: right;\n",
       "    }\n",
       "</style>\n",
       "<table border=\"1\" class=\"dataframe\">\n",
       "  <thead>\n",
       "    <tr style=\"text-align: right;\">\n",
       "      <th></th>\n",
       "      <th>key</th>\n",
       "      <th>active_power</th>\n",
       "      <th>reactive_power</th>\n",
       "    </tr>\n",
       "  </thead>\n",
       "  <tbody>\n",
       "    <tr>\n",
       "      <th>count</th>\n",
       "      <td>14875.000000</td>\n",
       "      <td>14875.000000</td>\n",
       "      <td>14875.000000</td>\n",
       "    </tr>\n",
       "    <tr>\n",
       "      <th>mean</th>\n",
       "      <td>1615.186756</td>\n",
       "      <td>0.670453</td>\n",
       "      <td>0.500723</td>\n",
       "    </tr>\n",
       "    <tr>\n",
       "      <th>std</th>\n",
       "      <td>934.593897</td>\n",
       "      <td>0.408170</td>\n",
       "      <td>0.310880</td>\n",
       "    </tr>\n",
       "    <tr>\n",
       "      <th>min</th>\n",
       "      <td>1.000000</td>\n",
       "      <td>0.030002</td>\n",
       "      <td>0.020806</td>\n",
       "    </tr>\n",
       "    <tr>\n",
       "      <th>25%</th>\n",
       "      <td>806.000000</td>\n",
       "      <td>0.395295</td>\n",
       "      <td>0.291003</td>\n",
       "    </tr>\n",
       "    <tr>\n",
       "      <th>50%</th>\n",
       "      <td>1617.000000</td>\n",
       "      <td>0.555565</td>\n",
       "      <td>0.415984</td>\n",
       "    </tr>\n",
       "    <tr>\n",
       "      <th>75%</th>\n",
       "      <td>2429.000000</td>\n",
       "      <td>0.857049</td>\n",
       "      <td>0.637403</td>\n",
       "    </tr>\n",
       "    <tr>\n",
       "      <th>max</th>\n",
       "      <td>3241.000000</td>\n",
       "      <td>3.731596</td>\n",
       "      <td>2.676388</td>\n",
       "    </tr>\n",
       "  </tbody>\n",
       "</table>\n",
       "</div>"
      ],
      "text/plain": [
       "                key  active_power  reactive_power\n",
       "count  14875.000000  14875.000000    14875.000000\n",
       "mean    1615.186756      0.670453        0.500723\n",
       "std      934.593897      0.408170        0.310880\n",
       "min        1.000000      0.030002        0.020806\n",
       "25%      806.000000      0.395295        0.291003\n",
       "50%     1617.000000      0.555565        0.415984\n",
       "75%     2429.000000      0.857049        0.637403\n",
       "max     3241.000000      3.731596        2.676388"
      ]
     },
     "execution_count": 29,
     "metadata": {},
     "output_type": "execute_result"
    }
   ],
   "source": [
    "# get rid of the anomalous value in the reactive power column\n",
    "electrods = electrods.query('reactive_power > 0')\n",
    "\n",
    "display(electrods.head(10))\n",
    "electrods.describe()"
   ]
  },
  {
   "cell_type": "markdown",
   "id": "6f1efee1",
   "metadata": {},
   "source": [
    "Let's sum the power values ​​for each switch to get all active and reactive power for each batch."
   ]
  },
  {
   "cell_type": "code",
   "execution_count": 30,
   "id": "32912151",
   "metadata": {
    "scrolled": true
   },
   "outputs": [
    {
     "data": {
      "text/html": [
       "<div>\n",
       "<style scoped>\n",
       "    .dataframe tbody tr th:only-of-type {\n",
       "        vertical-align: middle;\n",
       "    }\n",
       "\n",
       "    .dataframe tbody tr th {\n",
       "        vertical-align: top;\n",
       "    }\n",
       "\n",
       "    .dataframe thead th {\n",
       "        text-align: right;\n",
       "    }\n",
       "</style>\n",
       "<table border=\"1\" class=\"dataframe\">\n",
       "  <thead>\n",
       "    <tr style=\"text-align: right;\">\n",
       "      <th></th>\n",
       "      <th>active_power</th>\n",
       "      <th>reactive_power</th>\n",
       "    </tr>\n",
       "    <tr>\n",
       "      <th>key</th>\n",
       "      <th></th>\n",
       "      <th></th>\n",
       "    </tr>\n",
       "  </thead>\n",
       "  <tbody>\n",
       "    <tr>\n",
       "      <th>1</th>\n",
       "      <td>4.878147</td>\n",
       "      <td>3.183241</td>\n",
       "    </tr>\n",
       "    <tr>\n",
       "      <th>2</th>\n",
       "      <td>3.052598</td>\n",
       "      <td>1.998112</td>\n",
       "    </tr>\n",
       "    <tr>\n",
       "      <th>3</th>\n",
       "      <td>2.525882</td>\n",
       "      <td>1.599076</td>\n",
       "    </tr>\n",
       "    <tr>\n",
       "      <th>4</th>\n",
       "      <td>3.209250</td>\n",
       "      <td>2.060298</td>\n",
       "    </tr>\n",
       "    <tr>\n",
       "      <th>5</th>\n",
       "      <td>3.347173</td>\n",
       "      <td>2.252643</td>\n",
       "    </tr>\n",
       "  </tbody>\n",
       "</table>\n",
       "</div>"
      ],
      "text/plain": [
       "     active_power  reactive_power\n",
       "key                              \n",
       "1        4.878147        3.183241\n",
       "2        3.052598        1.998112\n",
       "3        2.525882        1.599076\n",
       "4        3.209250        2.060298\n",
       "5        3.347173        2.252643"
      ]
     },
     "metadata": {},
     "output_type": "display_data"
    }
   ],
   "source": [
    "# Get a summary table of sums of active and reactive power values for each key\n",
    "itog = electrods.pivot_table( index=['key'],values = ['active_power', 'reactive_power'], aggfunc='sum')\n",
    "display(itog.head())"
   ]
  },
  {
   "cell_type": "markdown",
   "id": "96195fa4",
   "metadata": {},
   "source": [
    "## 2.2. Temperature table data preprocessing"
   ]
  },
  {
   "cell_type": "markdown",
   "id": "5b7dd4d2",
   "metadata": {},
   "source": [
    "Delete all rows with missing values ​​and temperature less than 1400"
   ]
  },
  {
   "cell_type": "code",
   "execution_count": 31,
   "id": "eaf44a74",
   "metadata": {
    "scrolled": true
   },
   "outputs": [
    {
     "name": "stdout",
     "output_type": "stream",
     "text": [
      "<class 'pandas.core.frame.DataFrame'>\n",
      "Int64Index: 12999 entries, 0 to 15902\n",
      "Data columns (total 3 columns):\n",
      " #   Column       Non-Null Count  Dtype  \n",
      "---  ------       --------------  -----  \n",
      " 0   key          12999 non-null  int64  \n",
      " 1   time         12999 non-null  object \n",
      " 2   temperature  12999 non-null  float64\n",
      "dtypes: float64(1), int64(1), object(1)\n",
      "memory usage: 406.2+ KB\n"
     ]
    },
    {
     "data": {
      "text/html": [
       "<div>\n",
       "<style scoped>\n",
       "    .dataframe tbody tr th:only-of-type {\n",
       "        vertical-align: middle;\n",
       "    }\n",
       "\n",
       "    .dataframe tbody tr th {\n",
       "        vertical-align: top;\n",
       "    }\n",
       "\n",
       "    .dataframe thead th {\n",
       "        text-align: right;\n",
       "    }\n",
       "</style>\n",
       "<table border=\"1\" class=\"dataframe\">\n",
       "  <thead>\n",
       "    <tr style=\"text-align: right;\">\n",
       "      <th></th>\n",
       "      <th>key</th>\n",
       "      <th>time</th>\n",
       "      <th>temperature</th>\n",
       "    </tr>\n",
       "  </thead>\n",
       "  <tbody>\n",
       "    <tr>\n",
       "      <th>0</th>\n",
       "      <td>1</td>\n",
       "      <td>2019-05-03 11:16:18</td>\n",
       "      <td>1571.0</td>\n",
       "    </tr>\n",
       "    <tr>\n",
       "      <th>1</th>\n",
       "      <td>1</td>\n",
       "      <td>2019-05-03 11:25:53</td>\n",
       "      <td>1604.0</td>\n",
       "    </tr>\n",
       "    <tr>\n",
       "      <th>2</th>\n",
       "      <td>1</td>\n",
       "      <td>2019-05-03 11:29:11</td>\n",
       "      <td>1618.0</td>\n",
       "    </tr>\n",
       "    <tr>\n",
       "      <th>3</th>\n",
       "      <td>1</td>\n",
       "      <td>2019-05-03 11:30:01</td>\n",
       "      <td>1601.0</td>\n",
       "    </tr>\n",
       "    <tr>\n",
       "      <th>4</th>\n",
       "      <td>1</td>\n",
       "      <td>2019-05-03 11:30:39</td>\n",
       "      <td>1613.0</td>\n",
       "    </tr>\n",
       "  </tbody>\n",
       "</table>\n",
       "</div>"
      ],
      "text/plain": [
       "   key                 time  temperature\n",
       "0    1  2019-05-03 11:16:18       1571.0\n",
       "1    1  2019-05-03 11:25:53       1604.0\n",
       "2    1  2019-05-03 11:29:11       1618.0\n",
       "3    1  2019-05-03 11:30:01       1601.0\n",
       "4    1  2019-05-03 11:30:39       1613.0"
      ]
     },
     "metadata": {},
     "output_type": "display_data"
    }
   ],
   "source": [
    "# Removing gaps and values below the minimum allowable temperature\n",
    "temperature = temperature.fillna(0)\n",
    "temperature = temperature.query('temperature > 1400')\n",
    "\n",
    "temperature.info()\n",
    "display(temperature.head())"
   ]
  },
  {
   "cell_type": "markdown",
   "id": "24889c19",
   "metadata": {},
   "source": [
    "Let's create a summary table with the maximum and minimum temperature measurement time for each batch"
   ]
  },
  {
   "cell_type": "code",
   "execution_count": 32,
   "id": "d3558596",
   "metadata": {
    "scrolled": false
   },
   "outputs": [
    {
     "data": {
      "text/html": [
       "<div>\n",
       "<style scoped>\n",
       "    .dataframe tbody tr th:only-of-type {\n",
       "        vertical-align: middle;\n",
       "    }\n",
       "\n",
       "    .dataframe tbody tr th {\n",
       "        vertical-align: top;\n",
       "    }\n",
       "\n",
       "    .dataframe thead th {\n",
       "        text-align: right;\n",
       "    }\n",
       "</style>\n",
       "<table border=\"1\" class=\"dataframe\">\n",
       "  <thead>\n",
       "    <tr style=\"text-align: right;\">\n",
       "      <th></th>\n",
       "      <th>amax</th>\n",
       "      <th>amin</th>\n",
       "    </tr>\n",
       "    <tr>\n",
       "      <th>key</th>\n",
       "      <th></th>\n",
       "      <th></th>\n",
       "    </tr>\n",
       "  </thead>\n",
       "  <tbody>\n",
       "    <tr>\n",
       "      <th>1</th>\n",
       "      <td>2019-05-03 11:30:39</td>\n",
       "      <td>2019-05-03 11:16:18</td>\n",
       "    </tr>\n",
       "    <tr>\n",
       "      <th>2</th>\n",
       "      <td>2019-05-03 11:59:12</td>\n",
       "      <td>2019-05-03 11:37:27</td>\n",
       "    </tr>\n",
       "    <tr>\n",
       "      <th>3</th>\n",
       "      <td>2019-05-03 12:34:57</td>\n",
       "      <td>2019-05-03 12:13:17</td>\n",
       "    </tr>\n",
       "    <tr>\n",
       "      <th>4</th>\n",
       "      <td>2019-05-03 12:59:25</td>\n",
       "      <td>2019-05-03 12:52:57</td>\n",
       "    </tr>\n",
       "    <tr>\n",
       "      <th>5</th>\n",
       "      <td>2019-05-03 13:36:01</td>\n",
       "      <td>2019-05-03 13:23:19</td>\n",
       "    </tr>\n",
       "    <tr>\n",
       "      <th>...</th>\n",
       "      <td>...</td>\n",
       "      <td>...</td>\n",
       "    </tr>\n",
       "    <tr>\n",
       "      <th>3237</th>\n",
       "      <td>2019-08-31 22:44:04</td>\n",
       "      <td>2019-08-31 22:44:04</td>\n",
       "    </tr>\n",
       "    <tr>\n",
       "      <th>3238</th>\n",
       "      <td>2019-08-31 23:30:31</td>\n",
       "      <td>2019-08-31 23:30:31</td>\n",
       "    </tr>\n",
       "    <tr>\n",
       "      <th>3239</th>\n",
       "      <td>2019-09-01 01:31:47</td>\n",
       "      <td>2019-09-01 01:31:47</td>\n",
       "    </tr>\n",
       "    <tr>\n",
       "      <th>3240</th>\n",
       "      <td>2019-09-01 02:39:01</td>\n",
       "      <td>2019-09-01 02:39:01</td>\n",
       "    </tr>\n",
       "    <tr>\n",
       "      <th>3241</th>\n",
       "      <td>2019-09-01 04:03:30</td>\n",
       "      <td>2019-09-01 04:03:30</td>\n",
       "    </tr>\n",
       "  </tbody>\n",
       "</table>\n",
       "<p>3215 rows × 2 columns</p>\n",
       "</div>"
      ],
      "text/plain": [
       "                     amax                 amin\n",
       "key                                           \n",
       "1     2019-05-03 11:30:39  2019-05-03 11:16:18\n",
       "2     2019-05-03 11:59:12  2019-05-03 11:37:27\n",
       "3     2019-05-03 12:34:57  2019-05-03 12:13:17\n",
       "4     2019-05-03 12:59:25  2019-05-03 12:52:57\n",
       "5     2019-05-03 13:36:01  2019-05-03 13:23:19\n",
       "...                   ...                  ...\n",
       "3237  2019-08-31 22:44:04  2019-08-31 22:44:04\n",
       "3238  2019-08-31 23:30:31  2019-08-31 23:30:31\n",
       "3239  2019-09-01 01:31:47  2019-09-01 01:31:47\n",
       "3240  2019-09-01 02:39:01  2019-09-01 02:39:01\n",
       "3241  2019-09-01 04:03:30  2019-09-01 04:03:30\n",
       "\n",
       "[3215 rows x 2 columns]"
      ]
     },
     "metadata": {},
     "output_type": "display_data"
    }
   ],
   "source": [
    "temperature_mx = pd.pivot_table(temperature,\n",
    "                                values='time',\n",
    "                                index='key',\n",
    "                                aggfunc={'time': [np.min, np.max]})\n",
    "display(temperature_mx)"
   ]
  },
  {
   "cell_type": "markdown",
   "id": "d2311ca3",
   "metadata": {},
   "source": [
    "Let's delete those batches where the measurements of the maximum and minimum temperature measurements are the same."
   ]
  },
  {
   "cell_type": "code",
   "execution_count": 33,
   "id": "5013e7dd",
   "metadata": {
    "scrolled": true
   },
   "outputs": [
    {
     "name": "stdout",
     "output_type": "stream",
     "text": [
      "<class 'pandas.core.frame.DataFrame'>\n",
      "Int64Index: 2475 entries, 1 to 2499\n",
      "Data columns (total 2 columns):\n",
      " #   Column  Non-Null Count  Dtype \n",
      "---  ------  --------------  ----- \n",
      " 0   amax    2475 non-null   object\n",
      " 1   amin    2475 non-null   object\n",
      "dtypes: object(2)\n",
      "memory usage: 58.0+ KB\n"
     ]
    },
    {
     "data": {
      "text/html": [
       "<div>\n",
       "<style scoped>\n",
       "    .dataframe tbody tr th:only-of-type {\n",
       "        vertical-align: middle;\n",
       "    }\n",
       "\n",
       "    .dataframe tbody tr th {\n",
       "        vertical-align: top;\n",
       "    }\n",
       "\n",
       "    .dataframe thead th {\n",
       "        text-align: right;\n",
       "    }\n",
       "</style>\n",
       "<table border=\"1\" class=\"dataframe\">\n",
       "  <thead>\n",
       "    <tr style=\"text-align: right;\">\n",
       "      <th></th>\n",
       "      <th>amax</th>\n",
       "      <th>amin</th>\n",
       "    </tr>\n",
       "    <tr>\n",
       "      <th>key</th>\n",
       "      <th></th>\n",
       "      <th></th>\n",
       "    </tr>\n",
       "  </thead>\n",
       "  <tbody>\n",
       "    <tr>\n",
       "      <th>1</th>\n",
       "      <td>2019-05-03 11:30:39</td>\n",
       "      <td>2019-05-03 11:16:18</td>\n",
       "    </tr>\n",
       "    <tr>\n",
       "      <th>2</th>\n",
       "      <td>2019-05-03 11:59:12</td>\n",
       "      <td>2019-05-03 11:37:27</td>\n",
       "    </tr>\n",
       "    <tr>\n",
       "      <th>3</th>\n",
       "      <td>2019-05-03 12:34:57</td>\n",
       "      <td>2019-05-03 12:13:17</td>\n",
       "    </tr>\n",
       "    <tr>\n",
       "      <th>4</th>\n",
       "      <td>2019-05-03 12:59:25</td>\n",
       "      <td>2019-05-03 12:52:57</td>\n",
       "    </tr>\n",
       "    <tr>\n",
       "      <th>5</th>\n",
       "      <td>2019-05-03 13:36:01</td>\n",
       "      <td>2019-05-03 13:23:19</td>\n",
       "    </tr>\n",
       "  </tbody>\n",
       "</table>\n",
       "</div>"
      ],
      "text/plain": [
       "                    amax                 amin\n",
       "key                                          \n",
       "1    2019-05-03 11:30:39  2019-05-03 11:16:18\n",
       "2    2019-05-03 11:59:12  2019-05-03 11:37:27\n",
       "3    2019-05-03 12:34:57  2019-05-03 12:13:17\n",
       "4    2019-05-03 12:59:25  2019-05-03 12:52:57\n",
       "5    2019-05-03 13:36:01  2019-05-03 13:23:19"
      ]
     },
     "metadata": {},
     "output_type": "display_data"
    }
   ],
   "source": [
    "temperature_mx = temperature_mx.query('amax!=amin')\n",
    "temperature_mx.info()\n",
    "display(temperature_mx.head())"
   ]
  },
  {
   "cell_type": "markdown",
   "id": "eb43cd6b",
   "metadata": {},
   "source": [
    "We collect measurements of the initial and final temperatures."
   ]
  },
  {
   "cell_type": "code",
   "execution_count": 34,
   "id": "e6829322",
   "metadata": {
    "scrolled": true
   },
   "outputs": [
    {
     "data": {
      "text/html": [
       "<div>\n",
       "<style scoped>\n",
       "    .dataframe tbody tr th:only-of-type {\n",
       "        vertical-align: middle;\n",
       "    }\n",
       "\n",
       "    .dataframe tbody tr th {\n",
       "        vertical-align: top;\n",
       "    }\n",
       "\n",
       "    .dataframe thead th {\n",
       "        text-align: right;\n",
       "    }\n",
       "</style>\n",
       "<table border=\"1\" class=\"dataframe\">\n",
       "  <thead>\n",
       "    <tr style=\"text-align: right;\">\n",
       "      <th></th>\n",
       "      <th>start_temperature</th>\n",
       "      <th>final_temperature</th>\n",
       "    </tr>\n",
       "    <tr>\n",
       "      <th>key</th>\n",
       "      <th></th>\n",
       "      <th></th>\n",
       "    </tr>\n",
       "  </thead>\n",
       "  <tbody>\n",
       "    <tr>\n",
       "      <th>1</th>\n",
       "      <td>1571.0</td>\n",
       "      <td>1613.0</td>\n",
       "    </tr>\n",
       "    <tr>\n",
       "      <th>2</th>\n",
       "      <td>1581.0</td>\n",
       "      <td>1602.0</td>\n",
       "    </tr>\n",
       "    <tr>\n",
       "      <th>3</th>\n",
       "      <td>1596.0</td>\n",
       "      <td>1599.0</td>\n",
       "    </tr>\n",
       "    <tr>\n",
       "      <th>4</th>\n",
       "      <td>1601.0</td>\n",
       "      <td>1625.0</td>\n",
       "    </tr>\n",
       "    <tr>\n",
       "      <th>5</th>\n",
       "      <td>1576.0</td>\n",
       "      <td>1602.0</td>\n",
       "    </tr>\n",
       "    <tr>\n",
       "      <th>...</th>\n",
       "      <td>...</td>\n",
       "      <td>...</td>\n",
       "    </tr>\n",
       "    <tr>\n",
       "      <th>2495</th>\n",
       "      <td>1570.0</td>\n",
       "      <td>1591.0</td>\n",
       "    </tr>\n",
       "    <tr>\n",
       "      <th>2496</th>\n",
       "      <td>1554.0</td>\n",
       "      <td>1591.0</td>\n",
       "    </tr>\n",
       "    <tr>\n",
       "      <th>2497</th>\n",
       "      <td>1571.0</td>\n",
       "      <td>1589.0</td>\n",
       "    </tr>\n",
       "    <tr>\n",
       "      <th>2498</th>\n",
       "      <td>1591.0</td>\n",
       "      <td>1594.0</td>\n",
       "    </tr>\n",
       "    <tr>\n",
       "      <th>2499</th>\n",
       "      <td>1569.0</td>\n",
       "      <td>1603.0</td>\n",
       "    </tr>\n",
       "  </tbody>\n",
       "</table>\n",
       "<p>2475 rows × 2 columns</p>\n",
       "</div>"
      ],
      "text/plain": [
       "      start_temperature  final_temperature\n",
       "key                                       \n",
       "1                1571.0             1613.0\n",
       "2                1581.0             1602.0\n",
       "3                1596.0             1599.0\n",
       "4                1601.0             1625.0\n",
       "5                1576.0             1602.0\n",
       "...                 ...                ...\n",
       "2495             1570.0             1591.0\n",
       "2496             1554.0             1591.0\n",
       "2497             1571.0             1589.0\n",
       "2498             1591.0             1594.0\n",
       "2499             1569.0             1603.0\n",
       "\n",
       "[2475 rows x 2 columns]"
      ]
     },
     "metadata": {},
     "output_type": "display_data"
    },
    {
     "name": "stdout",
     "output_type": "stream",
     "text": [
      "<class 'pandas.core.frame.DataFrame'>\n",
      "Int64Index: 2475 entries, 1 to 2499\n",
      "Data columns (total 2 columns):\n",
      " #   Column             Non-Null Count  Dtype  \n",
      "---  ------             --------------  -----  \n",
      " 0   start_temperature  2475 non-null   float64\n",
      " 1   final_temperature  2475 non-null   float64\n",
      "dtypes: float64(2)\n",
      "memory usage: 58.0 KB\n"
     ]
    }
   ],
   "source": [
    "# Let's make cuts by temperature values\n",
    "min_time = list(temperature_mx['amin'])\n",
    "max_time = list(temperature_mx['amax'])\n",
    "min_time_temperature = temperature.query('time in @min_time')\n",
    "min_time_temperature = min_time_temperature.set_index('key')\n",
    "max_time_temperature = temperature.query('time in @max_time')\n",
    "max_time_temperature = max_time_temperature.set_index('key')\n",
    "\n",
    "# Let's join the necessary tables and leave only the initial and final temperatures\n",
    "final_temperature = temperature_mx.join(min_time_temperature, on = 'key')\n",
    "final_temperature = final_temperature.merge(max_time_temperature, on = 'key', how='left')\n",
    "final_temperature = final_temperature.drop(columns=['amax', 'amin', 'time_x', 'time_y'], axis=1)\n",
    "final_temperature = final_temperature.set_axis(['start_temperature', 'final_temperature'], axis='columns', inplace=False)\n",
    "display(final_temperature)\n",
    "final_temperature.info()"
   ]
  },
  {
   "cell_type": "markdown",
   "id": "06e5f202",
   "metadata": {},
   "source": [
    "## 2.3. Combining the Remaining Features"
   ]
  },
  {
   "cell_type": "markdown",
   "id": "63658fb4",
   "metadata": {},
   "source": [
    "Combine the remaining features of the bulk_materials_volume, expulsion_gas, wire_materials_volume tables into the final table."
   ]
  },
  {
   "cell_type": "code",
   "execution_count": 35,
   "id": "b1e5a6f6",
   "metadata": {},
   "outputs": [],
   "source": [
    "# Take out the indexes of the key column\n",
    "bulk_materials_volume = bulk_materials_volume.set_index('key')\n",
    "bulk_materials_volume.columns = [f'bulk_{x}' for x in range(1,16)]\n",
    "expultion_gas= expultion_gas.set_index('key')\n",
    "wire_materials_volume = wire_materials_volume.set_index('key')\n",
    "wire_materials_volume.columns = [f'wire_{x}' for x in range(1,10)]"
   ]
  },
  {
   "cell_type": "code",
   "execution_count": 36,
   "id": "f6a35ca8",
   "metadata": {},
   "outputs": [],
   "source": [
    "# join all tables\n",
    "df = [itog, final_temperature, bulk_materials_volume, expultion_gas, wire_materials_volume]\n",
    "final = ft.reduce(lambda left, right: pd.merge(left, right, on='key'), df)\n",
    "# Replace missing values with zeros\n",
    "final = final.fillna(0)"
   ]
  },
  {
   "cell_type": "code",
   "execution_count": 37,
   "id": "e4d53188",
   "metadata": {},
   "outputs": [
    {
     "name": "stdout",
     "output_type": "stream",
     "text": [
      "<class 'pandas.core.frame.DataFrame'>\n",
      "Int64Index: 2329 entries, 1 to 2499\n",
      "Data columns (total 29 columns):\n",
      " #   Column             Non-Null Count  Dtype  \n",
      "---  ------             --------------  -----  \n",
      " 0   active_power       2329 non-null   float64\n",
      " 1   reactive_power     2329 non-null   float64\n",
      " 2   start_temperature  2329 non-null   float64\n",
      " 3   final_temperature  2329 non-null   float64\n",
      " 4   bulk_1             2329 non-null   float64\n",
      " 5   bulk_2             2329 non-null   float64\n",
      " 6   bulk_3             2329 non-null   float64\n",
      " 7   bulk_4             2329 non-null   float64\n",
      " 8   bulk_5             2329 non-null   float64\n",
      " 9   bulk_6             2329 non-null   float64\n",
      " 10  bulk_7             2329 non-null   float64\n",
      " 11  bulk_8             2329 non-null   float64\n",
      " 12  bulk_9             2329 non-null   float64\n",
      " 13  bulk_10            2329 non-null   float64\n",
      " 14  bulk_11            2329 non-null   float64\n",
      " 15  bulk_12            2329 non-null   float64\n",
      " 16  bulk_13            2329 non-null   float64\n",
      " 17  bulk_14            2329 non-null   float64\n",
      " 18  bulk_15            2329 non-null   float64\n",
      " 19  gas                2329 non-null   float64\n",
      " 20  wire_1             2329 non-null   float64\n",
      " 21  wire_2             2329 non-null   float64\n",
      " 22  wire_3             2329 non-null   float64\n",
      " 23  wire_4             2329 non-null   float64\n",
      " 24  wire_5             2329 non-null   float64\n",
      " 25  wire_6             2329 non-null   float64\n",
      " 26  wire_7             2329 non-null   float64\n",
      " 27  wire_8             2329 non-null   float64\n",
      " 28  wire_9             2329 non-null   float64\n",
      "dtypes: float64(29)\n",
      "memory usage: 545.9 KB\n"
     ]
    }
   ],
   "source": [
    "final.info()"
   ]
  },
  {
   "cell_type": "markdown",
   "id": "20cb14d7",
   "metadata": {},
   "source": [
    "2329 batches left in processing"
   ]
  },
  {
   "cell_type": "markdown",
   "id": "1e89fd0e",
   "metadata": {},
   "source": [
    "## 2.4. Replacing Data Types"
   ]
  },
  {
   "cell_type": "markdown",
   "id": "2da8b645",
   "metadata": {},
   "source": [
    "Let's cast the columns with the volume of bulk materials and temperature to the int type, since they contain integer values."
   ]
  },
  {
   "cell_type": "code",
   "execution_count": 38,
   "id": "59f79134",
   "metadata": {
    "scrolled": true
   },
   "outputs": [
    {
     "name": "stdout",
     "output_type": "stream",
     "text": [
      "<class 'pandas.core.frame.DataFrame'>\n",
      "Int64Index: 2329 entries, 1 to 2499\n",
      "Data columns (total 29 columns):\n",
      " #   Column             Non-Null Count  Dtype  \n",
      "---  ------             --------------  -----  \n",
      " 0   active_power       2329 non-null   float64\n",
      " 1   reactive_power     2329 non-null   float64\n",
      " 2   start_temperature  2329 non-null   int32  \n",
      " 3   final_temperature  2329 non-null   int32  \n",
      " 4   bulk_1             2329 non-null   int32  \n",
      " 5   bulk_2             2329 non-null   int32  \n",
      " 6   bulk_3             2329 non-null   int32  \n",
      " 7   bulk_4             2329 non-null   int32  \n",
      " 8   bulk_5             2329 non-null   int32  \n",
      " 9   bulk_6             2329 non-null   int32  \n",
      " 10  bulk_7             2329 non-null   int32  \n",
      " 11  bulk_8             2329 non-null   int32  \n",
      " 12  bulk_9             2329 non-null   int32  \n",
      " 13  bulk_10            2329 non-null   int32  \n",
      " 14  bulk_11            2329 non-null   int32  \n",
      " 15  bulk_12            2329 non-null   int32  \n",
      " 16  bulk_13            2329 non-null   int32  \n",
      " 17  bulk_14            2329 non-null   int32  \n",
      " 18  bulk_15            2329 non-null   int32  \n",
      " 19  gas                2329 non-null   float64\n",
      " 20  wire_1             2329 non-null   float64\n",
      " 21  wire_2             2329 non-null   float64\n",
      " 22  wire_3             2329 non-null   float64\n",
      " 23  wire_4             2329 non-null   float64\n",
      " 24  wire_5             2329 non-null   float64\n",
      " 25  wire_6             2329 non-null   float64\n",
      " 26  wire_7             2329 non-null   float64\n",
      " 27  wire_8             2329 non-null   float64\n",
      " 28  wire_9             2329 non-null   float64\n",
      "dtypes: float64(12), int32(17)\n",
      "memory usage: 391.2 KB\n"
     ]
    }
   ],
   "source": [
    "final['final_temperature'] = final['final_temperature'].astype('int')\n",
    "final['start_temperature'] = final['start_temperature'].astype('int')\n",
    "\n",
    " \n",
    "for i in range(1,16):\n",
    "    final[[f'bulk_{i}']] = final[[f'bulk_{i}']].astype('int')\n",
    "\n",
    "final.info()"
   ]
  },
  {
   "cell_type": "markdown",
   "id": "3fb139c2",
   "metadata": {},
   "source": [
    "## 2.5. Multicollinearity estimation "
   ]
  },
  {
   "cell_type": "code",
   "execution_count": 39,
   "id": "2cfa2cac",
   "metadata": {},
   "outputs": [
    {
     "data": {
      "image/png": "[encoded data removed]",
      "text/plain": [
       "<Figure size 1440x1440 with 1 Axes>"
      ]
     },
     "metadata": {
      "needs_background": "light"
     },
     "output_type": "display_data"
    }
   ],
   "source": [
    "final_knn = final.copy()\n",
    "corr_heatmap_final = final_knn.corr()\n",
    "\n",
    "fig, ax = plt.subplots(figsize=(20,20))\n",
    "ax.set_xticks(np.arange(len(corr_heatmap_final.index)))\n",
    "ax.set_yticks(np.arange(len(corr_heatmap_final.index)))\n",
    "\n",
    "ax.set_xticklabels(corr_heatmap_final.index)\n",
    "ax.set_yticklabels(corr_heatmap_final.index)\n",
    "\n",
    "plt.setp(ax.get_xticklabels(), rotation=45, ha=\"right\",\n",
    "         rotation_mode=\"anchor\")\n",
    "\n",
    "data = corr_heatmap_final.values\n",
    "\n",
    "for i in range(len(corr_heatmap_final.index)):\n",
    "    for j in range(len(corr_heatmap_final.index)):\n",
    "        text = ax.text(j, i, '{:.2}'.format(data[i, j]),\n",
    "                       ha=\"center\", va=\"center\", color=\"w\")\n",
    "        \n",
    "im = ax.imshow(corr_heatmap_final.corr(), cmap='Reds')"
   ]
  },
  {
   "cell_type": "markdown",
   "id": "55b91158",
   "metadata": {},
   "source": [
    "Conclusion: when building a heatmap, it is clear that the wire_5 feature is without data. It should be removed. Very high correlation between active and reactive power and between bulk_9 and wire_8 (>0.9). So these feauters are interchangeable, we can remove one from each pair."
   ]
  },
  {
   "cell_type": "code",
   "execution_count": 40,
   "id": "1adce10f",
   "metadata": {
    "scrolled": true
   },
   "outputs": [
    {
     "name": "stdout",
     "output_type": "stream",
     "text": [
      "<class 'pandas.core.frame.DataFrame'>\n",
      "Int64Index: 2329 entries, 1 to 2499\n",
      "Data columns (total 26 columns):\n",
      " #   Column             Non-Null Count  Dtype  \n",
      "---  ------             --------------  -----  \n",
      " 0   active_power       2329 non-null   float64\n",
      " 1   start_temperature  2329 non-null   int32  \n",
      " 2   final_temperature  2329 non-null   int32  \n",
      " 3   bulk_1             2329 non-null   int32  \n",
      " 4   bulk_2             2329 non-null   int32  \n",
      " 5   bulk_3             2329 non-null   int32  \n",
      " 6   bulk_4             2329 non-null   int32  \n",
      " 7   bulk_5             2329 non-null   int32  \n",
      " 8   bulk_6             2329 non-null   int32  \n",
      " 9   bulk_7             2329 non-null   int32  \n",
      " 10  bulk_8             2329 non-null   int32  \n",
      " 11  bulk_9             2329 non-null   int32  \n",
      " 12  bulk_10            2329 non-null   int32  \n",
      " 13  bulk_11            2329 non-null   int32  \n",
      " 14  bulk_12            2329 non-null   int32  \n",
      " 15  bulk_13            2329 non-null   int32  \n",
      " 16  bulk_14            2329 non-null   int32  \n",
      " 17  bulk_15            2329 non-null   int32  \n",
      " 18  gas                2329 non-null   float64\n",
      " 19  wire_1             2329 non-null   float64\n",
      " 20  wire_2             2329 non-null   float64\n",
      " 21  wire_3             2329 non-null   float64\n",
      " 22  wire_4             2329 non-null   float64\n",
      " 23  wire_6             2329 non-null   float64\n",
      " 24  wire_7             2329 non-null   float64\n",
      " 25  wire_9             2329 non-null   float64\n",
      "dtypes: float64(9), int32(17)\n",
      "memory usage: 336.6 KB\n"
     ]
    }
   ],
   "source": [
    "final_knn = final_knn.drop(['reactive_power', 'wire_8', 'wire_5'], axis=1)\n",
    "final_knn.info()"
   ]
  },
  {
   "cell_type": "markdown",
   "id": "1f680341",
   "metadata": {},
   "source": [
    "Conclusion: feauters are prepared for work."
   ]
  },
  {
   "cell_type": "markdown",
   "id": "e2b9bf82",
   "metadata": {},
   "source": [
    "# 3. Model Training"
   ]
  },
  {
   "cell_type": "markdown",
   "id": "1aac195e",
   "metadata": {},
   "source": [
    "## 3.1. Creation of training and test sets"
   ]
  },
  {
   "cell_type": "code",
   "execution_count": 41,
   "id": "418bdbbd",
   "metadata": {},
   "outputs": [
    {
     "name": "stdout",
     "output_type": "stream",
     "text": [
      "(1863, 25)\n",
      "(466, 25)\n"
     ]
    }
   ],
   "source": [
    "random_state = 29082022\n",
    "\n",
    "# Separation of features and target feature\n",
    "features = final_knn.drop('final_temperature', axis=1)\n",
    "target = final_knn['final_temperature']\n",
    "\n",
    "# we divide the sample into training and training in the ratio of 4: 1\n",
    "features_train, features_test, target_train, target_test = train_test_split(\n",
    "                                                            features, \n",
    "                                                            target, \n",
    "                                                            test_size=0.2, \n",
    "                                                            random_state=random_state)\n",
    "\n",
    "cv = 5\n",
    "\n",
    "# Dimension check\n",
    "print(features_train.shape)\n",
    "print(features_test.shape)"
   ]
  },
  {
   "cell_type": "markdown",
   "id": "20ebfe17",
   "metadata": {},
   "source": [
    "## 3.2. Selection of hyperparameters"
   ]
  },
  {
   "cell_type": "code",
   "execution_count": 42,
   "id": "e25e464b",
   "metadata": {},
   "outputs": [],
   "source": [
    "# function for fitting hyperparameters\n",
    "def hyperparameters(model, parametrs):\n",
    "    grid = GridSearchCV(estimator=model,\n",
    "                       param_grid = parametrs,\n",
    "                       n_jobs=-1,\n",
    "                       scoring = 'neg_mean_absolute_error')\n",
    "    grid.fit(features_train, target_train)\n",
    "    return grid.best_params_"
   ]
  },
  {
   "cell_type": "markdown",
   "id": "6e0f084c",
   "metadata": {},
   "source": [
    "### 3.2.1 Hyperparameter fitting for the DecisionTreeRegressor model"
   ]
  },
  {
   "cell_type": "code",
   "execution_count": 43,
   "id": "90dde590",
   "metadata": {},
   "outputs": [
    {
     "name": "stdout",
     "output_type": "stream",
     "text": [
      "Wall time: 4.49 s\n"
     ]
    },
    {
     "data": {
      "text/plain": [
       "{'max_depth': 6, 'min_samples_leaf': 13}"
      ]
     },
     "execution_count": 43,
     "metadata": {},
     "output_type": "execute_result"
    }
   ],
   "source": [
    "%%time\n",
    "hyperparameters(DecisionTreeRegressor(random_state=random_state), {'max_depth': range(1,25), 'min_samples_leaf': range(7,14)})"
   ]
  },
  {
   "cell_type": "markdown",
   "id": "777ee961",
   "metadata": {},
   "source": [
    "### 3.2.2 Hyperparameter fitting for the LGBMRegressor model"
   ]
  },
  {
   "cell_type": "code",
   "execution_count": 44,
   "id": "0755d333",
   "metadata": {
    "scrolled": true
   },
   "outputs": [
    {
     "name": "stdout",
     "output_type": "stream",
     "text": [
      "[LightGBM] [Warning] Accuracy may be bad since you didn't explicitly set num_leaves OR 2^max_depth > num_leaves. (num_leaves=31).\n",
      "[LightGBM] [Warning] Accuracy may be bad since you didn't explicitly set num_leaves OR 2^max_depth > num_leaves. (num_leaves=31).\n",
      "[LightGBM] [Debug] Dataset::GetMultiBinFromSparseFeatures: sparse rate 0.893260\n",
      "[LightGBM] [Debug] Dataset::GetMultiBinFromAllFeatures: sparse rate 0.501677\n",
      "[LightGBM] [Debug] init for col-wise cost 0.000352 seconds, init for row-wise cost 0.000471 seconds\n",
      "[LightGBM] [Warning] Auto-choosing col-wise multi-threading, the overhead of testing was 0.000569 seconds.\n",
      "You can set `force_col_wise=true` to remove the overhead.\n",
      "[LightGBM] [Info] Total Bins 2085\n",
      "[LightGBM] [Info] Number of data points in the train set: 1863, number of used features: 17\n",
      "[LightGBM] [Info] Start training from score 1593.395598\n",
      "[LightGBM] [Debug] Trained a tree with leaves = 31 and depth = 8\n",
      "[LightGBM] [Debug] Trained a tree with leaves = 31 and depth = 7\n",
      "[LightGBM] [Debug] Trained a tree with leaves = 31 and depth = 7\n",
      "[LightGBM] [Debug] Trained a tree with leaves = 31 and depth = 8\n",
      "[LightGBM] [Debug] Trained a tree with leaves = 31 and depth = 8\n",
      "[LightGBM] [Debug] Trained a tree with leaves = 31 and depth = 8\n",
      "[LightGBM] [Debug] Trained a tree with leaves = 31 and depth = 8\n",
      "[LightGBM] [Debug] Trained a tree with leaves = 31 and depth = 8\n",
      "[LightGBM] [Debug] Trained a tree with leaves = 31 and depth = 10\n",
      "[LightGBM] [Debug] Trained a tree with leaves = 31 and depth = 8\n",
      "[LightGBM] [Debug] Trained a tree with leaves = 31 and depth = 8\n",
      "[LightGBM] [Debug] Trained a tree with leaves = 31 and depth = 8\n",
      "[LightGBM] [Debug] Trained a tree with leaves = 31 and depth = 12\n",
      "[LightGBM] [Debug] Trained a tree with leaves = 31 and depth = 10\n",
      "[LightGBM] [Debug] Trained a tree with leaves = 31 and depth = 10\n",
      "[LightGBM] [Debug] Trained a tree with leaves = 31 and depth = 9\n",
      "[LightGBM] [Debug] Trained a tree with leaves = 31 and depth = 9\n",
      "[LightGBM] [Debug] Trained a tree with leaves = 31 and depth = 12\n",
      "[LightGBM] [Debug] Trained a tree with leaves = 31 and depth = 13\n",
      "[LightGBM] [Debug] Trained a tree with leaves = 31 and depth = 12\n",
      "[LightGBM] [Debug] Trained a tree with leaves = 31 and depth = 12\n",
      "[LightGBM] [Debug] Trained a tree with leaves = 31 and depth = 12\n",
      "[LightGBM] [Debug] Trained a tree with leaves = 31 and depth = 13\n",
      "[LightGBM] [Debug] Trained a tree with leaves = 31 and depth = 10\n",
      "[LightGBM] [Debug] Trained a tree with leaves = 31 and depth = 13\n",
      "[LightGBM] [Debug] Trained a tree with leaves = 31 and depth = 12\n",
      "[LightGBM] [Debug] Trained a tree with leaves = 31 and depth = 10\n",
      "[LightGBM] [Debug] Trained a tree with leaves = 31 and depth = 13\n",
      "[LightGBM] [Debug] Trained a tree with leaves = 31 and depth = 11\n",
      "[LightGBM] [Debug] Trained a tree with leaves = 31 and depth = 13\n",
      "[LightGBM] [Debug] Trained a tree with leaves = 31 and depth = 13\n",
      "[LightGBM] [Debug] Trained a tree with leaves = 31 and depth = 13\n",
      "[LightGBM] [Debug] Trained a tree with leaves = 31 and depth = 13\n",
      "[LightGBM] [Debug] Trained a tree with leaves = 31 and depth = 13\n",
      "[LightGBM] [Debug] Trained a tree with leaves = 31 and depth = 13\n",
      "[LightGBM] [Warning] No further splits with positive gain, best gain: -inf\n",
      "[LightGBM] [Debug] Trained a tree with leaves = 23 and depth = 13\n",
      "[LightGBM] [Warning] No further splits with positive gain, best gain: -inf\n",
      "[LightGBM] [Debug] Trained a tree with leaves = 30 and depth = 13\n",
      "[LightGBM] [Warning] No further splits with positive gain, best gain: -inf\n",
      "[LightGBM] [Debug] Trained a tree with leaves = 23 and depth = 13\n",
      "[LightGBM] [Debug] Trained a tree with leaves = 31 and depth = 13\n",
      "[LightGBM] [Warning] No further splits with positive gain, best gain: -inf\n",
      "[LightGBM] [Debug] Trained a tree with leaves = 22 and depth = 13\n",
      "[LightGBM] [Debug] Trained a tree with leaves = 31 and depth = 13\n",
      "Wall time: 20.7 s\n"
     ]
    },
    {
     "data": {
      "text/plain": [
       "{'max_depth': 13, 'n_estimators': 41}"
      ]
     },
     "execution_count": 44,
     "metadata": {},
     "output_type": "execute_result"
    }
   ],
   "source": [
    "%%time\n",
    "hyperparameters(LGBMRegressor(random_state=random_state, verbose=10),\n",
    "                {'max_depth': range(1,25), 'n_estimators': range(1,150,10)})"
   ]
  },
  {
   "cell_type": "markdown",
   "id": "b2732417",
   "metadata": {},
   "source": [
    "### 3.2.3 Hyperparameter fitting for the XGBRegressor model"
   ]
  },
  {
   "cell_type": "code",
   "execution_count": 45,
   "id": "a6dc5097",
   "metadata": {},
   "outputs": [
    {
     "name": "stdout",
     "output_type": "stream",
     "text": [
      "[13:44:09] WARNING: C:/Users/administrator/workspace/xgboost-win64_release_1.6.0/src/learner.cc:627: \n",
      "Parameters: { \"verbose\" } might not be used.\n",
      "\n",
      "  This could be a false alarm, with some parameters getting used by language bindings but\n",
      "  then being mistakenly passed down to XGBoost core, or some parameter actually being used\n",
      "  but getting flagged wrongly here. Please open an issue if you find any such cases.\n",
      "\n",
      "\n",
      "Wall time: 1min 12s\n"
     ]
    },
    {
     "data": {
      "text/plain": [
       "{'max_depth': 2, 'n_estimators': 81}"
      ]
     },
     "execution_count": 45,
     "metadata": {},
     "output_type": "execute_result"
    }
   ],
   "source": [
    "%%time\n",
    "hyperparameters(XGBRegressor(random_state=random_state, verbose=10),\n",
    "                {'max_depth': range(1,25), 'n_estimators': range(1,150,10)})"
   ]
  },
  {
   "cell_type": "markdown",
   "id": "7c875def",
   "metadata": {},
   "source": [
    "The best hyperparameters are selected"
   ]
  },
  {
   "cell_type": "markdown",
   "id": "5e36532a",
   "metadata": {},
   "source": [
    "## 3.3 Selecting the best model"
   ]
  },
  {
   "cell_type": "code",
   "execution_count": 46,
   "id": "fd3d5927",
   "metadata": {
    "scrolled": true
   },
   "outputs": [
    {
     "name": "stdout",
     "output_type": "stream",
     "text": [
      "[LightGBM] [Warning] Accuracy may be bad since you didn't explicitly set num_leaves OR 2^max_depth > num_leaves. (num_leaves=31).\n",
      "[LightGBM] [Warning] Accuracy may be bad since you didn't explicitly set num_leaves OR 2^max_depth > num_leaves. (num_leaves=31).\n",
      "[LightGBM] [Debug] Dataset::GetMultiBinFromSparseFeatures: sparse rate 0.871588\n",
      "[LightGBM] [Debug] Dataset::GetMultiBinFromAllFeatures: sparse rate 0.529412\n",
      "[LightGBM] [Debug] init for col-wise cost 0.000309 seconds, init for row-wise cost 0.000421 seconds\n",
      "[LightGBM] [Warning] Auto-choosing col-wise multi-threading, the overhead of testing was 0.000503 seconds.\n",
      "You can set `force_col_wise=true` to remove the overhead.\n",
      "[LightGBM] [Info] Total Bins 1841\n",
      "[LightGBM] [Info] Number of data points in the train set: 1490, number of used features: 17\n",
      "[LightGBM] [Info] Start training from score 1593.418792\n",
      "[LightGBM] [Debug] Trained a tree with leaves = 31 and depth = 8\n",
      "[LightGBM] [Debug] Trained a tree with leaves = 31 and depth = 8\n",
      "[LightGBM] [Debug] Trained a tree with leaves = 31 and depth = 9\n",
      "[LightGBM] [Debug] Trained a tree with leaves = 31 and depth = 8\n",
      "[LightGBM] [Debug] Trained a tree with leaves = 31 and depth = 8\n",
      "[LightGBM] [Debug] Trained a tree with leaves = 31 and depth = 10\n",
      "[LightGBM] [Debug] Trained a tree with leaves = 31 and depth = 10\n",
      "[LightGBM] [Debug] Trained a tree with leaves = 31 and depth = 9\n",
      "[LightGBM] [Debug] Trained a tree with leaves = 31 and depth = 9\n",
      "[LightGBM] [Debug] Trained a tree with leaves = 31 and depth = 8\n",
      "[LightGBM] [Debug] Trained a tree with leaves = 31 and depth = 9\n",
      "[LightGBM] [Debug] Trained a tree with leaves = 31 and depth = 9\n",
      "[LightGBM] [Debug] Trained a tree with leaves = 31 and depth = 11\n",
      "[LightGBM] [Debug] Trained a tree with leaves = 31 and depth = 10\n",
      "[LightGBM] [Debug] Trained a tree with leaves = 31 and depth = 10\n",
      "[LightGBM] [Debug] Trained a tree with leaves = 31 and depth = 9\n",
      "[LightGBM] [Debug] Trained a tree with leaves = 31 and depth = 9\n",
      "[LightGBM] [Debug] Trained a tree with leaves = 31 and depth = 11\n",
      "[LightGBM] [Debug] Trained a tree with leaves = 31 and depth = 8\n",
      "[LightGBM] [Debug] Trained a tree with leaves = 31 and depth = 13\n",
      "[LightGBM] [Debug] Trained a tree with leaves = 31 and depth = 13\n",
      "[LightGBM] [Debug] Trained a tree with leaves = 31 and depth = 13\n",
      "[LightGBM] [Debug] Trained a tree with leaves = 31 and depth = 13\n",
      "[LightGBM] [Debug] Trained a tree with leaves = 31 and depth = 13\n",
      "[LightGBM] [Debug] Trained a tree with leaves = 31 and depth = 13\n",
      "[LightGBM] [Debug] Trained a tree with leaves = 31 and depth = 13\n",
      "[LightGBM] [Debug] Trained a tree with leaves = 31 and depth = 13\n",
      "[LightGBM] [Debug] Trained a tree with leaves = 31 and depth = 13\n",
      "[LightGBM] [Debug] Trained a tree with leaves = 31 and depth = 13\n",
      "[LightGBM] [Debug] Trained a tree with leaves = 31 and depth = 13\n",
      "[LightGBM] [Debug] Trained a tree with leaves = 31 and depth = 13\n",
      "[LightGBM] [Warning] No further splits with positive gain, best gain: -inf\n",
      "[LightGBM] [Debug] Trained a tree with leaves = 30 and depth = 13\n",
      "[LightGBM] [Debug] Trained a tree with leaves = 31 and depth = 11\n",
      "[LightGBM] [Debug] Trained a tree with leaves = 31 and depth = 13\n",
      "[LightGBM] [Debug] Trained a tree with leaves = 31 and depth = 13\n",
      "[LightGBM] [Debug] Trained a tree with leaves = 31 and depth = 13\n",
      "[LightGBM] [Debug] Trained a tree with leaves = 31 and depth = 13\n",
      "[LightGBM] [Debug] Trained a tree with leaves = 31 and depth = 13\n",
      "[LightGBM] [Warning] No further splits with positive gain, best gain: -inf\n",
      "[LightGBM] [Debug] Trained a tree with leaves = 23 and depth = 13\n",
      "[LightGBM] [Warning] No further splits with positive gain, best gain: -inf\n",
      "[LightGBM] [Debug] Trained a tree with leaves = 25 and depth = 13\n",
      "[LightGBM] [Warning] No further splits with positive gain, best gain: -inf\n",
      "[LightGBM] [Debug] Trained a tree with leaves = 28 and depth = 13\n",
      "[LightGBM] [Warning] Accuracy may be bad since you didn't explicitly set num_leaves OR 2^max_depth > num_leaves. (num_leaves=31).\n",
      "[LightGBM] [Warning] Accuracy may be bad since you didn't explicitly set num_leaves OR 2^max_depth > num_leaves. (num_leaves=31).\n",
      "[LightGBM] [Debug] Dataset::GetMultiBinFromSparseFeatures: sparse rate 0.894727\n",
      "[LightGBM] [Debug] Dataset::GetMultiBinFromAllFeatures: sparse rate 0.502936\n",
      "[LightGBM] [Debug] init for col-wise cost 0.000286 seconds, init for row-wise cost 0.000344 seconds\n",
      "[LightGBM] [Warning] Auto-choosing col-wise multi-threading, the overhead of testing was 0.000435 seconds.\n",
      "You can set `force_col_wise=true` to remove the overhead.\n",
      "[LightGBM] [Info] Total Bins 1852\n",
      "[LightGBM] [Info] Number of data points in the train set: 1490, number of used features: 17\n",
      "[LightGBM] [Info] Start training from score 1593.381879\n",
      "[LightGBM] [Debug] Trained a tree with leaves = 31 and depth = 7\n",
      "[LightGBM] [Debug] Trained a tree with leaves = 31 and depth = 8\n",
      "[LightGBM] [Debug] Trained a tree with leaves = 31 and depth = 8\n",
      "[LightGBM] [Debug] Trained a tree with leaves = 31 and depth = 8\n",
      "[LightGBM] [Debug] Trained a tree with leaves = 31 and depth = 9\n",
      "[LightGBM] [Debug] Trained a tree with leaves = 31 and depth = 7\n",
      "[LightGBM] [Debug] Trained a tree with leaves = 31 and depth = 9\n",
      "[LightGBM] [Debug] Trained a tree with leaves = 31 and depth = 8\n",
      "[LightGBM] [Debug] Trained a tree with leaves = 31 and depth = 8\n",
      "[LightGBM] [Debug] Trained a tree with leaves = 31 and depth = 7\n",
      "[LightGBM] [Debug] Trained a tree with leaves = 31 and depth = 10\n",
      "[LightGBM] [Debug] Trained a tree with leaves = 31 and depth = 8\n",
      "[LightGBM] [Debug] Trained a tree with leaves = 31 and depth = 10\n",
      "[LightGBM] [Debug] Trained a tree with leaves = 31 and depth = 11\n",
      "[LightGBM] [Debug] Trained a tree with leaves = 31 and depth = 10\n",
      "[LightGBM] [Debug] Trained a tree with leaves = 31 and depth = 10\n",
      "[LightGBM] [Debug] Trained a tree with leaves = 31 and depth = 11\n",
      "[LightGBM] [Debug] Trained a tree with leaves = 31 and depth = 12\n",
      "[LightGBM] [Debug] Trained a tree with leaves = 31 and depth = 13\n",
      "[LightGBM] [Debug] Trained a tree with leaves = 31 and depth = 11\n",
      "[LightGBM] [Debug] Trained a tree with leaves = 31 and depth = 13\n",
      "[LightGBM] [Debug] Trained a tree with leaves = 31 and depth = 13\n",
      "[LightGBM] [Debug] Trained a tree with leaves = 31 and depth = 13\n",
      "[LightGBM] [Debug] Trained a tree with leaves = 31 and depth = 13\n",
      "[LightGBM] [Debug] Trained a tree with leaves = 31 and depth = 13\n",
      "[LightGBM] [Debug] Trained a tree with leaves = 31 and depth = 12\n",
      "[LightGBM] [Debug] Trained a tree with leaves = 31 and depth = 13\n",
      "[LightGBM] [Debug] Trained a tree with leaves = 31 and depth = 13\n",
      "[LightGBM] [Debug] Trained a tree with leaves = 31 and depth = 13\n",
      "[LightGBM] [Debug] Trained a tree with leaves = 31 and depth = 13\n",
      "[LightGBM] [Warning] No further splits with positive gain, best gain: -inf\n",
      "[LightGBM] [Debug] Trained a tree with leaves = 30 and depth = 13\n",
      "[LightGBM] [Debug] Trained a tree with leaves = 31 and depth = 13\n",
      "[LightGBM] [Warning] No further splits with positive gain, best gain: -inf\n",
      "[LightGBM] [Debug] Trained a tree with leaves = 26 and depth = 13\n",
      "[LightGBM] [Debug] Trained a tree with leaves = 31 and depth = 13\n",
      "[LightGBM] [Warning] No further splits with positive gain, best gain: -inf\n",
      "[LightGBM] [Debug] Trained a tree with leaves = 28 and depth = 13\n",
      "[LightGBM] [Debug] Trained a tree with leaves = 31 and depth = 11\n",
      "[LightGBM] [Debug] Trained a tree with leaves = 31 and depth = 13\n",
      "[LightGBM] [Warning] No further splits with positive gain, best gain: -inf\n",
      "[LightGBM] [Debug] Trained a tree with leaves = 21 and depth = 13\n",
      "[LightGBM] [Debug] Trained a tree with leaves = 31 and depth = 13\n",
      "[LightGBM] [Debug] Trained a tree with leaves = 31 and depth = 13\n",
      "[LightGBM] [Debug] Trained a tree with leaves = 31 and depth = 13\n",
      "[LightGBM] [Warning] Accuracy may be bad since you didn't explicitly set num_leaves OR 2^max_depth > num_leaves. (num_leaves=31).\n",
      "[LightGBM] [Warning] Accuracy may be bad since you didn't explicitly set num_leaves OR 2^max_depth > num_leaves. (num_leaves=31).\n",
      "[LightGBM] [Debug] Dataset::GetMultiBinFromSparseFeatures: sparse rate 0.893001\n",
      "[LightGBM] [Debug] Dataset::GetMultiBinFromAllFeatures: sparse rate 0.501678\n",
      "[LightGBM] [Debug] init for col-wise cost 0.000369 seconds, init for row-wise cost 0.000367 seconds\n",
      "[LightGBM] [Warning] Auto-choosing col-wise multi-threading, the overhead of testing was 0.000446 seconds.\n",
      "You can set `force_col_wise=true` to remove the overhead.\n",
      "[LightGBM] [Info] Total Bins 1861\n",
      "[LightGBM] [Info] Number of data points in the train set: 1490, number of used features: 17\n",
      "[LightGBM] [Info] Start training from score 1593.332215\n",
      "[LightGBM] [Debug] Trained a tree with leaves = 31 and depth = 7\n",
      "[LightGBM] [Debug] Trained a tree with leaves = 31 and depth = 8\n",
      "[LightGBM] [Debug] Trained a tree with leaves = 31 and depth = 8\n",
      "[LightGBM] [Debug] Trained a tree with leaves = 31 and depth = 7\n",
      "[LightGBM] [Debug] Trained a tree with leaves = 31 and depth = 9\n",
      "[LightGBM] [Debug] Trained a tree with leaves = 31 and depth = 8\n",
      "[LightGBM] [Debug] Trained a tree with leaves = 31 and depth = 10\n",
      "[LightGBM] [Debug] Trained a tree with leaves = 31 and depth = 8\n",
      "[LightGBM] [Debug] Trained a tree with leaves = 31 and depth = 10\n",
      "[LightGBM] [Debug] Trained a tree with leaves = 31 and depth = 11\n",
      "[LightGBM] [Debug] Trained a tree with leaves = 31 and depth = 11\n",
      "[LightGBM] [Debug] Trained a tree with leaves = 31 and depth = 11\n",
      "[LightGBM] [Debug] Trained a tree with leaves = 31 and depth = 11\n",
      "[LightGBM] [Debug] Trained a tree with leaves = 31 and depth = 9\n",
      "[LightGBM] [Debug] Trained a tree with leaves = 31 and depth = 10\n",
      "[LightGBM] [Debug] Trained a tree with leaves = 31 and depth = 10\n",
      "[LightGBM] [Debug] Trained a tree with leaves = 31 and depth = 12\n",
      "[LightGBM] [Debug] Trained a tree with leaves = 31 and depth = 9\n",
      "[LightGBM] [Debug] Trained a tree with leaves = 31 and depth = 10\n",
      "[LightGBM] [Debug] Trained a tree with leaves = 31 and depth = 13\n",
      "[LightGBM] [Debug] Trained a tree with leaves = 31 and depth = 11\n",
      "[LightGBM] [Debug] Trained a tree with leaves = 31 and depth = 13\n",
      "[LightGBM] [Debug] Trained a tree with leaves = 31 and depth = 13\n",
      "[LightGBM] [Debug] Trained a tree with leaves = 31 and depth = 13\n",
      "[LightGBM] [Debug] Trained a tree with leaves = 31 and depth = 13\n",
      "[LightGBM] [Debug] Trained a tree with leaves = 31 and depth = 12\n",
      "[LightGBM] [Debug] Trained a tree with leaves = 31 and depth = 11\n",
      "[LightGBM] [Debug] Trained a tree with leaves = 31 and depth = 12\n",
      "[LightGBM] [Warning] No further splits with positive gain, best gain: -inf\n",
      "[LightGBM] [Debug] Trained a tree with leaves = 29 and depth = 13\n",
      "[LightGBM] [Warning] No further splits with positive gain, best gain: -inf\n",
      "[LightGBM] [Debug] Trained a tree with leaves = 17 and depth = 13\n",
      "[LightGBM] [Debug] Trained a tree with leaves = 31 and depth = 11\n",
      "[LightGBM] [Debug] Trained a tree with leaves = 31 and depth = 13\n",
      "[LightGBM] [Warning] No further splits with positive gain, best gain: -inf\n",
      "[LightGBM] [Debug] Trained a tree with leaves = 21 and depth = 13\n",
      "[LightGBM] [Debug] Trained a tree with leaves = 31 and depth = 13\n",
      "[LightGBM] [Warning] No further splits with positive gain, best gain: -inf\n",
      "[LightGBM] [Debug] Trained a tree with leaves = 25 and depth = 13\n",
      "[LightGBM] [Debug] Trained a tree with leaves = 31 and depth = 13\n",
      "[LightGBM] [Debug] Trained a tree with leaves = 31 and depth = 13\n",
      "[LightGBM] [Warning] No further splits with positive gain, best gain: -inf\n",
      "[LightGBM] [Debug] Trained a tree with leaves = 20 and depth = 13\n",
      "[LightGBM] [Warning] No further splits with positive gain, best gain: -inf\n",
      "[LightGBM] [Debug] Trained a tree with leaves = 27 and depth = 13\n",
      "[LightGBM] [Warning] No further splits with positive gain, best gain: -inf\n",
      "[LightGBM] [Debug] Trained a tree with leaves = 22 and depth = 13\n",
      "[LightGBM] [Debug] Trained a tree with leaves = 31 and depth = 13\n",
      "[LightGBM] [Warning] Accuracy may be bad since you didn't explicitly set num_leaves OR 2^max_depth > num_leaves. (num_leaves=31).\n",
      "[LightGBM] [Warning] Accuracy may be bad since you didn't explicitly set num_leaves OR 2^max_depth > num_leaves. (num_leaves=31).\n",
      "[LightGBM] [Debug] Dataset::GetMultiBinFromSparseFeatures: sparse rate 0.890965\n",
      "[LightGBM] [Debug] Dataset::GetMultiBinFromAllFeatures: sparse rate 0.500252\n",
      "[LightGBM] [Debug] init for col-wise cost 0.000282 seconds, init for row-wise cost 0.000418 seconds\n",
      "[LightGBM] [Warning] Auto-choosing col-wise multi-threading, the overhead of testing was 0.000535 seconds.\n",
      "You can set `force_col_wise=true` to remove the overhead.\n",
      "[LightGBM] [Info] Total Bins 1862\n",
      "[LightGBM] [Info] Number of data points in the train set: 1491, number of used features: 17\n",
      "[LightGBM] [Info] Start training from score 1593.340711\n",
      "[LightGBM] [Debug] Trained a tree with leaves = 31 and depth = 7\n",
      "[LightGBM] [Debug] Trained a tree with leaves = 31 and depth = 7\n",
      "[LightGBM] [Debug] Trained a tree with leaves = 31 and depth = 6\n",
      "[LightGBM] [Debug] Trained a tree with leaves = 31 and depth = 7\n",
      "[LightGBM] [Debug] Trained a tree with leaves = 31 and depth = 8\n",
      "[LightGBM] [Debug] Trained a tree with leaves = 31 and depth = 7\n",
      "[LightGBM] [Debug] Trained a tree with leaves = 31 and depth = 8\n",
      "[LightGBM] [Debug] Trained a tree with leaves = 31 and depth = 9\n",
      "[LightGBM] [Debug] Trained a tree with leaves = 31 and depth = 8\n",
      "[LightGBM] [Debug] Trained a tree with leaves = 31 and depth = 9\n",
      "[LightGBM] [Debug] Trained a tree with leaves = 31 and depth = 8\n",
      "[LightGBM] [Debug] Trained a tree with leaves = 31 and depth = 11\n",
      "[LightGBM] [Debug] Trained a tree with leaves = 31 and depth = 10\n",
      "[LightGBM] [Debug] Trained a tree with leaves = 31 and depth = 8\n",
      "[LightGBM] [Debug] Trained a tree with leaves = 31 and depth = 9\n",
      "[LightGBM] [Debug] Trained a tree with leaves = 31 and depth = 10\n",
      "[LightGBM] [Debug] Trained a tree with leaves = 31 and depth = 9\n",
      "[LightGBM] [Debug] Trained a tree with leaves = 31 and depth = 9\n",
      "[LightGBM] [Debug] Trained a tree with leaves = 31 and depth = 11\n",
      "[LightGBM] [Debug] Trained a tree with leaves = 31 and depth = 10\n",
      "[LightGBM] [Debug] Trained a tree with leaves = 31 and depth = 13\n",
      "[LightGBM] [Debug] Trained a tree with leaves = 31 and depth = 12\n",
      "[LightGBM] [Debug] Trained a tree with leaves = 31 and depth = 12\n",
      "[LightGBM] [Debug] Trained a tree with leaves = 31 and depth = 11\n",
      "[LightGBM] [Debug] Trained a tree with leaves = 31 and depth = 12\n",
      "[LightGBM] [Warning] No further splits with positive gain, best gain: -inf\n",
      "[LightGBM] [Debug] Trained a tree with leaves = 27 and depth = 13\n",
      "[LightGBM] [Debug] Trained a tree with leaves = 31 and depth = 13\n",
      "[LightGBM] [Debug] Trained a tree with leaves = 31 and depth = 13\n",
      "[LightGBM] [Warning] No further splits with positive gain, best gain: -inf\n",
      "[LightGBM] [Debug] Trained a tree with leaves = 25 and depth = 13\n",
      "[LightGBM] [Warning] No further splits with positive gain, best gain: -inf\n",
      "[LightGBM] [Debug] Trained a tree with leaves = 26 and depth = 13\n",
      "[LightGBM] [Debug] Trained a tree with leaves = 31 and depth = 13\n",
      "[LightGBM] [Debug] Trained a tree with leaves = 31 and depth = 13\n",
      "[LightGBM] [Warning] No further splits with positive gain, best gain: -inf\n",
      "[LightGBM] [Debug] Trained a tree with leaves = 24 and depth = 13\n",
      "[LightGBM] [Debug] Trained a tree with leaves = 31 and depth = 13\n",
      "[LightGBM] [Debug] Trained a tree with leaves = 31 and depth = 13\n",
      "[LightGBM] [Debug] Trained a tree with leaves = 31 and depth = 13\n",
      "[LightGBM] [Debug] Trained a tree with leaves = 31 and depth = 13\n",
      "[LightGBM] [Debug] Trained a tree with leaves = 31 and depth = 13\n",
      "[LightGBM] [Debug] Trained a tree with leaves = 31 and depth = 13\n",
      "[LightGBM] [Debug] Trained a tree with leaves = 31 and depth = 13\n",
      "[LightGBM] [Warning] No further splits with positive gain, best gain: -inf\n",
      "[LightGBM] [Debug] Trained a tree with leaves = 23 and depth = 13\n",
      "[LightGBM] [Warning] Accuracy may be bad since you didn't explicitly set num_leaves OR 2^max_depth > num_leaves. (num_leaves=31).\n",
      "[LightGBM] [Warning] Accuracy may be bad since you didn't explicitly set num_leaves OR 2^max_depth > num_leaves. (num_leaves=31).\n",
      "[LightGBM] [Debug] Dataset::GetMultiBinFromSparseFeatures: sparse rate 0.896043\n",
      "[LightGBM] [Debug] Dataset::GetMultiBinFromAllFeatures: sparse rate 0.503521\n",
      "[LightGBM] [Debug] init for col-wise cost 0.000292 seconds, init for row-wise cost 0.000383 seconds\n",
      "[LightGBM] [Warning] Auto-choosing col-wise multi-threading, the overhead of testing was 0.000487 seconds.\n",
      "You can set `force_col_wise=true` to remove the overhead.\n",
      "[LightGBM] [Info] Total Bins 1846\n",
      "[LightGBM] [Info] Number of data points in the train set: 1491, number of used features: 17\n",
      "[LightGBM] [Info] Start training from score 1593.504359\n",
      "[LightGBM] [Debug] Trained a tree with leaves = 31 and depth = 7\n",
      "[LightGBM] [Debug] Trained a tree with leaves = 31 and depth = 8\n",
      "[LightGBM] [Debug] Trained a tree with leaves = 31 and depth = 8\n",
      "[LightGBM] [Debug] Trained a tree with leaves = 31 and depth = 8\n",
      "[LightGBM] [Debug] Trained a tree with leaves = 31 and depth = 7\n",
      "[LightGBM] [Debug] Trained a tree with leaves = 31 and depth = 8\n",
      "[LightGBM] [Debug] Trained a tree with leaves = 31 and depth = 10\n",
      "[LightGBM] [Debug] Trained a tree with leaves = 31 and depth = 8\n",
      "[LightGBM] [Debug] Trained a tree with leaves = 31 and depth = 9\n",
      "[LightGBM] [Debug] Trained a tree with leaves = 31 and depth = 10\n",
      "[LightGBM] [Debug] Trained a tree with leaves = 31 and depth = 9\n",
      "[LightGBM] [Debug] Trained a tree with leaves = 31 and depth = 9\n",
      "[LightGBM] [Debug] Trained a tree with leaves = 31 and depth = 10\n",
      "[LightGBM] [Debug] Trained a tree with leaves = 31 and depth = 9\n",
      "[LightGBM] [Debug] Trained a tree with leaves = 31 and depth = 10\n",
      "[LightGBM] [Debug] Trained a tree with leaves = 31 and depth = 11\n",
      "[LightGBM] [Debug] Trained a tree with leaves = 31 and depth = 9\n",
      "[LightGBM] [Debug] Trained a tree with leaves = 31 and depth = 10\n",
      "[LightGBM] [Debug] Trained a tree with leaves = 31 and depth = 12\n",
      "[LightGBM] [Debug] Trained a tree with leaves = 31 and depth = 11\n",
      "[LightGBM] [Debug] Trained a tree with leaves = 31 and depth = 12\n",
      "[LightGBM] [Debug] Trained a tree with leaves = 31 and depth = 13\n",
      "[LightGBM] [Debug] Trained a tree with leaves = 31 and depth = 11\n",
      "[LightGBM] [Debug] Trained a tree with leaves = 31 and depth = 13\n",
      "[LightGBM] [Debug] Trained a tree with leaves = 31 and depth = 13\n",
      "[LightGBM] [Debug] Trained a tree with leaves = 31 and depth = 13\n",
      "[LightGBM] [Debug] Trained a tree with leaves = 31 and depth = 13\n",
      "[LightGBM] [Debug] Trained a tree with leaves = 31 and depth = 13\n",
      "[LightGBM] [Debug] Trained a tree with leaves = 31 and depth = 13\n",
      "[LightGBM] [Debug] Trained a tree with leaves = 31 and depth = 13\n",
      "[LightGBM] [Debug] Trained a tree with leaves = 31 and depth = 13\n",
      "[LightGBM] [Debug] Trained a tree with leaves = 31 and depth = 13\n",
      "[LightGBM] [Debug] Trained a tree with leaves = 31 and depth = 13\n",
      "[LightGBM] [Debug] Trained a tree with leaves = 31 and depth = 12\n",
      "[LightGBM] [Debug] Trained a tree with leaves = 31 and depth = 13\n",
      "[LightGBM] [Warning] No further splits with positive gain, best gain: -inf\n",
      "[LightGBM] [Debug] Trained a tree with leaves = 23 and depth = 13\n",
      "[LightGBM] [Warning] No further splits with positive gain, best gain: -inf\n",
      "[LightGBM] [Debug] Trained a tree with leaves = 28 and depth = 13\n",
      "[LightGBM] [Debug] Trained a tree with leaves = 31 and depth = 12\n",
      "[LightGBM] [Debug] Trained a tree with leaves = 31 and depth = 13\n",
      "[LightGBM] [Warning] No further splits with positive gain, best gain: -inf\n",
      "[LightGBM] [Debug] Trained a tree with leaves = 28 and depth = 13\n",
      "[LightGBM] [Debug] Trained a tree with leaves = 31 and depth = 13\n",
      "[13:44:10] WARNING: C:/Users/administrator/workspace/xgboost-win64_release_1.6.0/src/learner.cc:627: \n",
      "Parameters: { \"verbose\" } might not be used.\n",
      "\n",
      "  This could be a false alarm, with some parameters getting used by language bindings but\n",
      "  then being mistakenly passed down to XGBoost core, or some parameter actually being used\n",
      "  but getting flagged wrongly here. Please open an issue if you find any such cases.\n",
      "\n",
      "\n",
      "[13:44:10] WARNING: C:/Users/administrator/workspace/xgboost-win64_release_1.6.0/src/learner.cc:627: \n",
      "Parameters: { \"verbose\" } might not be used.\n",
      "\n",
      "  This could be a false alarm, with some parameters getting used by language bindings but\n",
      "  then being mistakenly passed down to XGBoost core, or some parameter actually being used\n",
      "  but getting flagged wrongly here. Please open an issue if you find any such cases.\n",
      "\n",
      "\n",
      "[13:44:10] WARNING: C:/Users/administrator/workspace/xgboost-win64_release_1.6.0/src/learner.cc:627: \n",
      "Parameters: { \"verbose\" } might not be used.\n",
      "\n",
      "  This could be a false alarm, with some parameters getting used by language bindings but\n",
      "  then being mistakenly passed down to XGBoost core, or some parameter actually being used\n",
      "  but getting flagged wrongly here. Please open an issue if you find any such cases.\n",
      "\n",
      "\n",
      "[13:44:10] WARNING: C:/Users/administrator/workspace/xgboost-win64_release_1.6.0/src/learner.cc:627: \n",
      "Parameters: { \"verbose\" } might not be used.\n",
      "\n",
      "  This could be a false alarm, with some parameters getting used by language bindings but\n",
      "  then being mistakenly passed down to XGBoost core, or some parameter actually being used\n",
      "  but getting flagged wrongly here. Please open an issue if you find any such cases.\n",
      "\n",
      "\n",
      "[13:44:10] WARNING: C:/Users/administrator/workspace/xgboost-win64_release_1.6.0/src/learner.cc:627: \n",
      "Parameters: { \"verbose\" } might not be used.\n",
      "\n",
      "  This could be a false alarm, with some parameters getting used by language bindings but\n",
      "  then being mistakenly passed down to XGBoost core, or some parameter actually being used\n",
      "  but getting flagged wrongly here. Please open an issue if you find any such cases.\n",
      "\n",
      "\n",
      "Wall time: 558 ms\n"
     ]
    },
    {
     "data": {
      "text/html": [
       "<div>\n",
       "<style scoped>\n",
       "    .dataframe tbody tr th:only-of-type {\n",
       "        vertical-align: middle;\n",
       "    }\n",
       "\n",
       "    .dataframe tbody tr th {\n",
       "        vertical-align: top;\n",
       "    }\n",
       "\n",
       "    .dataframe thead th {\n",
       "        text-align: right;\n",
       "    }\n",
       "</style>\n",
       "<table border=\"1\" class=\"dataframe\">\n",
       "  <thead>\n",
       "    <tr style=\"text-align: right;\">\n",
       "      <th></th>\n",
       "      <th>model name</th>\n",
       "      <th>cross_val_score</th>\n",
       "    </tr>\n",
       "  </thead>\n",
       "  <tbody>\n",
       "    <tr>\n",
       "      <th>0</th>\n",
       "      <td>DecisionTreeRegressor</td>\n",
       "      <td>-6.931644</td>\n",
       "    </tr>\n",
       "    <tr>\n",
       "      <th>1</th>\n",
       "      <td>LGBMRegressor</td>\n",
       "      <td>-6.017736</td>\n",
       "    </tr>\n",
       "    <tr>\n",
       "      <th>2</th>\n",
       "      <td>XGBRegressor</td>\n",
       "      <td>-6.015891</td>\n",
       "    </tr>\n",
       "    <tr>\n",
       "      <th>3</th>\n",
       "      <td>LinearRegression</td>\n",
       "      <td>-6.106215</td>\n",
       "    </tr>\n",
       "  </tbody>\n",
       "</table>\n",
       "</div>"
      ],
      "text/plain": [
       "              model name  cross_val_score\n",
       "0  DecisionTreeRegressor        -6.931644\n",
       "1          LGBMRegressor        -6.017736\n",
       "2           XGBRegressor        -6.015891\n",
       "3       LinearRegression        -6.106215"
      ]
     },
     "execution_count": 46,
     "metadata": {},
     "output_type": "execute_result"
    }
   ],
   "source": [
    "%%time\n",
    "\n",
    "models = [DecisionTreeRegressor(random_state = random_state, max_depth = 6, min_samples_leaf = 13), \n",
    "          LGBMRegressor(random_state=random_state,  max_depth = 13, n_estimators = 41, verbose=10),\n",
    "          XGBRegressor(random_state=random_state,  max_depth = 2, n_estimators = 81, verbose=10),\n",
    "          LinearRegression()]\n",
    "\n",
    "\n",
    "results = []\n",
    "\n",
    "for model in models:\n",
    "    abs = cross_val_score(model, \n",
    "                          features_train, \n",
    "                          target_train, \n",
    "                          cv=cv, scoring='neg_mean_absolute_error').mean()\n",
    "    \n",
    "    results.append({'model name': model.__class__.__name__, \n",
    "                              'cross_val_score': abs, \n",
    "                              })\n",
    "pd.DataFrame(results)"
   ]
  },
  {
   "cell_type": "markdown",
   "id": "682e7a9a",
   "metadata": {},
   "source": [
    "Conclusion: the MAE metric turned out to be negative, but by definition it is a positive value. Since it is an error metric, the lower it is, the better. In this case, the XGBRegressor and LGBMRegressor models have almost the same metric. So one of these models is suitable for learning on the test. We will use LGBMRegressor"
   ]
  },
  {
   "cell_type": "markdown",
   "id": "20df8fe9",
   "metadata": {},
   "source": [
    "## 3.4. Testing the best model"
   ]
  },
  {
   "cell_type": "code",
   "execution_count": 47,
   "id": "3b9434dc",
   "metadata": {
    "scrolled": true
   },
   "outputs": [
    {
     "name": "stdout",
     "output_type": "stream",
     "text": [
      "[LightGBM] [Warning] Accuracy may be bad since you didn't explicitly set num_leaves OR 2^max_depth > num_leaves. (num_leaves=31).\n",
      "[LightGBM] [Warning] Accuracy may be bad since you didn't explicitly set num_leaves OR 2^max_depth > num_leaves. (num_leaves=31).\n",
      "[LightGBM] [Debug] Dataset::GetMultiBinFromSparseFeatures: sparse rate 0.893260\n",
      "[LightGBM] [Debug] Dataset::GetMultiBinFromAllFeatures: sparse rate 0.501677\n",
      "[LightGBM] [Debug] init for col-wise cost 0.000396 seconds, init for row-wise cost 0.000444 seconds\n",
      "[LightGBM] [Warning] Auto-choosing col-wise multi-threading, the overhead of testing was 0.000552 seconds.\n",
      "You can set `force_col_wise=true` to remove the overhead.\n",
      "[LightGBM] [Info] Total Bins 2085\n",
      "[LightGBM] [Info] Number of data points in the train set: 1863, number of used features: 17\n",
      "[LightGBM] [Info] Start training from score 1593.395598\n",
      "[LightGBM] [Debug] Trained a tree with leaves = 31 and depth = 8\n",
      "[LightGBM] [Debug] Trained a tree with leaves = 31 and depth = 7\n",
      "[LightGBM] [Debug] Trained a tree with leaves = 31 and depth = 7\n",
      "[LightGBM] [Debug] Trained a tree with leaves = 31 and depth = 8\n",
      "[LightGBM] [Debug] Trained a tree with leaves = 31 and depth = 8\n",
      "[LightGBM] [Debug] Trained a tree with leaves = 31 and depth = 8\n",
      "[LightGBM] [Debug] Trained a tree with leaves = 31 and depth = 8\n",
      "[LightGBM] [Debug] Trained a tree with leaves = 31 and depth = 8\n",
      "[LightGBM] [Debug] Trained a tree with leaves = 31 and depth = 10\n",
      "[LightGBM] [Debug] Trained a tree with leaves = 31 and depth = 8\n",
      "[LightGBM] [Debug] Trained a tree with leaves = 31 and depth = 8\n",
      "[LightGBM] [Debug] Trained a tree with leaves = 31 and depth = 8\n",
      "[LightGBM] [Debug] Trained a tree with leaves = 31 and depth = 12\n",
      "[LightGBM] [Debug] Trained a tree with leaves = 31 and depth = 10\n",
      "[LightGBM] [Debug] Trained a tree with leaves = 31 and depth = 10\n",
      "[LightGBM] [Debug] Trained a tree with leaves = 31 and depth = 9\n",
      "[LightGBM] [Debug] Trained a tree with leaves = 31 and depth = 9\n",
      "[LightGBM] [Debug] Trained a tree with leaves = 31 and depth = 12\n",
      "[LightGBM] [Debug] Trained a tree with leaves = 31 and depth = 13\n",
      "[LightGBM] [Debug] Trained a tree with leaves = 31 and depth = 12\n",
      "[LightGBM] [Debug] Trained a tree with leaves = 31 and depth = 12\n",
      "[LightGBM] [Debug] Trained a tree with leaves = 31 and depth = 12\n",
      "[LightGBM] [Debug] Trained a tree with leaves = 31 and depth = 13\n",
      "[LightGBM] [Debug] Trained a tree with leaves = 31 and depth = 10\n",
      "[LightGBM] [Debug] Trained a tree with leaves = 31 and depth = 13\n",
      "[LightGBM] [Debug] Trained a tree with leaves = 31 and depth = 12\n",
      "[LightGBM] [Debug] Trained a tree with leaves = 31 and depth = 10\n",
      "[LightGBM] [Debug] Trained a tree with leaves = 31 and depth = 13\n",
      "[LightGBM] [Debug] Trained a tree with leaves = 31 and depth = 11\n",
      "[LightGBM] [Debug] Trained a tree with leaves = 31 and depth = 13\n",
      "[LightGBM] [Debug] Trained a tree with leaves = 31 and depth = 13\n",
      "[LightGBM] [Debug] Trained a tree with leaves = 31 and depth = 13\n",
      "[LightGBM] [Debug] Trained a tree with leaves = 31 and depth = 13\n",
      "[LightGBM] [Debug] Trained a tree with leaves = 31 and depth = 13\n",
      "[LightGBM] [Debug] Trained a tree with leaves = 31 and depth = 13\n",
      "[LightGBM] [Warning] No further splits with positive gain, best gain: -inf\n",
      "[LightGBM] [Debug] Trained a tree with leaves = 23 and depth = 13\n",
      "[LightGBM] [Warning] No further splits with positive gain, best gain: -inf\n",
      "[LightGBM] [Debug] Trained a tree with leaves = 30 and depth = 13\n",
      "[LightGBM] [Warning] No further splits with positive gain, best gain: -inf\n",
      "[LightGBM] [Debug] Trained a tree with leaves = 23 and depth = 13\n",
      "[LightGBM] [Debug] Trained a tree with leaves = 31 and depth = 13\n",
      "[LightGBM] [Warning] No further splits with positive gain, best gain: -inf\n",
      "[LightGBM] [Debug] Trained a tree with leaves = 22 and depth = 13\n",
      "[LightGBM] [Debug] Trained a tree with leaves = 31 and depth = 13\n",
      "MAE Metric Value  5.826151400521874\n",
      "Wall time: 61 ms\n"
     ]
    }
   ],
   "source": [
    "%%time\n",
    "model = LGBMRegressor(random_state=random_state,  max_depth = 13, n_estimators = 41, verbose=10)\n",
    "model.fit(features_train, target_train)\n",
    "predict = model.predict(features_test)\n",
    "MAE = mean_absolute_error(predict, target_test)\n",
    "print('MAE Metric Value ', MAE)"
   ]
  },
  {
   "cell_type": "markdown",
   "id": "8a8bed90",
   "metadata": {},
   "source": [
    "Let's carry out a factor analysis of features"
   ]
  },
  {
   "cell_type": "code",
   "execution_count": 48,
   "id": "6cad652f",
   "metadata": {},
   "outputs": [
    {
     "data": {
      "text/plain": [
       "Text(0.5, 1.0, 'Influence of factors on the target trait')"
      ]
     },
     "execution_count": 48,
     "metadata": {},
     "output_type": "execute_result"
    },
    {
     "data": {
      "image/png": "[encoded data removed]",
      "text/plain": [
       "<Figure size 864x576 with 1 Axes>"
      ]
     },
     "metadata": {
      "needs_background": "light"
     },
     "output_type": "display_data"
    }
   ],
   "source": [
    "importances = model.feature_importances_\n",
    "final_df = pd.DataFrame({\"Features\" : pd.DataFrame(features_train).columns, \"Importances\" : importances})\n",
    "\n",
    "final_df = final_df.sort_values('Importances')\n",
    "\n",
    "\n",
    "final_df.plot.bar(x = 'Features', color = 'teal', figsize=(12,8))\n",
    "plt.title('Influence of factors on the target trait')"
   ]
  },
  {
   "cell_type": "markdown",
   "id": "bc5aa342",
   "metadata": {},
   "source": [
    "From the resulting histogram, it can be seen that the features bulk_2, bulk_13, bulk_7, bulk_8, bulk_9, wire_9, wire_4, wire_7 do not affect the model at all, which means they can be removed from the model, and not used by the business for further tasks."
   ]
  },
  {
   "cell_type": "markdown",
   "id": "20f2ed2b",
   "metadata": {},
   "source": [
    "# 4. Conclusion"
   ]
  },
  {
   "cell_type": "markdown",
   "id": "cd145fa3",
   "metadata": {},
   "source": [
    "To solve the problem posed by the metallurgical plant \"Temper Steel\", a model was built to predict the temperature of the steel. To accomplish this task, the following decisions were made:\n",
    "\n",
    "* Data analysis was performed, anomalous values were determined, the necessary features for building a model were determined.\n",
    "* Prepared data and features. All the necessary features are combined with the removal of anomalies and omissions, and an assessment of multicollinearity is made.\n",
    "* 4 models trained with the best hyperparameters and one with the best MAE metric selected.\n",
    "* The estimate of the best model (LGBMRegressor) on the test set is obtained\n",
    "\n",
    "The MAE metric on the test sample turned out to be 5.82, which allows us to recommend this model for solving further business problems."
   ]
  },
  {
   "cell_type": "markdown",
   "id": "3bd0bed0",
   "metadata": {},
   "source": [
    "# 5. Report"
   ]
  },
  {
   "cell_type": "markdown",
   "id": "d4d78f0d",
   "metadata": {},
   "source": [
    "## 5.1. The process of steel processing in the metallurgical plant  \"Temper Steel\""
   ]
  },
  {
   "cell_type": "markdown",
   "id": "a932ca28",
   "metadata": {},
   "source": [
    "When processing steel in the metallurgical plant \"Temper Steel\", there is a question of reducing energy costs in the process of steel production by the most accurate prediction of its temperature. The steelmaking process itself consists of several cycles of processing steel in a 100-ton metal ladle treated with refractory material and capable of withstanding high temperatures. The cycle consists of heating a metal mixture with graphite electrodes and measuring the initial temperature, after which sulfur is removed from the alloy, the chemical composition is measured, an inert gas is blown and bulk materials and wire are added to change its composition. All this directly affects the final temperature of the alloy. For some batch, several cycles of the process are sufficient, and for some batches, the number of cycles can be a multiple higher.\n",
    "\n",
    "Understand the intricacies of the process, find the main factors that affect temperature and help businesses reduce energy costs with a model built on the basis of machine learning."
   ]
  },
  {
   "cell_type": "markdown",
   "id": "0b694979",
   "metadata": {},
   "source": [
    "## 5.2. Dataset to Explore and Model."
   ]
  },
  {
   "cell_type": "markdown",
   "id": "4632dbfc",
   "metadata": {},
   "source": [
    "To conduct the study, the plant proposed a set of data included in the production process. This set consists of 7 tables linked by batches of steel processing:\n",
    "\n",
    "* Separately, a table with the parameters of the electrodes for each batch is highlighted, where active and reactive powers are highlighted with the heating time and disconnection of the electrodes in the cycle of each batch.\n",
    "* The table of volumes of bulk materials is represented by 15 volumes of additives\n",
    "* Table with time data for adding 15 volumes of bulk materials.\n",
    "* Table with gas purge volumes for each batch\n",
    "* Table with dates and temperature measurements for each cycle in batches\n",
    "* Table with data on 9 amounts of additives of wire materials\n",
    "* Table with time data for additions of 9 volumes of bulk materials\n",
    "\n",
    "Each table must have a key - the batch number, which links the information provided to each other"
   ]
  },
  {
   "cell_type": "markdown",
   "id": "75cbda43",
   "metadata": {},
   "source": [
    "## 5.3. Research process"
   ]
  },
  {
   "cell_type": "markdown",
   "id": "f5731041",
   "metadata": {},
   "source": [
    "Before building the model, each data set was studied separately, anomalous values were found, gaps were removed, the importance of adding a factor to the model was determined, after which the data were combined into a common feature table.\n",
    "\n",
    "The electrode data table has 3214 batches and 14876 iterations included in these batches. There are no gaps in all signs. As a result of the analysis of statistical information, a large anomalous negative value of reactive power was revealed, which strongly affects the average and median. A lot where this value is present was excluded from the sample. Without this anomaly, there is a strong correlation between the values of active and reactive power. It was customary to leave the rest of the positive values that stand out from the general mass due to the possibility of the existence of such values in reality and in order to reduce the optimism of the model.\n",
    "\n",
    "The table of volumes of bulk materials contains 3129 batches. For each batch, 15 volumes of bulk materials are presented, and each batch contains a different number of volumes, hence there are gaps in the features. In order not to lose the informativeness of the data, the gaps were filled with zeros.\n",
    "\n",
    "The table with data on the time of adding bulk materials completely repeats the previous table in terms of the amount of data and gaps. When analyzing the time, it was found that in each batch part of the additives is introduced simultaneously, it is also worth noting that some of the time values for adding the additive are earlier than the first temperature measurement, which is incorrect for this task. In practice, it is worth deleting such batches, but due to limited data, we risk losing most of the values, which can lead to an increase in the optimism of the model. Based on this, it is customary not to use this table as features for building a model.\n",
    "\n",
    "The table with gas purge volumes contains 3239 batches. The distribution of gas volumes varies widely. Decided not to remove outliers as they may exist in a business environment.\n",
    "\n",
    "The table with dates and temperature measurements contains 3216 values, 15907 measurements. The \"Temperature\" feature contains gaps that have been removed. In these measurements, there are values below the passport melting temperature of steel, which indicates the presence of either another alloy, or incorrect measurements. All parties with such measurements were removed.\n",
    "\n",
    "The table with data on the volume of additions of wire materials contains 3081 batches and 9 volumes. The main amount of additives in batches for the first and second volumes, hence there are gaps in the features. To avoid data loss, gaps are filled with zeros.\n",
    "\n",
    "The table with data on the time of adding wire completely repeats the previous table in terms of the number of data and gaps. When analyzing the time, a similar situation was found with the time of adding bulk materials - some of the measurements take place earlier than the first temperature measurement. In order not to lose a large amount of data, it is customary not to use this table to build a model."
   ]
  },
  {
   "cell_type": "markdown",
   "id": "20de9b23",
   "metadata": {},
   "source": [
    "## 5.4. Data preparation process"
   ]
  },
  {
   "cell_type": "markdown",
   "id": "3dcf839f",
   "metadata": {},
   "source": [
    "During data preprocessing, all of the above gaps were filled with zeros, batches with no temperature were removed, a large reactive power anomaly was also removed, and temperatures below 1400 were also removed.\n",
    "\n",
    "For each batch, the values of active and reactive power were summed up. The values of the first and last temperature measurements were highlighted, and the values with the same measurement time were also deleted.\n",
    "\n",
    "Further, all the features necessary for creating the model were combined - prepared data from temperature measurements and total active and reactive powers, volumes of bulk materials, wire and gases.\n",
    "\n",
    "In the resulting feature table, the data types were replaced from float to int. The features were checked for multicollinearity; as a result of the analysis of the resulting graph, one of the two features with correlation values > 0.9 was removed: reactive power, 8 the volume of wire materials. Also removed volume 5 wire materials due to missing any values."
   ]
  },
  {
   "cell_type": "markdown",
   "id": "6c877e31",
   "metadata": {},
   "source": [
    "## 5.5. Model training and testing"
   ]
  },
  {
   "cell_type": "markdown",
   "id": "d4b1d273",
   "metadata": {},
   "source": [
    "After completion of the analysis and data preprocessing, the target feature (final temperature) was separated from the rest. The features are divided into training and test samples in a ratio of 4:1. In order for the output model to receive predictions in the form of real numbers (temperature values), it is necessary to solve the regression problem. The following models suitable for this stage of training were chosen:\n",
    "\n",
    "* LinearRegression;\n",
    "* DecisionTreeRegressor;\n",
    "* LGBMRegressor;\n",
    "* XGBRegressor\n",
    "\n",
    "The Mean Absolute Error (MAE) metric is most appropriate for evaluating models.\n",
    "\n",
    "The written hyperparameter selection function made it possible to obtain the necessary values for each model. These models with final hyperparameters were trained on cross-validation. The best models in terms of the MAE metric on the training set were LGBMRegressor and XGBRegressor with almost the same values.\n",
    "\n",
    "As a result, the LGBMRegressor model was tested, which was able to reach the MAE metric - 5.82.\n",
    "\n",
    "As a result, a graph of the influence of factors on temperature was constructed. As a result, it turned out that the features bulk_2, bulk_13, bulk_7, bulk_8, bulk_9, wire_9, wire_4, wire_7 do not affect the model at all, which means that they can be removed from the model, and business should not be taken into account when solving this problem."
   ]
  },
  {
   "cell_type": "markdown",
   "id": "3fdff33a",
   "metadata": {},
   "source": [
    "## 5.6. Results"
   ]
  },
  {
   "cell_type": "markdown",
   "id": "006484a2",
   "metadata": {},
   "source": [
    "The model obtained in the course of solving the problem can be used to determine the final temperature of the alloy. However, the mill should pay attention to the initial temperature of the alloy, since this factor greatly affects the target trait. If the business manages to control this parameter through other factors, then it will be possible to reduce energy costs.\n",
    "\n",
    "All points of the original plan were completed in the report. As such, there were no difficulties in solving this problem; good data processing and preparation and selection of hyperparameters made it possible to achieve a satisfying MAE metric."
   ]
  }
 ],
 "metadata": {
  "ExecuteTimeLog": [
   {
    "duration": 1152,
    "start_time": "2022-08-31T09:10:52.440Z"
   },
   {
    "duration": 143,
    "start_time": "2022-08-31T09:10:53.595Z"
   },
   {
    "duration": 200,
    "start_time": "2022-08-31T09:12:28.220Z"
   },
   {
    "duration": 23,
    "start_time": "2022-08-31T09:17:48.915Z"
   },
   {
    "duration": 10,
    "start_time": "2022-08-31T09:17:55.438Z"
   },
   {
    "duration": 8714,
    "start_time": "2022-08-31T09:17:55.936Z"
   },
   {
    "duration": 4338,
    "start_time": "2022-08-31T09:18:04.652Z"
   },
   {
    "duration": 11,
    "start_time": "2022-08-31T09:20:35.972Z"
   },
   {
    "duration": 185,
    "start_time": "2022-08-31T09:20:36.649Z"
   },
   {
    "duration": 13,
    "start_time": "2022-08-31T09:20:38.466Z"
   },
   {
    "duration": 294,
    "start_time": "2022-08-31T09:20:42.797Z"
   },
   {
    "duration": 1651,
    "start_time": "2022-08-31T09:20:44.021Z"
   },
   {
    "duration": 5,
    "start_time": "2022-08-31T09:20:47.936Z"
   },
   {
    "duration": 29,
    "start_time": "2022-08-31T09:26:05.719Z"
   },
   {
    "duration": 55,
    "start_time": "2022-08-31T09:28:24.513Z"
   },
   {
    "duration": 7,
    "start_time": "2022-08-31T09:28:50.641Z"
   },
   {
    "duration": 1107,
    "start_time": "2022-08-31T09:28:54.571Z"
   },
   {
    "duration": 194,
    "start_time": "2022-08-31T09:28:59.300Z"
   },
   {
    "duration": 23,
    "start_time": "2022-08-31T09:29:00.712Z"
   },
   {
    "duration": 9,
    "start_time": "2022-08-31T09:29:01.168Z"
   },
   {
    "duration": 143,
    "start_time": "2022-08-31T09:29:01.330Z"
   },
   {
    "duration": 242,
    "start_time": "2022-08-31T09:29:01.487Z"
   },
   {
    "duration": 9,
    "start_time": "2022-08-31T09:29:02.557Z"
   },
   {
    "duration": 135,
    "start_time": "2022-08-31T09:29:02.728Z"
   },
   {
    "duration": 11,
    "start_time": "2022-08-31T09:29:03.073Z"
   },
   {
    "duration": 201,
    "start_time": "2022-08-31T09:29:03.231Z"
   },
   {
    "duration": 4,
    "start_time": "2022-08-31T09:29:03.716Z"
   },
   {
    "duration": 5,
    "start_time": "2022-08-31T09:29:04.247Z"
   },
   {
    "duration": 28,
    "start_time": "2022-08-31T09:29:04.547Z"
   },
   {
    "duration": 85,
    "start_time": "2022-08-31T09:29:04.722Z"
   },
   {
    "duration": 26,
    "start_time": "2022-08-31T09:29:05.689Z"
   },
   {
    "duration": 16,
    "start_time": "2022-08-31T09:29:08.132Z"
   },
   {
    "duration": 9,
    "start_time": "2022-08-31T09:29:09.225Z"
   },
   {
    "duration": 117,
    "start_time": "2022-08-31T09:29:09.422Z"
   },
   {
    "duration": 215,
    "start_time": "2022-08-31T09:29:09.598Z"
   },
   {
    "duration": 59,
    "start_time": "2022-08-31T09:29:10.396Z"
   },
   {
    "duration": 8,
    "start_time": "2022-08-31T09:29:10.753Z"
   },
   {
    "duration": 9,
    "start_time": "2022-08-31T09:29:10.926Z"
   },
   {
    "duration": 8,
    "start_time": "2022-08-31T09:29:11.099Z"
   },
   {
    "duration": 197,
    "start_time": "2022-08-31T09:29:43.632Z"
   },
   {
    "duration": 17,
    "start_time": "2022-08-31T09:29:52.473Z"
   },
   {
    "duration": 9,
    "start_time": "2022-08-31T09:29:53.203Z"
   },
   {
    "duration": 183,
    "start_time": "2022-08-31T09:29:53.373Z"
   },
   {
    "duration": 5,
    "start_time": "2022-08-31T09:29:53.558Z"
   },
   {
    "duration": 21,
    "start_time": "2022-08-31T09:29:54.054Z"
   },
   {
    "duration": 49,
    "start_time": "2022-08-31T09:29:54.228Z"
   },
   {
    "duration": 21,
    "start_time": "2022-08-31T09:29:55.128Z"
   },
   {
    "duration": 2048,
    "start_time": "2022-09-02T09:07:20.855Z"
   },
   {
    "duration": 455,
    "start_time": "2022-09-02T09:07:22.905Z"
   },
   {
    "duration": 26,
    "start_time": "2022-09-02T09:07:27.371Z"
   },
   {
    "duration": 10,
    "start_time": "2022-09-02T09:07:29.098Z"
   },
   {
    "duration": 133,
    "start_time": "2022-09-02T09:07:29.329Z"
   },
   {
    "duration": 214,
    "start_time": "2022-09-02T09:07:29.944Z"
   },
   {
    "duration": 8,
    "start_time": "2022-09-02T09:07:32.736Z"
   },
   {
    "duration": 198,
    "start_time": "2022-09-02T09:07:32.881Z"
   },
   {
    "duration": 11,
    "start_time": "2022-09-02T09:07:33.196Z"
   },
   {
    "duration": 189,
    "start_time": "2022-09-02T09:07:33.364Z"
   },
   {
    "duration": 8,
    "start_time": "2022-09-02T09:07:33.555Z"
   },
   {
    "duration": 5,
    "start_time": "2022-09-02T09:07:41.208Z"
   },
   {
    "duration": 28,
    "start_time": "2022-09-02T09:07:44.486Z"
   },
   {
    "duration": 84,
    "start_time": "2022-09-02T09:07:50.853Z"
   },
   {
    "duration": 2766,
    "start_time": "2022-09-02T20:05:45.076Z"
   },
   {
    "duration": 202,
    "start_time": "2022-09-02T20:05:47.844Z"
   },
   {
    "duration": 29,
    "start_time": "2022-09-02T20:05:48.313Z"
   },
   {
    "duration": 10,
    "start_time": "2022-09-02T20:05:49.358Z"
   },
   {
    "duration": 147,
    "start_time": "2022-09-02T20:05:49.563Z"
   },
   {
    "duration": 233,
    "start_time": "2022-09-02T20:05:49.720Z"
   },
   {
    "duration": 9,
    "start_time": "2022-09-02T20:05:51.211Z"
   },
   {
    "duration": 196,
    "start_time": "2022-09-02T20:05:51.416Z"
   },
   {
    "duration": 10,
    "start_time": "2022-09-02T20:05:52.261Z"
   },
   {
    "duration": 237,
    "start_time": "2022-09-02T20:05:52.779Z"
   },
   {
    "duration": 13,
    "start_time": "2022-09-02T20:05:53.018Z"
   },
   {
    "duration": 5,
    "start_time": "2022-09-02T20:05:54.180Z"
   },
   {
    "duration": 32,
    "start_time": "2022-09-02T20:05:57.316Z"
   },
   {
    "duration": 1438,
    "start_time": "2022-09-02T20:05:57.505Z"
   },
   {
    "duration": 25,
    "start_time": "2022-09-02T20:05:58.945Z"
   },
   {
    "duration": 17,
    "start_time": "2022-09-02T20:05:59.758Z"
   },
   {
    "duration": 10,
    "start_time": "2022-09-02T20:06:00.272Z"
   },
   {
    "duration": 128,
    "start_time": "2022-09-02T20:06:00.470Z"
   },
   {
    "duration": 236,
    "start_time": "2022-09-02T20:06:00.633Z"
   },
   {
    "duration": 19,
    "start_time": "2022-09-02T20:06:01.666Z"
   },
   {
    "duration": 16,
    "start_time": "2022-09-02T20:06:02.234Z"
   },
   {
    "duration": 122,
    "start_time": "2022-09-02T20:06:02.424Z"
   },
   {
    "duration": 6,
    "start_time": "2022-09-02T20:06:02.802Z"
   },
   {
    "duration": 24,
    "start_time": "2022-09-02T20:06:03.969Z"
   },
   {
    "duration": 967,
    "start_time": "2022-09-02T20:06:04.285Z"
   },
   {
    "duration": 32,
    "start_time": "2022-09-02T20:06:11.772Z"
   },
   {
    "duration": 32,
    "start_time": "2022-09-02T20:06:13.837Z"
   },
   {
    "duration": 20,
    "start_time": "2022-09-02T20:06:14.510Z"
   },
   {
    "duration": 24,
    "start_time": "2022-09-02T20:06:15.540Z"
   },
   {
    "duration": 475,
    "start_time": "2022-09-02T20:06:16.985Z"
   },
   {
    "duration": 24,
    "start_time": "2022-09-02T20:06:17.627Z"
   },
   {
    "duration": 33,
    "start_time": "2022-09-02T20:06:27.830Z"
   },
   {
    "duration": 7,
    "start_time": "2022-09-02T20:06:36.548Z"
   },
   {
    "duration": 19,
    "start_time": "2022-09-02T20:06:37.241Z"
   },
   {
    "duration": 11,
    "start_time": "2022-09-02T20:06:37.808Z"
   },
   {
    "duration": 36,
    "start_time": "2022-09-02T20:26:12.787Z"
   },
   {
    "duration": 4711,
    "start_time": "2022-09-02T20:26:14.179Z"
   },
   {
    "duration": 14,
    "start_time": "2022-09-02T20:26:18.892Z"
   },
   {
    "duration": 9,
    "start_time": "2022-09-02T20:26:24.325Z"
   },
   {
    "duration": 3,
    "start_time": "2022-09-02T20:26:25.867Z"
   },
   {
    "duration": 9141,
    "start_time": "2022-09-02T20:26:27.528Z"
   },
   {
    "duration": 749835,
    "start_time": "2022-09-02T20:26:36.670Z"
   },
   {
    "duration": 12003,
    "start_time": "2022-09-02T20:39:06.506Z"
   },
   {
    "duration": 13045,
    "start_time": "2022-09-02T20:39:18.511Z"
   },
   {
    "duration": 540,
    "start_time": "2022-09-02T20:39:31.558Z"
   },
   {
    "duration": 329,
    "start_time": "2022-09-02T20:39:32.099Z"
   }
  ],
  "kernelspec": {
   "display_name": "Python 3",
   "language": "python",
   "name": "python3"
  },
  "language_info": {
   "codemirror_mode": {
    "name": "ipython",
    "version": 3
   },
   "file_extension": ".py",
   "mimetype": "text/x-python",
   "name": "python",
   "nbconvert_exporter": "python",
   "pygments_lexer": "ipython3",
   "version": "3.8.8"
  },
  "toc": {
   "base_numbering": 1,
   "nav_menu": {},
   "number_sections": true,
   "sideBar": true,
   "skip_h1_title": true,
   "title_cell": "Table of Contents",
   "title_sidebar": "Contents",
   "toc_cell": false,
   "toc_position": {},
   "toc_section_display": true,
   "toc_window_display": false
  }
 },
 "nbformat": 4,
 "nbformat_minor": 5
}
